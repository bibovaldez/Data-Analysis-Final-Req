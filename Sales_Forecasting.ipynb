{
 "cells": [
  {
   "cell_type": "markdown",
   "metadata": {},
   "source": [
    "## Store Sales Forecasting"
   ]
  },
  {
   "cell_type": "markdown",
   "metadata": {},
   "source": [
    "Packages"
   ]
  },
  {
   "cell_type": "code",
   "execution_count": 1,
   "metadata": {},
   "outputs": [],
   "source": [
    "import pandas as pd\n",
    "import numpy as np\n",
    "import matplotlib.pyplot as plt\n",
    "import seaborn as sns\n",
    "import plotly.express as px"
   ]
  },
  {
   "cell_type": "markdown",
   "metadata": {},
   "source": [
    "# 1. Data Collection"
   ]
  },
  {
   "cell_type": "markdown",
   "metadata": {},
   "source": [
    "#### 1.1. Describe the data set.\n",
    "The dataset is a comprehensive collection of over **9000+ orders** from various customers across different regions. It comprises **17 columns** and **9800 rows**.\n",
    "\n",
    "Our goal is to **predict the sales** of the products based on the given features.\n",
    "\n",
    "## **Features**\n",
    "1. **Row ID** \n",
    "2. **Order ID**: Unique ID for each order\n",
    "3. **Order Date**: Date of the order\n",
    "4. **Ship Date**: Date of the shipment\n",
    "5. **Ship Mode**: Mode of shipment\n",
    "6. **Customer ID**: Unique ID for each customer\n",
    "7. **Customer Name**: Name of the customer\n",
    "8. **Segment**: Segment of the customer\n",
    "9. **Country**: Country of the customer\n",
    "10. **City**: City of the customer\n",
    "11. **State**: State of the customer\n",
    "12. **Postal Code**: Postal code of the customer\n",
    "13. **Region**: Region of the customer\n",
    "14. **Product ID**: Unique ID for each product\n",
    "15. **Category**: Category of the product\n",
    "16. **Sub-Category**: Sub-Category of the product\n",
    "17. **Product Name**: Name of the product\n",
    "18. **Sales**: Sales of the product\n",
    "\n",
    "To access the dataset, click [https://www.kaggle.com/datasets/rohitsahoo/sales-forecasting/data](https://www.kaggle.com/datasets/rohitsahoo/sales-forecasting/data)."
   ]
  },
  {
   "cell_type": "code",
   "execution_count": 2,
   "metadata": {},
   "outputs": [],
   "source": [
    "# load CSV file \n",
    "df = pd.read_csv(\"C:/Users/bibov/OneDrive/Documents/Data Analysis Final Req/train.csv\")"
   ]
  },
  {
   "cell_type": "code",
   "execution_count": 3,
   "metadata": {},
   "outputs": [
    {
     "data": {
      "text/html": [
       "<div>\n",
       "<style scoped>\n",
       "    .dataframe tbody tr th:only-of-type {\n",
       "        vertical-align: middle;\n",
       "    }\n",
       "\n",
       "    .dataframe tbody tr th {\n",
       "        vertical-align: top;\n",
       "    }\n",
       "\n",
       "    .dataframe thead th {\n",
       "        text-align: right;\n",
       "    }\n",
       "</style>\n",
       "<table border=\"1\" class=\"dataframe\">\n",
       "  <thead>\n",
       "    <tr style=\"text-align: right;\">\n",
       "      <th></th>\n",
       "      <th>Row ID</th>\n",
       "      <th>Order ID</th>\n",
       "      <th>Order Date</th>\n",
       "      <th>Ship Date</th>\n",
       "      <th>Ship Mode</th>\n",
       "      <th>Customer ID</th>\n",
       "      <th>Customer Name</th>\n",
       "      <th>Segment</th>\n",
       "      <th>Country</th>\n",
       "      <th>City</th>\n",
       "      <th>State</th>\n",
       "      <th>Postal Code</th>\n",
       "      <th>Region</th>\n",
       "      <th>Product ID</th>\n",
       "      <th>Category</th>\n",
       "      <th>Sub-Category</th>\n",
       "      <th>Product Name</th>\n",
       "      <th>Sales</th>\n",
       "    </tr>\n",
       "  </thead>\n",
       "  <tbody>\n",
       "    <tr>\n",
       "      <th>0</th>\n",
       "      <td>1</td>\n",
       "      <td>CA-2017-152156</td>\n",
       "      <td>08/11/2017</td>\n",
       "      <td>11/11/2017</td>\n",
       "      <td>Second Class</td>\n",
       "      <td>CG-12520</td>\n",
       "      <td>Claire Gute</td>\n",
       "      <td>Consumer</td>\n",
       "      <td>United States</td>\n",
       "      <td>Henderson</td>\n",
       "      <td>Kentucky</td>\n",
       "      <td>42420.0</td>\n",
       "      <td>South</td>\n",
       "      <td>FUR-BO-10001798</td>\n",
       "      <td>Furniture</td>\n",
       "      <td>Bookcases</td>\n",
       "      <td>Bush Somerset Collection Bookcase</td>\n",
       "      <td>261.9600</td>\n",
       "    </tr>\n",
       "    <tr>\n",
       "      <th>1</th>\n",
       "      <td>2</td>\n",
       "      <td>CA-2017-152156</td>\n",
       "      <td>08/11/2017</td>\n",
       "      <td>11/11/2017</td>\n",
       "      <td>Second Class</td>\n",
       "      <td>CG-12520</td>\n",
       "      <td>Claire Gute</td>\n",
       "      <td>Consumer</td>\n",
       "      <td>United States</td>\n",
       "      <td>Henderson</td>\n",
       "      <td>Kentucky</td>\n",
       "      <td>42420.0</td>\n",
       "      <td>South</td>\n",
       "      <td>FUR-CH-10000454</td>\n",
       "      <td>Furniture</td>\n",
       "      <td>Chairs</td>\n",
       "      <td>Hon Deluxe Fabric Upholstered Stacking Chairs,...</td>\n",
       "      <td>731.9400</td>\n",
       "    </tr>\n",
       "    <tr>\n",
       "      <th>2</th>\n",
       "      <td>3</td>\n",
       "      <td>CA-2017-138688</td>\n",
       "      <td>12/06/2017</td>\n",
       "      <td>16/06/2017</td>\n",
       "      <td>Second Class</td>\n",
       "      <td>DV-13045</td>\n",
       "      <td>Darrin Van Huff</td>\n",
       "      <td>Corporate</td>\n",
       "      <td>United States</td>\n",
       "      <td>Los Angeles</td>\n",
       "      <td>California</td>\n",
       "      <td>90036.0</td>\n",
       "      <td>West</td>\n",
       "      <td>OFF-LA-10000240</td>\n",
       "      <td>Office Supplies</td>\n",
       "      <td>Labels</td>\n",
       "      <td>Self-Adhesive Address Labels for Typewriters b...</td>\n",
       "      <td>14.6200</td>\n",
       "    </tr>\n",
       "    <tr>\n",
       "      <th>3</th>\n",
       "      <td>4</td>\n",
       "      <td>US-2016-108966</td>\n",
       "      <td>11/10/2016</td>\n",
       "      <td>18/10/2016</td>\n",
       "      <td>Standard Class</td>\n",
       "      <td>SO-20335</td>\n",
       "      <td>Sean O'Donnell</td>\n",
       "      <td>Consumer</td>\n",
       "      <td>United States</td>\n",
       "      <td>Fort Lauderdale</td>\n",
       "      <td>Florida</td>\n",
       "      <td>33311.0</td>\n",
       "      <td>South</td>\n",
       "      <td>FUR-TA-10000577</td>\n",
       "      <td>Furniture</td>\n",
       "      <td>Tables</td>\n",
       "      <td>Bretford CR4500 Series Slim Rectangular Table</td>\n",
       "      <td>957.5775</td>\n",
       "    </tr>\n",
       "    <tr>\n",
       "      <th>4</th>\n",
       "      <td>5</td>\n",
       "      <td>US-2016-108966</td>\n",
       "      <td>11/10/2016</td>\n",
       "      <td>18/10/2016</td>\n",
       "      <td>Standard Class</td>\n",
       "      <td>SO-20335</td>\n",
       "      <td>Sean O'Donnell</td>\n",
       "      <td>Consumer</td>\n",
       "      <td>United States</td>\n",
       "      <td>Fort Lauderdale</td>\n",
       "      <td>Florida</td>\n",
       "      <td>33311.0</td>\n",
       "      <td>South</td>\n",
       "      <td>OFF-ST-10000760</td>\n",
       "      <td>Office Supplies</td>\n",
       "      <td>Storage</td>\n",
       "      <td>Eldon Fold 'N Roll Cart System</td>\n",
       "      <td>22.3680</td>\n",
       "    </tr>\n",
       "  </tbody>\n",
       "</table>\n",
       "</div>"
      ],
      "text/plain": [
       "   Row ID        Order ID  Order Date   Ship Date       Ship Mode Customer ID  \\\n",
       "0       1  CA-2017-152156  08/11/2017  11/11/2017    Second Class    CG-12520   \n",
       "1       2  CA-2017-152156  08/11/2017  11/11/2017    Second Class    CG-12520   \n",
       "2       3  CA-2017-138688  12/06/2017  16/06/2017    Second Class    DV-13045   \n",
       "3       4  US-2016-108966  11/10/2016  18/10/2016  Standard Class    SO-20335   \n",
       "4       5  US-2016-108966  11/10/2016  18/10/2016  Standard Class    SO-20335   \n",
       "\n",
       "     Customer Name    Segment        Country             City       State  \\\n",
       "0      Claire Gute   Consumer  United States        Henderson    Kentucky   \n",
       "1      Claire Gute   Consumer  United States        Henderson    Kentucky   \n",
       "2  Darrin Van Huff  Corporate  United States      Los Angeles  California   \n",
       "3   Sean O'Donnell   Consumer  United States  Fort Lauderdale     Florida   \n",
       "4   Sean O'Donnell   Consumer  United States  Fort Lauderdale     Florida   \n",
       "\n",
       "   Postal Code Region       Product ID         Category Sub-Category  \\\n",
       "0      42420.0  South  FUR-BO-10001798        Furniture    Bookcases   \n",
       "1      42420.0  South  FUR-CH-10000454        Furniture       Chairs   \n",
       "2      90036.0   West  OFF-LA-10000240  Office Supplies       Labels   \n",
       "3      33311.0  South  FUR-TA-10000577        Furniture       Tables   \n",
       "4      33311.0  South  OFF-ST-10000760  Office Supplies      Storage   \n",
       "\n",
       "                                        Product Name     Sales  \n",
       "0                  Bush Somerset Collection Bookcase  261.9600  \n",
       "1  Hon Deluxe Fabric Upholstered Stacking Chairs,...  731.9400  \n",
       "2  Self-Adhesive Address Labels for Typewriters b...   14.6200  \n",
       "3      Bretford CR4500 Series Slim Rectangular Table  957.5775  \n",
       "4                     Eldon Fold 'N Roll Cart System   22.3680  "
      ]
     },
     "execution_count": 3,
     "metadata": {},
     "output_type": "execute_result"
    }
   ],
   "source": [
    "df.head()"
   ]
  },
  {
   "cell_type": "markdown",
   "metadata": {},
   "source": [
    "# 2. Data Preperation"
   ]
  },
  {
   "cell_type": "markdown",
   "metadata": {},
   "source": [
    "#### 2.1 Data Inspection 🔍\n",
    " Checking the data types, looking for missing values, and understanding the categorical feilds."
   ]
  },
  {
   "cell_type": "code",
   "execution_count": 4,
   "metadata": {},
   "outputs": [
    {
     "name": "stdout",
     "output_type": "stream",
     "text": [
      "<class 'pandas.core.frame.DataFrame'>\n",
      "RangeIndex: 9800 entries, 0 to 9799\n",
      "Data columns (total 18 columns):\n",
      " #   Column         Non-Null Count  Dtype  \n",
      "---  ------         --------------  -----  \n",
      " 0   Row ID         9800 non-null   int64  \n",
      " 1   Order ID       9800 non-null   object \n",
      " 2   Order Date     9800 non-null   object \n",
      " 3   Ship Date      9800 non-null   object \n",
      " 4   Ship Mode      9800 non-null   object \n",
      " 5   Customer ID    9800 non-null   object \n",
      " 6   Customer Name  9800 non-null   object \n",
      " 7   Segment        9800 non-null   object \n",
      " 8   Country        9800 non-null   object \n",
      " 9   City           9800 non-null   object \n",
      " 10  State          9800 non-null   object \n",
      " 11  Postal Code    9789 non-null   float64\n",
      " 12  Region         9800 non-null   object \n",
      " 13  Product ID     9800 non-null   object \n",
      " 14  Category       9800 non-null   object \n",
      " 15  Sub-Category   9800 non-null   object \n",
      " 16  Product Name   9800 non-null   object \n",
      " 17  Sales          9800 non-null   float64\n",
      "dtypes: float64(2), int64(1), object(15)\n",
      "memory usage: 1.3+ MB\n"
     ]
    }
   ],
   "source": [
    "# checking the data \n",
    "df.info()"
   ]
  },
  {
   "cell_type": "code",
   "execution_count": 5,
   "metadata": {},
   "outputs": [
    {
     "data": {
      "text/plain": [
       "(9800, 18)"
      ]
     },
     "execution_count": 5,
     "metadata": {},
     "output_type": "execute_result"
    }
   ],
   "source": [
    "# check the number of rows and columns\n",
    "df.shape"
   ]
  },
  {
   "cell_type": "markdown",
   "metadata": {},
   "source": [
    "#### 2.2 Data Cleaning 🧹\n",
    "Removing the missing values, duplicates, or irrelevant data. Also, we will be removing the columns that are not required for our analysis and for the ethical reasons.\n",
    "\n",
    "Transforming the data into a format that is suitable for analysis."
   ]
  },
  {
   "cell_type": "markdown",
   "metadata": {},
   "source": [
    "Based on the output of checking the data types, we can see that the data types of the date columns are not correct, and the postal code are in float type, postal codes are usually not used in mathematical operations, so we will change it to string type."
   ]
  },
  {
   "cell_type": "code",
   "execution_count": 6,
   "metadata": {},
   "outputs": [
    {
     "name": "stdout",
     "output_type": "stream",
     "text": [
      "<class 'pandas.core.frame.DataFrame'>\n",
      "RangeIndex: 9800 entries, 0 to 9799\n",
      "Data columns (total 18 columns):\n",
      " #   Column         Non-Null Count  Dtype         \n",
      "---  ------         --------------  -----         \n",
      " 0   Row ID         9800 non-null   int64         \n",
      " 1   Order ID       9800 non-null   object        \n",
      " 2   Order Date     9800 non-null   datetime64[ns]\n",
      " 3   Ship Date      9800 non-null   datetime64[ns]\n",
      " 4   Ship Mode      9800 non-null   object        \n",
      " 5   Customer ID    9800 non-null   object        \n",
      " 6   Customer Name  9800 non-null   object        \n",
      " 7   Segment        9800 non-null   object        \n",
      " 8   Country        9800 non-null   object        \n",
      " 9   City           9800 non-null   object        \n",
      " 10  State          9800 non-null   object        \n",
      " 11  Postal Code    9800 non-null   object        \n",
      " 12  Region         9800 non-null   object        \n",
      " 13  Product ID     9800 non-null   object        \n",
      " 14  Category       9800 non-null   object        \n",
      " 15  Sub-Category   9800 non-null   object        \n",
      " 16  Product Name   9800 non-null   object        \n",
      " 17  Sales          9800 non-null   float64       \n",
      "dtypes: datetime64[ns](2), float64(1), int64(1), object(14)\n",
      "memory usage: 1.3+ MB\n"
     ]
    }
   ],
   "source": [
    "# Date conversion\n",
    "df['Order Date'] = pd.to_datetime(df['Order Date'], dayfirst=True)\n",
    "df['Ship Date'] = pd.to_datetime(df['Ship Date'], dayfirst=True)\n",
    "\n",
    "# postal code conversion\n",
    "df['Postal Code'] = df['Postal Code'].astype(str)\n",
    "\n",
    "# checking the data\n",
    "df.info()"
   ]
  },
  {
   "cell_type": "code",
   "execution_count": 7,
   "metadata": {},
   "outputs": [
    {
     "data": {
      "text/plain": [
       "Row ID           0\n",
       "Order ID         0\n",
       "Order Date       0\n",
       "Ship Date        0\n",
       "Ship Mode        0\n",
       "Customer ID      0\n",
       "Customer Name    0\n",
       "Segment          0\n",
       "Country          0\n",
       "City             0\n",
       "State            0\n",
       "Postal Code      0\n",
       "Region           0\n",
       "Product ID       0\n",
       "Category         0\n",
       "Sub-Category     0\n",
       "Product Name     0\n",
       "Sales            0\n",
       "dtype: int64"
      ]
     },
     "execution_count": 7,
     "metadata": {},
     "output_type": "execute_result"
    }
   ],
   "source": [
    "# check for missing values\n",
    "df.isnull().sum()"
   ]
  },
  {
   "cell_type": "markdown",
   "metadata": {},
   "source": [
    "the output of checking the missing values shows that there are no missing values in the dataset."
   ]
  },
  {
   "cell_type": "code",
   "execution_count": 8,
   "metadata": {},
   "outputs": [
    {
     "data": {
      "text/html": [
       "<div>\n",
       "<style scoped>\n",
       "    .dataframe tbody tr th:only-of-type {\n",
       "        vertical-align: middle;\n",
       "    }\n",
       "\n",
       "    .dataframe tbody tr th {\n",
       "        vertical-align: top;\n",
       "    }\n",
       "\n",
       "    .dataframe thead th {\n",
       "        text-align: right;\n",
       "    }\n",
       "</style>\n",
       "<table border=\"1\" class=\"dataframe\">\n",
       "  <thead>\n",
       "    <tr style=\"text-align: right;\">\n",
       "      <th></th>\n",
       "      <th>Row ID</th>\n",
       "      <th>Order ID</th>\n",
       "      <th>Order Date</th>\n",
       "      <th>Ship Date</th>\n",
       "      <th>Ship Mode</th>\n",
       "      <th>Segment</th>\n",
       "      <th>Country</th>\n",
       "      <th>City</th>\n",
       "      <th>State</th>\n",
       "      <th>Region</th>\n",
       "      <th>Product ID</th>\n",
       "      <th>Category</th>\n",
       "      <th>Sub-Category</th>\n",
       "      <th>Product Name</th>\n",
       "      <th>Sales</th>\n",
       "    </tr>\n",
       "  </thead>\n",
       "  <tbody>\n",
       "    <tr>\n",
       "      <th>0</th>\n",
       "      <td>1</td>\n",
       "      <td>CA-2017-152156</td>\n",
       "      <td>2017-11-08</td>\n",
       "      <td>2017-11-11</td>\n",
       "      <td>Second Class</td>\n",
       "      <td>Consumer</td>\n",
       "      <td>United States</td>\n",
       "      <td>Henderson</td>\n",
       "      <td>Kentucky</td>\n",
       "      <td>South</td>\n",
       "      <td>FUR-BO-10001798</td>\n",
       "      <td>Furniture</td>\n",
       "      <td>Bookcases</td>\n",
       "      <td>Bush Somerset Collection Bookcase</td>\n",
       "      <td>261.9600</td>\n",
       "    </tr>\n",
       "    <tr>\n",
       "      <th>1</th>\n",
       "      <td>2</td>\n",
       "      <td>CA-2017-152156</td>\n",
       "      <td>2017-11-08</td>\n",
       "      <td>2017-11-11</td>\n",
       "      <td>Second Class</td>\n",
       "      <td>Consumer</td>\n",
       "      <td>United States</td>\n",
       "      <td>Henderson</td>\n",
       "      <td>Kentucky</td>\n",
       "      <td>South</td>\n",
       "      <td>FUR-CH-10000454</td>\n",
       "      <td>Furniture</td>\n",
       "      <td>Chairs</td>\n",
       "      <td>Hon Deluxe Fabric Upholstered Stacking Chairs,...</td>\n",
       "      <td>731.9400</td>\n",
       "    </tr>\n",
       "    <tr>\n",
       "      <th>2</th>\n",
       "      <td>3</td>\n",
       "      <td>CA-2017-138688</td>\n",
       "      <td>2017-06-12</td>\n",
       "      <td>2017-06-16</td>\n",
       "      <td>Second Class</td>\n",
       "      <td>Corporate</td>\n",
       "      <td>United States</td>\n",
       "      <td>Los Angeles</td>\n",
       "      <td>California</td>\n",
       "      <td>West</td>\n",
       "      <td>OFF-LA-10000240</td>\n",
       "      <td>Office Supplies</td>\n",
       "      <td>Labels</td>\n",
       "      <td>Self-Adhesive Address Labels for Typewriters b...</td>\n",
       "      <td>14.6200</td>\n",
       "    </tr>\n",
       "    <tr>\n",
       "      <th>3</th>\n",
       "      <td>4</td>\n",
       "      <td>US-2016-108966</td>\n",
       "      <td>2016-10-11</td>\n",
       "      <td>2016-10-18</td>\n",
       "      <td>Standard Class</td>\n",
       "      <td>Consumer</td>\n",
       "      <td>United States</td>\n",
       "      <td>Fort Lauderdale</td>\n",
       "      <td>Florida</td>\n",
       "      <td>South</td>\n",
       "      <td>FUR-TA-10000577</td>\n",
       "      <td>Furniture</td>\n",
       "      <td>Tables</td>\n",
       "      <td>Bretford CR4500 Series Slim Rectangular Table</td>\n",
       "      <td>957.5775</td>\n",
       "    </tr>\n",
       "    <tr>\n",
       "      <th>4</th>\n",
       "      <td>5</td>\n",
       "      <td>US-2016-108966</td>\n",
       "      <td>2016-10-11</td>\n",
       "      <td>2016-10-18</td>\n",
       "      <td>Standard Class</td>\n",
       "      <td>Consumer</td>\n",
       "      <td>United States</td>\n",
       "      <td>Fort Lauderdale</td>\n",
       "      <td>Florida</td>\n",
       "      <td>South</td>\n",
       "      <td>OFF-ST-10000760</td>\n",
       "      <td>Office Supplies</td>\n",
       "      <td>Storage</td>\n",
       "      <td>Eldon Fold 'N Roll Cart System</td>\n",
       "      <td>22.3680</td>\n",
       "    </tr>\n",
       "  </tbody>\n",
       "</table>\n",
       "</div>"
      ],
      "text/plain": [
       "   Row ID        Order ID Order Date  Ship Date       Ship Mode    Segment  \\\n",
       "0       1  CA-2017-152156 2017-11-08 2017-11-11    Second Class   Consumer   \n",
       "1       2  CA-2017-152156 2017-11-08 2017-11-11    Second Class   Consumer   \n",
       "2       3  CA-2017-138688 2017-06-12 2017-06-16    Second Class  Corporate   \n",
       "3       4  US-2016-108966 2016-10-11 2016-10-18  Standard Class   Consumer   \n",
       "4       5  US-2016-108966 2016-10-11 2016-10-18  Standard Class   Consumer   \n",
       "\n",
       "         Country             City       State Region       Product ID  \\\n",
       "0  United States        Henderson    Kentucky  South  FUR-BO-10001798   \n",
       "1  United States        Henderson    Kentucky  South  FUR-CH-10000454   \n",
       "2  United States      Los Angeles  California   West  OFF-LA-10000240   \n",
       "3  United States  Fort Lauderdale     Florida  South  FUR-TA-10000577   \n",
       "4  United States  Fort Lauderdale     Florida  South  OFF-ST-10000760   \n",
       "\n",
       "          Category Sub-Category  \\\n",
       "0        Furniture    Bookcases   \n",
       "1        Furniture       Chairs   \n",
       "2  Office Supplies       Labels   \n",
       "3        Furniture       Tables   \n",
       "4  Office Supplies      Storage   \n",
       "\n",
       "                                        Product Name     Sales  \n",
       "0                  Bush Somerset Collection Bookcase  261.9600  \n",
       "1  Hon Deluxe Fabric Upholstered Stacking Chairs,...  731.9400  \n",
       "2  Self-Adhesive Address Labels for Typewriters b...   14.6200  \n",
       "3      Bretford CR4500 Series Slim Rectangular Table  957.5775  \n",
       "4                     Eldon Fold 'N Roll Cart System   22.3680  "
      ]
     },
     "execution_count": 8,
     "metadata": {},
     "output_type": "execute_result"
    }
   ],
   "source": [
    "# removing unnecessary columns like postal code, costumer id and costumer name \n",
    "\n",
    "df.drop(['Postal Code', 'Customer ID', 'Customer Name'], axis=1, inplace=True)\n",
    "\n",
    "df.head()"
   ]
  },
  {
   "cell_type": "markdown",
   "metadata": {},
   "source": [
    "# 3. Exploratory Data Analysis"
   ]
  },
  {
   "cell_type": "markdown",
   "metadata": {},
   "source": [
    "#### 3.1 Analyze the distribution of products.📊"
   ]
  },
  {
   "cell_type": "code",
   "execution_count": 9,
   "metadata": {},
   "outputs": [
    {
     "data": {
      "image/png": "[encoded data removed]",
      "text/plain": [
       "<Figure size 1200x1000 with 2 Axes>"
      ]
     },
     "metadata": {},
     "output_type": "display_data"
    }
   ],
   "source": [
    "# Assuming df is your DataFrame and 'Category' and 'Sub-Category' are your columns of interest\n",
    "df = df.sort_values(by='Category', ascending=False)\n",
    "\n",
    "sns.set_style(\"whitegrid\")\n",
    "fig, axes = plt.subplots(2, 1, figsize=(12, 10))\n",
    "fig.subplots_adjust(hspace=0.5)\n",
    "\n",
    "# List of columns to plot\n",
    "columns = ['Category', 'Sub-Category']\n",
    "\n",
    "# Create barplots for each column\n",
    "for i, column in enumerate(columns):\n",
    "    ax = axes[i]\n",
    "    sns.countplot(x=column, data=df, palette='viridis', ax=ax)\n",
    "    ax.set_ylabel('Count', fontsize=16)\n",
    "    ax.set_title(f'Distribution of Products by {column}', fontsize=20)\n",
    "    ax.set_xticklabels(ax.get_xticklabels(), rotation=30, ha='right', fontsize=12)\n",
    "\n",
    "# Display the plots\n",
    "plt.show()\n"
   ]
  },
  {
   "cell_type": "markdown",
   "metadata": {},
   "source": [
    "in the output, we can see that the **Office Supplies** category has the highest number of products, and the **Binders** sub-category has the highest number of products."
   ]
  },
  {
   "cell_type": "markdown",
   "metadata": {},
   "source": [
    "#### 3.2 Analyze the distribution of products by sales.\n",
    "We will be analyzing the distribution of products by sales."
   ]
  },
  {
   "cell_type": "code",
   "execution_count": 10,
   "metadata": {},
   "outputs": [
    {
     "data": {
      "image/png": "[encoded data removed]",
      "text/plain": [
       "<Figure size 1200x1000 with 4 Axes>"
      ]
     },
     "metadata": {},
     "output_type": "display_data"
    }
   ],
   "source": [
    "data_sales = df.sort_values(by='Sales', ascending=False)\n",
    "\n",
    "sns.set_style(\"whitegrid\")\n",
    "fig, axes = plt.subplots(2, 2, figsize=(12, 10))\n",
    "fig.subplots_adjust(hspace=0.5)\n",
    "\n",
    "# List of columns to plot\n",
    "columns = ['Segment', 'Region', 'Category', 'Sub-Category']\n",
    "\n",
    "# Create barplots for each column\n",
    "for i, column in enumerate(columns):\n",
    "    ax = axes[i//2, i%2]\n",
    "    sns.countplot(x=column, data=df, palette='bright', ax=ax)\n",
    "    ax.set_ylabel('Count', fontsize=16)\n",
    "    ax.set_title(f'Total Sales by {column}', fontsize=20)\n",
    "    ax.set_xticklabels(ax.get_xticklabels(), rotation=30, ha='right', fontsize=12)\n",
    "    \n",
    "# Display the plots\n",
    "plt.show()    \n",
    "    "
   ]
  },
  {
   "cell_type": "code",
   "execution_count": 11,
   "metadata": {},
   "outputs": [
    {
     "name": "stdout",
     "output_type": "stream",
     "text": [
      "           Category Sub-Category  Sales\n",
      "6   Office Supplies      Binders   1492\n",
      "10  Office Supplies        Paper   1338\n",
      "2         Furniture  Furnishings    931\n",
      "16       Technology       Phones    876\n",
      "11  Office Supplies      Storage    832\n",
      "5   Office Supplies          Art    785\n",
      "13       Technology  Accessories    756\n",
      "1         Furniture       Chairs    607\n",
      "4   Office Supplies   Appliances    459\n",
      "9   Office Supplies       Labels    357\n",
      "3         Furniture       Tables    314\n",
      "7   Office Supplies    Envelopes    248\n",
      "0         Furniture    Bookcases    226\n",
      "8   Office Supplies    Fasteners    214\n",
      "12  Office Supplies     Supplies    184\n",
      "15       Technology     Machines    115\n",
      "14       Technology      Copiers     66\n"
     ]
    }
   ],
   "source": [
    "df_summary_count = df.groupby(['Category', 'Sub-Category'])['Sales'].count().reset_index()\n",
    "df_summary_count = df_summary_count.sort_values(by='Sales', ascending=False)\n",
    "\n",
    "print(df_summary_count)"
   ]
  },
  {
   "cell_type": "markdown",
   "metadata": {},
   "source": [
    "in the output, we can see that the top 2 categories with the highest sales are **Office Supplies** and **Furniture**.\n"
   ]
  },
  {
   "cell_type": "code",
   "execution_count": 12,
   "metadata": {},
   "outputs": [
    {
     "data": {
      "application/vnd.plotly.v1+json": {
       "config": {
        "plotlyServerURL": "https://plot.ly"
       },
       "data": [
        {
         "branchvalues": "total",
         "customdata": [
          [
           164186.7,
           164186.7
          ],
          [
           104618.403,
           104618.403
          ],
          [
           26705.41,
           26705.41
          ],
          [
           200028.785,
           200028.785
          ],
          [
           113813.1987,
           113813.1987
          ],
          [
           322822.731,
           322822.731
          ],
          [
           146248.094,
           146248.094
          ],
          [
           16128.046,
           16128.046
          ],
          [
           3001.96,
           3001.96
          ],
          [
           89212.018,
           89212.018
          ],
          [
           12347.726,
           12347.726
          ],
          [
           189238.631,
           189238.631
          ],
          [
           76828.304,
           76828.304
          ],
          [
           327782.448,
           327782.448
          ],
          [
           219343.392,
           219343.392
          ],
          [
           46420.308,
           46420.308
          ],
          [
           202810.62799999997,
           202810.62799999997
          ],
          [
           228171.1907038093,
           228171.1907038093
          ],
          [
           153468.7061261977,
           153468.7061261977
          ],
          [
           231551.16349648498,
           231551.16349648498
          ]
         ],
         "domain": {
          "x": [
           0,
           1
          ],
          "y": [
           0,
           1
          ]
         },
         "hovertemplate": "labels=%{label}<br>Sales_sum=%{value}<br>parent=%{parent}<br>id=%{id}<br>Sales=%{color}<extra></extra>",
         "ids": [
          "Technology/Accessories",
          "Office Supplies/Appliances",
          "Office Supplies/Art",
          "Office Supplies/Binders",
          "Furniture/Bookcases",
          "Furniture/Chairs",
          "Technology/Copiers",
          "Office Supplies/Envelopes",
          "Office Supplies/Fasteners",
          "Furniture/Furnishings",
          "Office Supplies/Labels",
          "Technology/Machines",
          "Office Supplies/Paper",
          "Technology/Phones",
          "Office Supplies/Storage",
          "Office Supplies/Supplies",
          "Furniture/Tables",
          "Furniture",
          "Office Supplies",
          "Technology"
         ],
         "labels": [
          "Accessories",
          "Appliances",
          "Art",
          "Binders",
          "Bookcases",
          "Chairs",
          "Copiers",
          "Envelopes",
          "Fasteners",
          "Furnishings",
          "Labels",
          "Machines",
          "Paper",
          "Phones",
          "Storage",
          "Supplies",
          "Tables",
          "Furniture",
          "Office Supplies",
          "Technology"
         ],
         "marker": {
          "coloraxis": "coloraxis",
          "colors": [
           164186.7,
           104618.403,
           26705.41,
           200028.785,
           113813.1987,
           322822.731,
           146248.094,
           16128.046,
           3001.96,
           89212.018,
           12347.726,
           189238.631,
           76828.304,
           327782.448,
           219343.392,
           46420.308,
           202810.62799999997,
           228171.1907038093,
           153468.7061261977,
           231551.16349648498
          ]
         },
         "name": "",
         "parents": [
          "Technology",
          "Office Supplies",
          "Office Supplies",
          "Office Supplies",
          "Furniture",
          "Furniture",
          "Technology",
          "Office Supplies",
          "Office Supplies",
          "Furniture",
          "Office Supplies",
          "Technology",
          "Office Supplies",
          "Technology",
          "Office Supplies",
          "Office Supplies",
          "Furniture",
          "",
          "",
          ""
         ],
         "type": "sunburst",
         "values": [
          164186.7,
          104618.403,
          26705.41,
          200028.785,
          113813.1987,
          322822.731,
          146248.094,
          16128.046,
          3001.96,
          89212.018,
          12347.726,
          189238.631,
          76828.304,
          327782.448,
          219343.392,
          46420.308,
          202810.628,
          728658.5757,
          705422.334,
          827455.873
         ]
        }
       ],
       "layout": {
        "coloraxis": {
         "colorbar": {
          "title": {
           "text": "Sales"
          }
         },
         "colorscale": [
          [
           0,
           "#440154"
          ],
          [
           0.1111111111111111,
           "#482878"
          ],
          [
           0.2222222222222222,
           "#3e4989"
          ],
          [
           0.3333333333333333,
           "#31688e"
          ],
          [
           0.4444444444444444,
           "#26828e"
          ],
          [
           0.5555555555555556,
           "#1f9e89"
          ],
          [
           0.6666666666666666,
           "#35b779"
          ],
          [
           0.7777777777777778,
           "#6ece58"
          ],
          [
           0.8888888888888888,
           "#b5de2b"
          ],
          [
           1,
           "#fde725"
          ]
         ]
        },
        "legend": {
         "tracegroupgap": 0
        },
        "margin": {
         "b": 0,
         "l": 0,
         "r": 0,
         "t": 0
        },
        "template": {
         "data": {
          "bar": [
           {
            "error_x": {
             "color": "#2a3f5f"
            },
            "error_y": {
             "color": "#2a3f5f"
            },
            "marker": {
             "line": {
              "color": "#E5ECF6",
              "width": 0.5
             },
             "pattern": {
              "fillmode": "overlay",
              "size": 10,
              "solidity": 0.2
             }
            },
            "type": "bar"
           }
          ],
          "barpolar": [
           {
            "marker": {
             "line": {
              "color": "#E5ECF6",
              "width": 0.5
             },
             "pattern": {
              "fillmode": "overlay",
              "size": 10,
              "solidity": 0.2
             }
            },
            "type": "barpolar"
           }
          ],
          "carpet": [
           {
            "aaxis": {
             "endlinecolor": "#2a3f5f",
             "gridcolor": "white",
             "linecolor": "white",
             "minorgridcolor": "white",
             "startlinecolor": "#2a3f5f"
            },
            "baxis": {
             "endlinecolor": "#2a3f5f",
             "gridcolor": "white",
             "linecolor": "white",
             "minorgridcolor": "white",
             "startlinecolor": "#2a3f5f"
            },
            "type": "carpet"
           }
          ],
          "choropleth": [
           {
            "colorbar": {
             "outlinewidth": 0,
             "ticks": ""
            },
            "type": "choropleth"
           }
          ],
          "contour": [
           {
            "colorbar": {
             "outlinewidth": 0,
             "ticks": ""
            },
            "colorscale": [
             [
              0,
              "#0d0887"
             ],
             [
              0.1111111111111111,
              "#46039f"
             ],
             [
              0.2222222222222222,
              "#7201a8"
             ],
             [
              0.3333333333333333,
              "#9c179e"
             ],
             [
              0.4444444444444444,
              "#bd3786"
             ],
             [
              0.5555555555555556,
              "#d8576b"
             ],
             [
              0.6666666666666666,
              "#ed7953"
             ],
             [
              0.7777777777777778,
              "#fb9f3a"
             ],
             [
              0.8888888888888888,
              "#fdca26"
             ],
             [
              1,
              "#f0f921"
             ]
            ],
            "type": "contour"
           }
          ],
          "contourcarpet": [
           {
            "colorbar": {
             "outlinewidth": 0,
             "ticks": ""
            },
            "type": "contourcarpet"
           }
          ],
          "heatmap": [
           {
            "colorbar": {
             "outlinewidth": 0,
             "ticks": ""
            },
            "colorscale": [
             [
              0,
              "#0d0887"
             ],
             [
              0.1111111111111111,
              "#46039f"
             ],
             [
              0.2222222222222222,
              "#7201a8"
             ],
             [
              0.3333333333333333,
              "#9c179e"
             ],
             [
              0.4444444444444444,
              "#bd3786"
             ],
             [
              0.5555555555555556,
              "#d8576b"
             ],
             [
              0.6666666666666666,
              "#ed7953"
             ],
             [
              0.7777777777777778,
              "#fb9f3a"
             ],
             [
              0.8888888888888888,
              "#fdca26"
             ],
             [
              1,
              "#f0f921"
             ]
            ],
            "type": "heatmap"
           }
          ],
          "heatmapgl": [
           {
            "colorbar": {
             "outlinewidth": 0,
             "ticks": ""
            },
            "colorscale": [
             [
              0,
              "#0d0887"
             ],
             [
              0.1111111111111111,
              "#46039f"
             ],
             [
              0.2222222222222222,
              "#7201a8"
             ],
             [
              0.3333333333333333,
              "#9c179e"
             ],
             [
              0.4444444444444444,
              "#bd3786"
             ],
             [
              0.5555555555555556,
              "#d8576b"
             ],
             [
              0.6666666666666666,
              "#ed7953"
             ],
             [
              0.7777777777777778,
              "#fb9f3a"
             ],
             [
              0.8888888888888888,
              "#fdca26"
             ],
             [
              1,
              "#f0f921"
             ]
            ],
            "type": "heatmapgl"
           }
          ],
          "histogram": [
           {
            "marker": {
             "pattern": {
              "fillmode": "overlay",
              "size": 10,
              "solidity": 0.2
             }
            },
            "type": "histogram"
           }
          ],
          "histogram2d": [
           {
            "colorbar": {
             "outlinewidth": 0,
             "ticks": ""
            },
            "colorscale": [
             [
              0,
              "#0d0887"
             ],
             [
              0.1111111111111111,
              "#46039f"
             ],
             [
              0.2222222222222222,
              "#7201a8"
             ],
             [
              0.3333333333333333,
              "#9c179e"
             ],
             [
              0.4444444444444444,
              "#bd3786"
             ],
             [
              0.5555555555555556,
              "#d8576b"
             ],
             [
              0.6666666666666666,
              "#ed7953"
             ],
             [
              0.7777777777777778,
              "#fb9f3a"
             ],
             [
              0.8888888888888888,
              "#fdca26"
             ],
             [
              1,
              "#f0f921"
             ]
            ],
            "type": "histogram2d"
           }
          ],
          "histogram2dcontour": [
           {
            "colorbar": {
             "outlinewidth": 0,
             "ticks": ""
            },
            "colorscale": [
             [
              0,
              "#0d0887"
             ],
             [
              0.1111111111111111,
              "#46039f"
             ],
             [
              0.2222222222222222,
              "#7201a8"
             ],
             [
              0.3333333333333333,
              "#9c179e"
             ],
             [
              0.4444444444444444,
              "#bd3786"
             ],
             [
              0.5555555555555556,
              "#d8576b"
             ],
             [
              0.6666666666666666,
              "#ed7953"
             ],
             [
              0.7777777777777778,
              "#fb9f3a"
             ],
             [
              0.8888888888888888,
              "#fdca26"
             ],
             [
              1,
              "#f0f921"
             ]
            ],
            "type": "histogram2dcontour"
           }
          ],
          "mesh3d": [
           {
            "colorbar": {
             "outlinewidth": 0,
             "ticks": ""
            },
            "type": "mesh3d"
           }
          ],
          "parcoords": [
           {
            "line": {
             "colorbar": {
              "outlinewidth": 0,
              "ticks": ""
             }
            },
            "type": "parcoords"
           }
          ],
          "pie": [
           {
            "automargin": true,
            "type": "pie"
           }
          ],
          "scatter": [
           {
            "fillpattern": {
             "fillmode": "overlay",
             "size": 10,
             "solidity": 0.2
            },
            "type": "scatter"
           }
          ],
          "scatter3d": [
           {
            "line": {
             "colorbar": {
              "outlinewidth": 0,
              "ticks": ""
             }
            },
            "marker": {
             "colorbar": {
              "outlinewidth": 0,
              "ticks": ""
             }
            },
            "type": "scatter3d"
           }
          ],
          "scattercarpet": [
           {
            "marker": {
             "colorbar": {
              "outlinewidth": 0,
              "ticks": ""
             }
            },
            "type": "scattercarpet"
           }
          ],
          "scattergeo": [
           {
            "marker": {
             "colorbar": {
              "outlinewidth": 0,
              "ticks": ""
             }
            },
            "type": "scattergeo"
           }
          ],
          "scattergl": [
           {
            "marker": {
             "colorbar": {
              "outlinewidth": 0,
              "ticks": ""
             }
            },
            "type": "scattergl"
           }
          ],
          "scattermapbox": [
           {
            "marker": {
             "colorbar": {
              "outlinewidth": 0,
              "ticks": ""
             }
            },
            "type": "scattermapbox"
           }
          ],
          "scatterpolar": [
           {
            "marker": {
             "colorbar": {
              "outlinewidth": 0,
              "ticks": ""
             }
            },
            "type": "scatterpolar"
           }
          ],
          "scatterpolargl": [
           {
            "marker": {
             "colorbar": {
              "outlinewidth": 0,
              "ticks": ""
             }
            },
            "type": "scatterpolargl"
           }
          ],
          "scatterternary": [
           {
            "marker": {
             "colorbar": {
              "outlinewidth": 0,
              "ticks": ""
             }
            },
            "type": "scatterternary"
           }
          ],
          "surface": [
           {
            "colorbar": {
             "outlinewidth": 0,
             "ticks": ""
            },
            "colorscale": [
             [
              0,
              "#0d0887"
             ],
             [
              0.1111111111111111,
              "#46039f"
             ],
             [
              0.2222222222222222,
              "#7201a8"
             ],
             [
              0.3333333333333333,
              "#9c179e"
             ],
             [
              0.4444444444444444,
              "#bd3786"
             ],
             [
              0.5555555555555556,
              "#d8576b"
             ],
             [
              0.6666666666666666,
              "#ed7953"
             ],
             [
              0.7777777777777778,
              "#fb9f3a"
             ],
             [
              0.8888888888888888,
              "#fdca26"
             ],
             [
              1,
              "#f0f921"
             ]
            ],
            "type": "surface"
           }
          ],
          "table": [
           {
            "cells": {
             "fill": {
              "color": "#EBF0F8"
             },
             "line": {
              "color": "white"
             }
            },
            "header": {
             "fill": {
              "color": "#C8D4E3"
             },
             "line": {
              "color": "white"
             }
            },
            "type": "table"
           }
          ]
         },
         "layout": {
          "annotationdefaults": {
           "arrowcolor": "#2a3f5f",
           "arrowhead": 0,
           "arrowwidth": 1
          },
          "autotypenumbers": "strict",
          "coloraxis": {
           "colorbar": {
            "outlinewidth": 0,
            "ticks": ""
           }
          },
          "colorscale": {
           "diverging": [
            [
             0,
             "#8e0152"
            ],
            [
             0.1,
             "#c51b7d"
            ],
            [
             0.2,
             "#de77ae"
            ],
            [
             0.3,
             "#f1b6da"
            ],
            [
             0.4,
             "#fde0ef"
            ],
            [
             0.5,
             "#f7f7f7"
            ],
            [
             0.6,
             "#e6f5d0"
            ],
            [
             0.7,
             "#b8e186"
            ],
            [
             0.8,
             "#7fbc41"
            ],
            [
             0.9,
             "#4d9221"
            ],
            [
             1,
             "#276419"
            ]
           ],
           "sequential": [
            [
             0,
             "#0d0887"
            ],
            [
             0.1111111111111111,
             "#46039f"
            ],
            [
             0.2222222222222222,
             "#7201a8"
            ],
            [
             0.3333333333333333,
             "#9c179e"
            ],
            [
             0.4444444444444444,
             "#bd3786"
            ],
            [
             0.5555555555555556,
             "#d8576b"
            ],
            [
             0.6666666666666666,
             "#ed7953"
            ],
            [
             0.7777777777777778,
             "#fb9f3a"
            ],
            [
             0.8888888888888888,
             "#fdca26"
            ],
            [
             1,
             "#f0f921"
            ]
           ],
           "sequentialminus": [
            [
             0,
             "#0d0887"
            ],
            [
             0.1111111111111111,
             "#46039f"
            ],
            [
             0.2222222222222222,
             "#7201a8"
            ],
            [
             0.3333333333333333,
             "#9c179e"
            ],
            [
             0.4444444444444444,
             "#bd3786"
            ],
            [
             0.5555555555555556,
             "#d8576b"
            ],
            [
             0.6666666666666666,
             "#ed7953"
            ],
            [
             0.7777777777777778,
             "#fb9f3a"
            ],
            [
             0.8888888888888888,
             "#fdca26"
            ],
            [
             1,
             "#f0f921"
            ]
           ]
          },
          "colorway": [
           "#636efa",
           "#EF553B",
           "#00cc96",
           "#ab63fa",
           "#FFA15A",
           "#19d3f3",
           "#FF6692",
           "#B6E880",
           "#FF97FF",
           "#FECB52"
          ],
          "font": {
           "color": "#2a3f5f"
          },
          "geo": {
           "bgcolor": "white",
           "lakecolor": "white",
           "landcolor": "#E5ECF6",
           "showlakes": true,
           "showland": true,
           "subunitcolor": "white"
          },
          "hoverlabel": {
           "align": "left"
          },
          "hovermode": "closest",
          "mapbox": {
           "style": "light"
          },
          "paper_bgcolor": "white",
          "plot_bgcolor": "#E5ECF6",
          "polar": {
           "angularaxis": {
            "gridcolor": "white",
            "linecolor": "white",
            "ticks": ""
           },
           "bgcolor": "#E5ECF6",
           "radialaxis": {
            "gridcolor": "white",
            "linecolor": "white",
            "ticks": ""
           }
          },
          "scene": {
           "xaxis": {
            "backgroundcolor": "#E5ECF6",
            "gridcolor": "white",
            "gridwidth": 2,
            "linecolor": "white",
            "showbackground": true,
            "ticks": "",
            "zerolinecolor": "white"
           },
           "yaxis": {
            "backgroundcolor": "#E5ECF6",
            "gridcolor": "white",
            "gridwidth": 2,
            "linecolor": "white",
            "showbackground": true,
            "ticks": "",
            "zerolinecolor": "white"
           },
           "zaxis": {
            "backgroundcolor": "#E5ECF6",
            "gridcolor": "white",
            "gridwidth": 2,
            "linecolor": "white",
            "showbackground": true,
            "ticks": "",
            "zerolinecolor": "white"
           }
          },
          "shapedefaults": {
           "line": {
            "color": "#2a3f5f"
           }
          },
          "ternary": {
           "aaxis": {
            "gridcolor": "white",
            "linecolor": "white",
            "ticks": ""
           },
           "baxis": {
            "gridcolor": "white",
            "linecolor": "white",
            "ticks": ""
           },
           "bgcolor": "#E5ECF6",
           "caxis": {
            "gridcolor": "white",
            "linecolor": "white",
            "ticks": ""
           }
          },
          "title": {
           "x": 0.05
          },
          "xaxis": {
           "automargin": true,
           "gridcolor": "white",
           "linecolor": "white",
           "ticks": "",
           "title": {
            "standoff": 15
           },
           "zerolinecolor": "white",
           "zerolinewidth": 2
          },
          "yaxis": {
           "automargin": true,
           "gridcolor": "white",
           "linecolor": "white",
           "ticks": "",
           "title": {
            "standoff": 15
           },
           "zerolinecolor": "white",
           "zerolinewidth": 2
          }
         }
        }
       }
      }
     },
     "metadata": {},
     "output_type": "display_data"
    }
   ],
   "source": [
    "# Summarize the Sales data by Category and Sub-Category total sales\n",
    "df_summary = df.groupby(['Category', 'Sub-Category'])['Sales'].sum().reset_index()\n",
    "\n",
    "# Create a nested barplot by Category and Sub-Category\n",
    "\n",
    "fig = px.sunburst(df_summary, path=['Category', 'Sub-Category'], values='Sales',\n",
    "                    color='Sales', hover_data=['Sales'],\n",
    "                    color_continuous_scale='viridis')\n",
    "fig.update_layout(margin=dict(t=0, l=0, r=0, b=0))\n",
    "fig.show()"
   ]
  },
  {
   "cell_type": "code",
   "execution_count": 13,
   "metadata": {},
   "outputs": [
    {
     "name": "stdout",
     "output_type": "stream",
     "text": [
      "           Category Sub-Category        Sales\n",
      "16       Technology       Phones  327782.4480\n",
      "1         Furniture       Chairs  322822.7310\n",
      "11  Office Supplies      Storage  219343.3920\n",
      "3         Furniture       Tables  202810.6280\n",
      "6   Office Supplies      Binders  200028.7850\n",
      "15       Technology     Machines  189238.6310\n",
      "13       Technology  Accessories  164186.7000\n",
      "14       Technology      Copiers  146248.0940\n",
      "0         Furniture    Bookcases  113813.1987\n",
      "4   Office Supplies   Appliances  104618.4030\n",
      "2         Furniture  Furnishings   89212.0180\n",
      "10  Office Supplies        Paper   76828.3040\n",
      "12  Office Supplies     Supplies   46420.3080\n",
      "5   Office Supplies          Art   26705.4100\n",
      "7   Office Supplies    Envelopes   16128.0460\n",
      "9   Office Supplies       Labels   12347.7260\n",
      "8   Office Supplies    Fasteners    3001.9600\n"
     ]
    }
   ],
   "source": [
    "# sort the data by sales\n",
    "df_summary = df_summary.sort_values(by='Sales', ascending=False)\n",
    "print(df_summary)"
   ]
  },
  {
   "cell_type": "markdown",
   "metadata": {},
   "source": [
    "in the output, we can see that the top 3 sub-categories with the highest sales are **Phones**, **Chairs**, and **Storage**."
   ]
  },
  {
   "cell_type": "markdown",
   "metadata": {},
   "source": [
    "Although the **Office Supplies** category had the highest number of products sold, it generated less total sales than the **Technology** and **Furniture** category. Similarly, within the sub-categories, **Binders** had the highest number of products sold, yet it didn't surpass the total sales of the **Phones** sub-category.\n"
   ]
  },
  {
   "cell_type": "code",
   "execution_count": 14,
   "metadata": {},
   "outputs": [
    {
     "data": {
      "application/vnd.plotly.v1+json": {
       "config": {
        "plotlyServerURL": "https://plot.ly"
       },
       "data": [
        {
         "alignmentgroup": "True",
         "hovertemplate": "Segment=Consumer<br>Sales=%{x}<br>State=%{y}<extra></extra>",
         "legendgroup": "Consumer",
         "marker": {
          "color": "#636efa",
          "pattern": {
           "shape": ""
          }
         },
         "name": "Consumer",
         "offsetgroup": "Consumer",
         "orientation": "h",
         "showlegend": true,
         "textposition": "auto",
         "type": "bar",
         "x": [
          222419.05,
          174100.923,
          95360.73,
          73866.52,
          66818.653,
          44252.611,
          42628.544,
          36576.371,
          35683.63,
          32675.948,
          29560.026,
          24116.79,
          20430.72,
          19235.18,
          16961.763,
          16578.939,
          16415.078,
          15527.972,
          14981.02,
          14232.36,
          12189.582,
          11561.77,
          11151.54,
          10054.013,
          8802.01,
          8747.245,
          7688.58,
          7537.54,
          7152.004,
          6584.414,
          6088.28,
          5933.477,
          5539.75,
          5261.25,
          5150.92,
          2753.34,
          2380.406,
          2186.324,
          1963.87,
          1444.496,
          1352.38,
          908.64,
          898.088,
          891.53,
          697.18,
          673.344,
          45.730000000000004
         ],
         "xaxis": "x",
         "y": [
          "California",
          "New York",
          "Texas",
          "Washington",
          "Pennsylvania",
          "Illinois",
          "Ohio",
          "Michigan",
          "Virginia",
          "Florida",
          "North Carolina",
          "Georgia",
          "Kentucky",
          "Minnesota",
          "Delaware",
          "Tennessee",
          "Arizona",
          "Colorado",
          "Indiana",
          "Wisconsin",
          "New Jersey",
          "Oklahoma",
          "Massachusetts",
          "Maryland",
          "Arkansas",
          "Oregon",
          "Mississippi",
          "Alabama",
          "Utah",
          "Nevada",
          "Louisiana",
          "Connecticut",
          "South Carolina",
          "Nebraska",
          "Missouri",
          "District of Columbia",
          "Rhode Island",
          "New Mexico",
          "Iowa",
          "Idaho",
          "Vermont",
          "New Hampshire",
          "Montana",
          "North Dakota",
          "Kansas",
          "West Virginia",
          "South Dakota"
         ],
         "yaxis": "y"
        },
        {
         "alignmentgroup": "True",
         "hovertemplate": "Segment=Corporate<br>Sales=%{x}<br>State=%{y}<extra></extra>",
         "legendgroup": "Corporate",
         "marker": {
          "color": "#EF553B",
          "pattern": {
           "shape": ""
          }
         },
         "name": "Corporate",
         "offsetgroup": "Corporate",
         "orientation": "h",
         "showlegend": true,
         "textposition": "auto",
         "type": "bar",
         "x": [
          144731.4105,
          74828.351,
          53357.3038,
          36333.43,
          30975.437,
          27501.48,
          27316.420000000002,
          23391.553,
          23112.647,
          21539.9835,
          18656.746,
          18259.25,
          15984.28,
          15696.16,
          11736.322,
          11454.45,
          11386.130000000001,
          10969.380000000001,
          10500.43,
          9945.912,
          9745.765,
          9639.594,
          8183.586,
          7812.47,
          6563.97,
          6282.24,
          5715.6900000000005,
          5381.15,
          4802.406,
          3111.11,
          2916.04,
          2630.25,
          2569.75,
          2463.78,
          1956.614,
          1882.35,
          1362.72,
          1269.83,
          1269.776,
          1266.74,
          1164.45,
          968.9,
          911.45,
          898.18,
          48.188
         ],
         "xaxis": "x",
         "y": [
          "California",
          "New York",
          "Texas",
          "Washington",
          "Pennsylvania",
          "Virginia",
          "Indiana",
          "Michigan",
          "Ohio",
          "Florida",
          "North Carolina",
          "New Jersey",
          "Illinois",
          "Georgia",
          "Arizona",
          "Wisconsin",
          "Maryland",
          "Alabama",
          "Missouri",
          "Colorado",
          "Tennessee",
          "Massachusetts",
          "Delaware",
          "Kentucky",
          "Oregon",
          "Vermont",
          "Connecticut",
          "Rhode Island",
          "Nevada",
          "Minnesota",
          "South Carolina",
          "Idaho",
          "Oklahoma",
          "Arkansas",
          "Utah",
          "Louisiana",
          "Mississippi",
          "South Dakota",
          "New Mexico",
          "Nebraska",
          "Maine",
          "New Hampshire",
          "Iowa",
          "Kansas",
          "Montana"
         ],
         "yaxis": "y"
        },
        {
         "alignmentgroup": "True",
         "hovertemplate": "Segment=Home Office<br>Sales=%{x}<br>State=%{y}<extra></extra>",
         "legendgroup": "Home Office",
         "marker": {
          "color": "#00cc96",
          "pattern": {
           "shape": ""
          }
         },
         "name": "Home Office",
         "offsetgroup": "Home Office",
         "orientation": "h",
         "showlegend": true,
         "textposition": "auto",
         "type": "bar",
         "x": [
          79156.003,
          57431.873,
          34220.6005,
          25006.9,
          19854.4984,
          18999.626,
          18482.56,
          16168.15,
          14763.47,
          9389.159,
          8406.16,
          8215.2,
          7843.3,
          7516.86,
          7451.61,
          7121.2570000000005,
          6949.192,
          6553.8,
          6420.96,
          6367.714,
          5551.87,
          5486.62,
          5414.984,
          5342.282,
          4643.076,
          4337.169,
          4162.139999999999,
          2265.38,
          2177.65,
          2111.438,
          1973.247,
          1735.1899999999998,
          1720.04,
          1603.136,
          1568.2399999999998,
          1327.422,
          1318.9499999999998,
          1294.75,
          1160.42,
          1003.72,
          936.94,
          536.48,
          412.34000000000003,
          307.74,
          111.68,
          106.08000000000001,
          28.38,
          25.92
         ],
         "xaxis": "x",
         "y": [
          "California",
          "New York",
          "Florida",
          "Washington",
          "Texas",
          "Illinois",
          "Pennsylvania",
          "Michigan",
          "Rhode Island",
          "Ohio",
          "Georgia",
          "Kentucky",
          "Massachusetts",
          "Minnesota",
          "Virginia",
          "Arizona",
          "North Carolina",
          "Missouri",
          "Indiana",
          "Colorado",
          "Oklahoma",
          "Wisconsin",
          "New Hampshire",
          "Nevada",
          "Montana",
          "Tennessee",
          "New Jersey",
          "Maryland",
          "Delaware",
          "Utah",
          "Oregon",
          "Connecticut",
          "Mississippi",
          "Wyoming",
          "Iowa",
          "New Mexico",
          "Kansas",
          "Vermont",
          "Louisiana",
          "Alabama",
          "Nebraska",
          "West Virginia",
          "Arkansas",
          "Idaho",
          "District of Columbia",
          "Maine",
          "North Dakota",
          "South Carolina"
         ],
         "yaxis": "y"
        }
       ],
       "layout": {
        "barmode": "stack",
        "height": 1400,
        "legend": {
         "title": {
          "text": "Segment"
         },
         "tracegroupgap": 0
        },
        "template": {
         "data": {
          "bar": [
           {
            "error_x": {
             "color": "#2a3f5f"
            },
            "error_y": {
             "color": "#2a3f5f"
            },
            "marker": {
             "line": {
              "color": "#E5ECF6",
              "width": 0.5
             },
             "pattern": {
              "fillmode": "overlay",
              "size": 10,
              "solidity": 0.2
             }
            },
            "type": "bar"
           }
          ],
          "barpolar": [
           {
            "marker": {
             "line": {
              "color": "#E5ECF6",
              "width": 0.5
             },
             "pattern": {
              "fillmode": "overlay",
              "size": 10,
              "solidity": 0.2
             }
            },
            "type": "barpolar"
           }
          ],
          "carpet": [
           {
            "aaxis": {
             "endlinecolor": "#2a3f5f",
             "gridcolor": "white",
             "linecolor": "white",
             "minorgridcolor": "white",
             "startlinecolor": "#2a3f5f"
            },
            "baxis": {
             "endlinecolor": "#2a3f5f",
             "gridcolor": "white",
             "linecolor": "white",
             "minorgridcolor": "white",
             "startlinecolor": "#2a3f5f"
            },
            "type": "carpet"
           }
          ],
          "choropleth": [
           {
            "colorbar": {
             "outlinewidth": 0,
             "ticks": ""
            },
            "type": "choropleth"
           }
          ],
          "contour": [
           {
            "colorbar": {
             "outlinewidth": 0,
             "ticks": ""
            },
            "colorscale": [
             [
              0,
              "#0d0887"
             ],
             [
              0.1111111111111111,
              "#46039f"
             ],
             [
              0.2222222222222222,
              "#7201a8"
             ],
             [
              0.3333333333333333,
              "#9c179e"
             ],
             [
              0.4444444444444444,
              "#bd3786"
             ],
             [
              0.5555555555555556,
              "#d8576b"
             ],
             [
              0.6666666666666666,
              "#ed7953"
             ],
             [
              0.7777777777777778,
              "#fb9f3a"
             ],
             [
              0.8888888888888888,
              "#fdca26"
             ],
             [
              1,
              "#f0f921"
             ]
            ],
            "type": "contour"
           }
          ],
          "contourcarpet": [
           {
            "colorbar": {
             "outlinewidth": 0,
             "ticks": ""
            },
            "type": "contourcarpet"
           }
          ],
          "heatmap": [
           {
            "colorbar": {
             "outlinewidth": 0,
             "ticks": ""
            },
            "colorscale": [
             [
              0,
              "#0d0887"
             ],
             [
              0.1111111111111111,
              "#46039f"
             ],
             [
              0.2222222222222222,
              "#7201a8"
             ],
             [
              0.3333333333333333,
              "#9c179e"
             ],
             [
              0.4444444444444444,
              "#bd3786"
             ],
             [
              0.5555555555555556,
              "#d8576b"
             ],
             [
              0.6666666666666666,
              "#ed7953"
             ],
             [
              0.7777777777777778,
              "#fb9f3a"
             ],
             [
              0.8888888888888888,
              "#fdca26"
             ],
             [
              1,
              "#f0f921"
             ]
            ],
            "type": "heatmap"
           }
          ],
          "heatmapgl": [
           {
            "colorbar": {
             "outlinewidth": 0,
             "ticks": ""
            },
            "colorscale": [
             [
              0,
              "#0d0887"
             ],
             [
              0.1111111111111111,
              "#46039f"
             ],
             [
              0.2222222222222222,
              "#7201a8"
             ],
             [
              0.3333333333333333,
              "#9c179e"
             ],
             [
              0.4444444444444444,
              "#bd3786"
             ],
             [
              0.5555555555555556,
              "#d8576b"
             ],
             [
              0.6666666666666666,
              "#ed7953"
             ],
             [
              0.7777777777777778,
              "#fb9f3a"
             ],
             [
              0.8888888888888888,
              "#fdca26"
             ],
             [
              1,
              "#f0f921"
             ]
            ],
            "type": "heatmapgl"
           }
          ],
          "histogram": [
           {
            "marker": {
             "pattern": {
              "fillmode": "overlay",
              "size": 10,
              "solidity": 0.2
             }
            },
            "type": "histogram"
           }
          ],
          "histogram2d": [
           {
            "colorbar": {
             "outlinewidth": 0,
             "ticks": ""
            },
            "colorscale": [
             [
              0,
              "#0d0887"
             ],
             [
              0.1111111111111111,
              "#46039f"
             ],
             [
              0.2222222222222222,
              "#7201a8"
             ],
             [
              0.3333333333333333,
              "#9c179e"
             ],
             [
              0.4444444444444444,
              "#bd3786"
             ],
             [
              0.5555555555555556,
              "#d8576b"
             ],
             [
              0.6666666666666666,
              "#ed7953"
             ],
             [
              0.7777777777777778,
              "#fb9f3a"
             ],
             [
              0.8888888888888888,
              "#fdca26"
             ],
             [
              1,
              "#f0f921"
             ]
            ],
            "type": "histogram2d"
           }
          ],
          "histogram2dcontour": [
           {
            "colorbar": {
             "outlinewidth": 0,
             "ticks": ""
            },
            "colorscale": [
             [
              0,
              "#0d0887"
             ],
             [
              0.1111111111111111,
              "#46039f"
             ],
             [
              0.2222222222222222,
              "#7201a8"
             ],
             [
              0.3333333333333333,
              "#9c179e"
             ],
             [
              0.4444444444444444,
              "#bd3786"
             ],
             [
              0.5555555555555556,
              "#d8576b"
             ],
             [
              0.6666666666666666,
              "#ed7953"
             ],
             [
              0.7777777777777778,
              "#fb9f3a"
             ],
             [
              0.8888888888888888,
              "#fdca26"
             ],
             [
              1,
              "#f0f921"
             ]
            ],
            "type": "histogram2dcontour"
           }
          ],
          "mesh3d": [
           {
            "colorbar": {
             "outlinewidth": 0,
             "ticks": ""
            },
            "type": "mesh3d"
           }
          ],
          "parcoords": [
           {
            "line": {
             "colorbar": {
              "outlinewidth": 0,
              "ticks": ""
             }
            },
            "type": "parcoords"
           }
          ],
          "pie": [
           {
            "automargin": true,
            "type": "pie"
           }
          ],
          "scatter": [
           {
            "fillpattern": {
             "fillmode": "overlay",
             "size": 10,
             "solidity": 0.2
            },
            "type": "scatter"
           }
          ],
          "scatter3d": [
           {
            "line": {
             "colorbar": {
              "outlinewidth": 0,
              "ticks": ""
             }
            },
            "marker": {
             "colorbar": {
              "outlinewidth": 0,
              "ticks": ""
             }
            },
            "type": "scatter3d"
           }
          ],
          "scattercarpet": [
           {
            "marker": {
             "colorbar": {
              "outlinewidth": 0,
              "ticks": ""
             }
            },
            "type": "scattercarpet"
           }
          ],
          "scattergeo": [
           {
            "marker": {
             "colorbar": {
              "outlinewidth": 0,
              "ticks": ""
             }
            },
            "type": "scattergeo"
           }
          ],
          "scattergl": [
           {
            "marker": {
             "colorbar": {
              "outlinewidth": 0,
              "ticks": ""
             }
            },
            "type": "scattergl"
           }
          ],
          "scattermapbox": [
           {
            "marker": {
             "colorbar": {
              "outlinewidth": 0,
              "ticks": ""
             }
            },
            "type": "scattermapbox"
           }
          ],
          "scatterpolar": [
           {
            "marker": {
             "colorbar": {
              "outlinewidth": 0,
              "ticks": ""
             }
            },
            "type": "scatterpolar"
           }
          ],
          "scatterpolargl": [
           {
            "marker": {
             "colorbar": {
              "outlinewidth": 0,
              "ticks": ""
             }
            },
            "type": "scatterpolargl"
           }
          ],
          "scatterternary": [
           {
            "marker": {
             "colorbar": {
              "outlinewidth": 0,
              "ticks": ""
             }
            },
            "type": "scatterternary"
           }
          ],
          "surface": [
           {
            "colorbar": {
             "outlinewidth": 0,
             "ticks": ""
            },
            "colorscale": [
             [
              0,
              "#0d0887"
             ],
             [
              0.1111111111111111,
              "#46039f"
             ],
             [
              0.2222222222222222,
              "#7201a8"
             ],
             [
              0.3333333333333333,
              "#9c179e"
             ],
             [
              0.4444444444444444,
              "#bd3786"
             ],
             [
              0.5555555555555556,
              "#d8576b"
             ],
             [
              0.6666666666666666,
              "#ed7953"
             ],
             [
              0.7777777777777778,
              "#fb9f3a"
             ],
             [
              0.8888888888888888,
              "#fdca26"
             ],
             [
              1,
              "#f0f921"
             ]
            ],
            "type": "surface"
           }
          ],
          "table": [
           {
            "cells": {
             "fill": {
              "color": "#EBF0F8"
             },
             "line": {
              "color": "white"
             }
            },
            "header": {
             "fill": {
              "color": "#C8D4E3"
             },
             "line": {
              "color": "white"
             }
            },
            "type": "table"
           }
          ]
         },
         "layout": {
          "annotationdefaults": {
           "arrowcolor": "#2a3f5f",
           "arrowhead": 0,
           "arrowwidth": 1
          },
          "autotypenumbers": "strict",
          "coloraxis": {
           "colorbar": {
            "outlinewidth": 0,
            "ticks": ""
           }
          },
          "colorscale": {
           "diverging": [
            [
             0,
             "#8e0152"
            ],
            [
             0.1,
             "#c51b7d"
            ],
            [
             0.2,
             "#de77ae"
            ],
            [
             0.3,
             "#f1b6da"
            ],
            [
             0.4,
             "#fde0ef"
            ],
            [
             0.5,
             "#f7f7f7"
            ],
            [
             0.6,
             "#e6f5d0"
            ],
            [
             0.7,
             "#b8e186"
            ],
            [
             0.8,
             "#7fbc41"
            ],
            [
             0.9,
             "#4d9221"
            ],
            [
             1,
             "#276419"
            ]
           ],
           "sequential": [
            [
             0,
             "#0d0887"
            ],
            [
             0.1111111111111111,
             "#46039f"
            ],
            [
             0.2222222222222222,
             "#7201a8"
            ],
            [
             0.3333333333333333,
             "#9c179e"
            ],
            [
             0.4444444444444444,
             "#bd3786"
            ],
            [
             0.5555555555555556,
             "#d8576b"
            ],
            [
             0.6666666666666666,
             "#ed7953"
            ],
            [
             0.7777777777777778,
             "#fb9f3a"
            ],
            [
             0.8888888888888888,
             "#fdca26"
            ],
            [
             1,
             "#f0f921"
            ]
           ],
           "sequentialminus": [
            [
             0,
             "#0d0887"
            ],
            [
             0.1111111111111111,
             "#46039f"
            ],
            [
             0.2222222222222222,
             "#7201a8"
            ],
            [
             0.3333333333333333,
             "#9c179e"
            ],
            [
             0.4444444444444444,
             "#bd3786"
            ],
            [
             0.5555555555555556,
             "#d8576b"
            ],
            [
             0.6666666666666666,
             "#ed7953"
            ],
            [
             0.7777777777777778,
             "#fb9f3a"
            ],
            [
             0.8888888888888888,
             "#fdca26"
            ],
            [
             1,
             "#f0f921"
            ]
           ]
          },
          "colorway": [
           "#636efa",
           "#EF553B",
           "#00cc96",
           "#ab63fa",
           "#FFA15A",
           "#19d3f3",
           "#FF6692",
           "#B6E880",
           "#FF97FF",
           "#FECB52"
          ],
          "font": {
           "color": "#2a3f5f"
          },
          "geo": {
           "bgcolor": "white",
           "lakecolor": "white",
           "landcolor": "#E5ECF6",
           "showlakes": true,
           "showland": true,
           "subunitcolor": "white"
          },
          "hoverlabel": {
           "align": "left"
          },
          "hovermode": "closest",
          "mapbox": {
           "style": "light"
          },
          "paper_bgcolor": "white",
          "plot_bgcolor": "#E5ECF6",
          "polar": {
           "angularaxis": {
            "gridcolor": "white",
            "linecolor": "white",
            "ticks": ""
           },
           "bgcolor": "#E5ECF6",
           "radialaxis": {
            "gridcolor": "white",
            "linecolor": "white",
            "ticks": ""
           }
          },
          "scene": {
           "xaxis": {
            "backgroundcolor": "#E5ECF6",
            "gridcolor": "white",
            "gridwidth": 2,
            "linecolor": "white",
            "showbackground": true,
            "ticks": "",
            "zerolinecolor": "white"
           },
           "yaxis": {
            "backgroundcolor": "#E5ECF6",
            "gridcolor": "white",
            "gridwidth": 2,
            "linecolor": "white",
            "showbackground": true,
            "ticks": "",
            "zerolinecolor": "white"
           },
           "zaxis": {
            "backgroundcolor": "#E5ECF6",
            "gridcolor": "white",
            "gridwidth": 2,
            "linecolor": "white",
            "showbackground": true,
            "ticks": "",
            "zerolinecolor": "white"
           }
          },
          "shapedefaults": {
           "line": {
            "color": "#2a3f5f"
           }
          },
          "ternary": {
           "aaxis": {
            "gridcolor": "white",
            "linecolor": "white",
            "ticks": ""
           },
           "baxis": {
            "gridcolor": "white",
            "linecolor": "white",
            "ticks": ""
           },
           "bgcolor": "#E5ECF6",
           "caxis": {
            "gridcolor": "white",
            "linecolor": "white",
            "ticks": ""
           }
          },
          "title": {
           "x": 0.05
          },
          "xaxis": {
           "automargin": true,
           "gridcolor": "white",
           "linecolor": "white",
           "ticks": "",
           "title": {
            "standoff": 15
           },
           "zerolinecolor": "white",
           "zerolinewidth": 2
          },
          "yaxis": {
           "automargin": true,
           "gridcolor": "white",
           "linecolor": "white",
           "ticks": "",
           "title": {
            "standoff": 15
           },
           "zerolinecolor": "white",
           "zerolinewidth": 2
          }
         }
        },
        "title": {
         "text": "Total Sales by State and Segment"
        },
        "xaxis": {
         "anchor": "y",
         "domain": [
          0,
          1
         ],
         "title": {
          "text": "Sales"
         }
        },
        "yaxis": {
         "anchor": "x",
         "domain": [
          0,
          1
         ],
         "title": {
          "text": "State"
         }
        }
       }
      }
     },
     "metadata": {},
     "output_type": "display_data"
    }
   ],
   "source": [
    "# Group by state and segment, then calculate the total sales\n",
    "total_sales = df.groupby(['State','Segment'])['Sales'].sum().reset_index()\n",
    "\n",
    "# Sort the data by sales \n",
    "total_sales = total_sales.sort_values(by='Sales', ascending=False)\n",
    "\n",
    "# Create a horizontal bar chart to visualize the sales by state and segment\n",
    "fig = px.bar(total_sales, x='Sales', y='State', color='Segment', orientation='h',\n",
    "            hover_data=['Sales'], height=1400, title='Total Sales by State and Segment')\n",
    "\n",
    "# Update the layout to stack the bars\n",
    "fig.update_layout(barmode='stack')\n",
    "\n",
    "# Display the chart\n",
    "fig.show()"
   ]
  },
  {
   "cell_type": "code",
   "execution_count": 15,
   "metadata": {},
   "outputs": [
    {
     "name": "stdout",
     "output_type": "stream",
     "text": [
      "              State      Segment        Sales\n",
      "9        California     Consumer  222419.0500\n",
      "88         New York     Consumer  174100.9230\n",
      "10       California    Corporate  144731.4105\n",
      "119           Texas     Consumer   95360.7300\n",
      "11       California  Home Office   79156.0030\n",
      "..              ...          ...          ...\n",
      "51            Maine  Home Office     106.0800\n",
      "71          Montana    Corporate      48.1880\n",
      "114    South Dakota     Consumer      45.7300\n",
      "95     North Dakota  Home Office      28.3800\n",
      "113  South Carolina  Home Office      25.9200\n",
      "\n",
      "[140 rows x 3 columns]\n"
     ]
    }
   ],
   "source": [
    "total_sales = total_sales.sort_values(by='Sales', ascending=False)\n",
    "print(total_sales)"
   ]
  },
  {
   "cell_type": "markdown",
   "metadata": {},
   "source": [
    "We see that the top 3 states with the highest sales are **California**, **New York**, and **Texas**."
   ]
  },
  {
   "cell_type": "markdown",
   "metadata": {},
   "source": [
    "#### 3.3 Analyze the distribution of products by Order Date.\n",
    "We will be analyzing the distribution of products by Order Date. To determine what date has the highest sales."
   ]
  },
  {
   "cell_type": "code",
   "execution_count": 37,
   "metadata": {},
   "outputs": [],
   "source": [
    "# Extract day, month, and year into separate columns\n",
    "df['Day'] = df['Order Date'].dt.day\n",
    "df['Month'] = df['Order Date'].dt.month\n",
    "df['Year'] = df['Order Date'].dt.year"
   ]
  },
  {
   "cell_type": "code",
   "execution_count": 67,
   "metadata": {},
   "outputs": [
    {
     "data": {
      "application/vnd.plotly.v1+json": {
       "config": {
        "plotlyServerURL": "https://plot.ly"
       },
       "data": [
        {
         "branchvalues": "total",
         "customdata": [
          [
           3,
           3
          ],
          [
           3,
           3
          ],
          [
           12,
           12
          ],
          [
           10,
           10
          ],
          [
           5,
           5
          ],
          [
           8,
           8
          ],
          [
           6,
           6
          ],
          [
           6,
           6
          ],
          [
           7,
           7
          ],
          [
           10,
           10
          ],
          [
           13,
           13
          ],
          [
           21,
           21
          ],
          [
           11,
           11
          ],
          [
           12,
           12
          ],
          [
           7,
           7
          ],
          [
           15,
           15
          ],
          [
           9,
           9
          ],
          [
           7,
           7
          ],
          [
           16,
           16
          ],
          [
           19,
           19
          ],
          [
           5,
           5
          ],
          [
           10,
           10
          ],
          [
           16,
           16
          ],
          [
           16,
           16
          ],
          [
           13,
           13
          ],
          [
           8,
           8
          ],
          [
           7,
           7
          ],
          [
           20,
           20
          ],
          [
           12,
           12
          ],
          [
           11,
           11
          ],
          [
           14,
           14
          ],
          [
           16,
           16
          ],
          [
           18,
           18
          ],
          [
           22,
           22
          ],
          [
           17,
           17
          ],
          [
           48,
           48
          ],
          [
           15,
           15
          ],
          [
           16,
           16
          ],
          [
           12,
           12
          ],
          [
           22,
           22
          ],
          [
           21,
           21
          ],
          [
           27,
           27
          ],
          [
           37,
           37
          ],
          [
           38,
           38
          ],
          [
           22,
           22
          ],
          [
           31,
           31
          ],
          [
           27,
           27
          ],
          [
           35,
           35
          ],
          [
           2,
           2
          ],
          [
           2,
           2
          ],
          [
           1,
           1
          ],
          [
           6,
           6
          ],
          [
           2,
           2
          ],
          [
           2,
           2
          ],
          [
           3,
           3
          ],
          [
           9,
           9
          ],
          [
           5,
           5
          ],
          [
           6,
           6
          ],
          [
           7,
           7
          ],
          [
           13,
           13
          ],
          [
           3,
           3
          ],
          [
           16,
           16
          ],
          [
           5,
           5
          ],
          [
           8,
           8
          ],
          [
           8,
           8
          ],
          [
           8,
           8
          ],
          [
           11,
           11
          ],
          [
           14,
           14
          ],
          [
           7,
           7
          ],
          [
           1,
           1
          ],
          [
           12,
           12
          ],
          [
           11,
           11
          ],
          [
           4,
           4
          ],
          [
           3,
           3
          ],
          [
           10,
           10
          ],
          [
           9,
           9
          ],
          [
           9,
           9
          ],
          [
           7,
           7
          ],
          [
           10,
           10
          ],
          [
           14,
           14
          ],
          [
           19,
           19
          ],
          [
           11,
           11
          ],
          [
           12,
           12
          ],
          [
           21,
           21
          ],
          [
           4,
           4
          ],
          [
           7,
           7
          ],
          [
           6,
           6
          ],
          [
           11,
           11
          ],
          [
           13,
           13
          ],
          [
           16,
           16
          ],
          [
           15,
           15
          ],
          [
           22,
           22
          ],
          [
           16,
           16
          ],
          [
           14,
           14
          ],
          [
           21,
           21
          ],
          [
           23,
           23
          ],
          [
           9,
           9
          ],
          [
           7,
           7
          ],
          [
           8,
           8
          ],
          [
           16,
           16
          ],
          [
           2,
           2
          ],
          [
           7,
           7
          ],
          [
           3,
           3
          ],
          [
           7,
           7
          ],
          [
           22,
           22
          ],
          [
           9,
           9
          ],
          [
           8,
           8
          ],
          [
           17,
           17
          ],
          [
           15,
           15
          ],
          [
           17,
           17
          ],
          [
           18,
           18
          ],
          [
           22,
           22
          ],
          [
           9,
           9
          ],
          [
           12,
           12
          ],
          [
           17,
           17
          ],
          [
           22,
           22
          ],
          [
           19,
           19
          ],
          [
           9,
           9
          ],
          [
           11,
           11
          ],
          [
           20,
           20
          ],
          [
           12,
           12
          ],
          [
           8,
           8
          ],
          [
           15,
           15
          ],
          [
           22,
           22
          ],
          [
           10,
           10
          ],
          [
           14,
           14
          ],
          [
           9,
           9
          ],
          [
           15,
           15
          ],
          [
           20,
           20
          ],
          [
           21,
           21
          ],
          [
           29,
           29
          ],
          [
           42,
           42
          ],
          [
           9,
           9
          ],
          [
           10,
           10
          ],
          [
           16,
           16
          ],
          [
           20,
           20
          ],
          [
           20,
           20
          ],
          [
           22,
           22
          ],
          [
           23,
           23
          ],
          [
           40,
           40
          ],
          [
           15,
           15
          ],
          [
           29,
           29
          ],
          [
           22,
           22
          ],
          [
           36,
           36
          ],
          [
           12,
           12
          ],
          [
           6,
           6
          ],
          [
           13,
           13
          ],
          [
           30,
           30
          ],
          [
           13,
           13
          ],
          [
           10,
           10
          ],
          [
           9,
           9
          ],
          [
           11,
           11
          ],
          [
           22,
           22
          ],
          [
           13,
           13
          ],
          [
           24,
           24
          ],
          [
           38,
           38
          ],
          [
           17,
           17
          ],
          [
           22,
           22
          ],
          [
           29,
           29
          ],
          [
           35,
           35
          ],
          [
           19,
           19
          ],
          [
           19,
           19
          ],
          [
           35,
           35
          ],
          [
           35,
           35
          ],
          [
           22,
           22
          ],
          [
           27,
           27
          ],
          [
           27,
           27
          ],
          [
           32,
           32
          ],
          [
           24,
           24
          ],
          [
           26,
           26
          ],
          [
           30,
           30
          ],
          [
           30,
           30
          ],
          [
           23,
           23
          ],
          [
           24,
           24
          ],
          [
           31,
           31
          ],
          [
           35,
           35
          ],
          [
           37,
           37
          ],
          [
           52,
           52
          ],
          [
           60,
           60
          ],
          [
           63,
           63
          ],
          [
           25,
           25
          ],
          [
           23,
           23
          ],
          [
           31,
           31
          ],
          [
           42,
           42
          ],
          [
           39,
           39
          ],
          [
           50,
           50
          ],
          [
           65,
           65
          ],
          [
           63,
           63
          ],
          [
           30,
           30
          ],
          [
           37,
           37
          ],
          [
           54,
           54
          ],
          [
           78,
           78
          ],
          [
           5,
           5
          ],
          [
           2,
           2
          ],
          [
           4,
           4
          ],
          [
           2,
           2
          ],
          [
           1,
           1
          ],
          [
           1,
           1
          ],
          [
           5,
           5
          ],
          [
           3,
           3
          ],
          [
           4,
           4
          ],
          [
           5,
           5
          ],
          [
           4,
           4
          ],
          [
           1,
           1
          ],
          [
           2,
           2
          ],
          [
           4,
           4
          ],
          [
           7,
           7
          ],
          [
           2,
           2
          ],
          [
           2,
           2
          ],
          [
           9,
           9
          ],
          [
           3,
           3
          ],
          [
           1,
           1
          ],
          [
           5,
           5
          ],
          [
           10,
           10
          ],
          [
           2,
           2
          ],
          [
           7,
           7
          ],
          [
           4,
           4
          ],
          [
           4,
           4
          ],
          [
           2,
           2
          ],
          [
           6,
           6
          ],
          [
           3,
           3
          ],
          [
           3,
           3
          ],
          [
           5,
           5
          ],
          [
           9,
           9
          ],
          [
           11,
           11
          ],
          [
           7,
           7
          ],
          [
           1,
           1
          ],
          [
           6,
           6
          ],
          [
           4,
           4
          ],
          [
           7,
           7
          ],
          [
           9,
           9
          ],
          [
           11,
           11
          ],
          [
           8,
           8
          ],
          [
           6,
           6
          ],
          [
           4,
           4
          ],
          [
           8,
           8
          ],
          [
           5,
           5
          ],
          [
           12,
           12
          ],
          [
           3,
           3
          ],
          [
           4,
           4
          ],
          [
           3,
           3
          ],
          [
           6,
           6
          ],
          [
           2,
           2
          ],
          [
           5,
           5
          ],
          [
           5,
           5
          ],
          [
           5,
           5
          ],
          [
           12,
           12
          ],
          [
           8,
           8
          ],
          [
           10,
           10
          ],
          [
           11,
           11
          ],
          [
           7,
           7
          ],
          [
           11,
           11
          ],
          [
           13,
           13
          ],
          [
           5,
           5
          ],
          [
           9,
           9
          ],
          [
           10,
           10
          ],
          [
           10,
           10
          ],
          [
           18,
           18
          ],
          [
           8,
           8
          ],
          [
           6,
           6
          ],
          [
           9,
           9
          ],
          [
           13,
           13
          ],
          [
           13,
           13
          ],
          [
           14,
           14
          ],
          [
           13,
           13
          ],
          [
           13,
           13
          ],
          [
           4,
           4
          ],
          [
           5,
           5
          ],
          [
           6,
           6
          ],
          [
           10,
           10
          ],
          [
           15,
           15
          ],
          [
           16,
           16
          ],
          [
           26,
           26
          ],
          [
           32,
           32
          ],
          [
           12,
           12
          ],
          [
           12,
           12
          ],
          [
           14,
           14
          ],
          [
           15,
           15
          ],
          [
           18,
           18
          ],
          [
           21,
           21
          ],
          [
           27,
           27
          ],
          [
           27,
           27
          ],
          [
           25,
           25
          ],
          [
           19,
           19
          ],
          [
           25,
           25
          ],
          [
           32,
           32
          ],
          [
           1,
           1
          ],
          [
           1,
           1
          ],
          [
           2,
           2
          ],
          [
           6,
           6
          ],
          [
           3,
           3
          ],
          [
           1,
           1
          ],
          [
           3,
           3
          ],
          [
           1,
           1
          ],
          [
           2,
           2
          ],
          [
           1,
           1
          ],
          [
           1,
           1
          ],
          [
           1,
           1
          ],
          [
           3,
           3
          ],
          [
           3,
           3
          ],
          [
           2,
           2
          ],
          [
           1,
           1
          ],
          [
           2,
           2
          ],
          [
           1,
           1
          ],
          [
           3,
           3
          ],
          [
           2,
           2
          ],
          [
           1,
           1
          ],
          [
           1,
           1
          ],
          [
           2,
           2
          ],
          [
           2,
           2
          ],
          [
           1,
           1
          ],
          [
           3,
           3
          ],
          [
           1,
           1
          ],
          [
           3,
           3
          ],
          [
           2,
           2
          ],
          [
           4,
           4
          ],
          [
           2,
           2
          ],
          [
           4,
           4
          ],
          [
           4,
           4
          ],
          [
           1,
           1
          ],
          [
           4,
           4
          ],
          [
           5,
           5
          ],
          [
           2,
           2
          ],
          [
           3,
           3
          ],
          [
           1,
           1
          ],
          [
           3,
           3
          ],
          [
           5,
           5
          ],
          [
           6,
           6
          ],
          [
           7,
           7
          ],
          [
           2,
           2
          ],
          [
           2,
           2
          ],
          [
           6,
           6
          ],
          [
           5,
           5
          ],
          [
           2,
           2
          ],
          [
           4,
           4
          ],
          [
           5,
           5
          ],
          [
           5,
           5
          ],
          [
           4,
           4
          ],
          [
           3,
           3
          ],
          [
           1,
           1
          ],
          [
           2,
           2
          ],
          [
           2,
           2
          ],
          [
           4,
           4
          ],
          [
           4,
           4
          ],
          [
           1,
           1
          ],
          [
           4,
           4
          ],
          [
           4,
           4
          ],
          [
           6,
           6
          ],
          [
           7,
           7
          ],
          [
           12,
           12
          ],
          [
           10,
           10
          ],
          [
           14,
           14
          ],
          [
           7,
           7
          ],
          [
           9,
           9
          ],
          [
           4,
           4
          ],
          [
           7,
           7
          ],
          [
           13,
           13
          ],
          [
           12,
           12
          ],
          [
           6,
           6
          ],
          [
           11,
           11
          ],
          [
           5,
           5
          ],
          [
           11,
           11
          ],
          [
           6,
           6
          ],
          [
           7,
           7
          ],
          [
           1,
           1
          ],
          [
           1,
           1
          ],
          [
           4,
           4
          ],
          [
           1,
           1
          ],
          [
           1,
           1
          ],
          [
           5,
           5
          ],
          [
           5,
           5
          ],
          [
           3,
           3
          ],
          [
           4,
           4
          ],
          [
           2,
           2
          ],
          [
           3,
           3
          ],
          [
           5,
           5
          ],
          [
           4,
           4
          ],
          [
           4,
           4
          ],
          [
           4,
           4
          ],
          [
           2,
           2
          ],
          [
           3,
           3
          ],
          [
           3,
           3
          ],
          [
           5,
           5
          ],
          [
           3,
           3
          ],
          [
           2,
           2
          ],
          [
           3,
           3
          ],
          [
           3,
           3
          ],
          [
           3,
           3
          ],
          [
           4,
           4
          ],
          [
           6,
           6
          ],
          [
           3,
           3
          ],
          [
           5,
           5
          ],
          [
           2,
           2
          ],
          [
           5,
           5
          ],
          [
           3,
           3
          ],
          [
           8,
           8
          ],
          [
           6,
           6
          ],
          [
           7,
           7
          ],
          [
           8,
           8
          ],
          [
           6,
           6
          ],
          [
           1,
           1
          ],
          [
           6,
           6
          ],
          [
           5,
           5
          ],
          [
           6,
           6
          ],
          [
           10,
           10
          ],
          [
           11,
           11
          ],
          [
           9,
           9
          ],
          [
           6,
           6
          ],
          [
           7,
           7
          ],
          [
           5,
           5
          ],
          [
           11,
           11
          ],
          [
           10,
           10
          ],
          [
           6,
           6
          ],
          [
           11,
           11
          ],
          [
           9,
           9
          ],
          [
           4,
           4
          ],
          [
           3,
           3
          ],
          [
           11,
           11
          ],
          [
           12,
           12
          ],
          [
           10,
           10
          ],
          [
           12,
           12
          ],
          [
           17,
           17
          ],
          [
           18,
           18
          ],
          [
           11,
           11
          ],
          [
           14,
           14
          ],
          [
           15,
           15
          ],
          [
           28,
           28
          ],
          [
           9,
           9
          ],
          [
           17,
           17
          ],
          [
           25,
           25
          ],
          [
           20,
           20
          ],
          [
           10,
           10
          ],
          [
           17,
           17
          ],
          [
           13,
           13
          ],
          [
           18,
           18
          ],
          [
           12,
           12
          ],
          [
           14,
           14
          ],
          [
           18,
           18
          ],
          [
           26,
           26
          ],
          [
           12,
           12
          ],
          [
           14,
           14
          ],
          [
           9,
           9
          ],
          [
           19,
           19
          ],
          [
           28,
           28
          ],
          [
           23,
           23
          ],
          [
           35,
           35
          ],
          [
           34,
           34
          ],
          [
           12,
           12
          ],
          [
           12,
           12
          ],
          [
           23,
           23
          ],
          [
           27,
           27
          ],
          [
           26,
           26
          ],
          [
           34,
           34
          ],
          [
           37,
           37
          ],
          [
           49,
           49
          ],
          [
           35,
           35
          ],
          [
           29,
           29
          ],
          [
           33,
           33
          ],
          [
           50,
           50
          ],
          [
           3,
           3
          ],
          [
           3,
           3
          ],
          [
           3,
           3
          ],
          [
           3,
           3
          ],
          [
           3,
           3
          ],
          [
           5,
           5
          ],
          [
           3,
           3
          ],
          [
           2,
           2
          ],
          [
           7,
           7
          ],
          [
           5,
           5
          ],
          [
           1,
           1
          ],
          [
           11,
           11
          ],
          [
           6,
           6
          ],
          [
           3,
           3
          ],
          [
           2,
           2
          ],
          [
           15,
           15
          ],
          [
           4,
           4
          ],
          [
           8,
           8
          ],
          [
           8,
           8
          ],
          [
           10,
           10
          ],
          [
           2,
           2
          ],
          [
           5,
           5
          ],
          [
           14,
           14
          ],
          [
           6,
           6
          ],
          [
           4,
           4
          ],
          [
           4,
           4
          ],
          [
           9,
           9
          ],
          [
           9,
           9
          ],
          [
           3,
           3
          ],
          [
           9,
           9
          ],
          [
           9,
           9
          ],
          [
           8,
           8
          ],
          [
           10,
           10
          ],
          [
           9,
           9
          ],
          [
           18,
           18
          ],
          [
           14,
           14
          ],
          [
           6,
           6
          ],
          [
           3,
           3
          ],
          [
           6,
           6
          ],
          [
           13,
           13
          ],
          [
           16,
           16
          ],
          [
           6,
           6
          ],
          [
           12,
           12
          ],
          [
           11,
           11
          ],
          [
           11,
           11
          ],
          [
           14,
           14
          ],
          [
           10,
           10
          ],
          [
           11,
           11
          ],
          [
           2,
           2
          ],
          [
           3,
           3
          ],
          [
           1,
           1
          ],
          [
           1,
           1
          ],
          [
           4,
           4
          ],
          [
           4,
           4
          ],
          [
           2,
           2
          ],
          [
           1,
           1
          ],
          [
           2,
           2
          ],
          [
           1,
           1
          ],
          [
           2,
           2
          ],
          [
           2,
           2
          ],
          [
           5,
           5
          ],
          [
           1,
           1
          ],
          [
           3,
           3
          ],
          [
           5,
           5
          ],
          [
           3,
           3
          ],
          [
           1,
           1
          ],
          [
           2,
           2
          ],
          [
           2,
           2
          ],
          [
           3,
           3
          ],
          [
           2,
           2
          ],
          [
           1,
           1
          ],
          [
           12,
           12
          ],
          [
           1,
           1
          ],
          [
           2,
           2
          ],
          [
           5,
           5
          ],
          [
           1,
           1
          ],
          [
           2,
           2
          ],
          [
           2,
           2
          ],
          [
           4,
           4
          ],
          [
           3,
           3
          ],
          [
           6,
           6
          ],
          [
           6,
           6
          ],
          [
           6,
           6
          ],
          [
           2,
           2
          ],
          [
           5,
           5
          ],
          [
           2,
           2
          ],
          [
           3,
           3
          ],
          [
           10,
           10
          ],
          [
           10,
           10
          ],
          [
           11,
           11
          ],
          [
           14,
           14
          ],
          [
           6,
           6
          ],
          [
           9,
           9
          ],
          [
           10,
           10
          ],
          [
           15,
           15
          ],
          [
           22,
           22
          ],
          [
           21,
           21
          ],
          [
           21,
           21
          ],
          [
           30,
           30
          ],
          [
           17,
           17
          ],
          [
           13,
           13
          ],
          [
           22,
           22
          ],
          [
           24,
           24
          ],
          [
           17,
           17
          ],
          [
           19,
           19
          ],
          [
           40,
           40
          ],
          [
           30,
           30
          ],
          [
           13,
           13
          ],
          [
           20,
           20
          ],
          [
           38,
           38
          ],
          [
           38,
           38
          ],
          [
           17,
           17
          ],
          [
           17,
           17
          ],
          [
           25,
           25
          ],
          [
           31,
           31
          ],
          [
           28,
           28
          ],
          [
           20,
           20
          ],
          [
           28,
           28
          ],
          [
           27,
           27
          ],
          [
           38,
           38
          ],
          [
           30,
           30
          ],
          [
           50,
           50
          ],
          [
           76,
           76
          ],
          [
           17,
           17
          ],
          [
           18,
           18
          ],
          [
           28,
           28
          ],
          [
           43,
           43
          ],
          [
           44,
           44
          ],
          [
           37,
           37
          ],
          [
           43,
           43
          ],
          [
           63,
           63
          ],
          [
           36,
           36
          ],
          [
           50,
           50
          ],
          [
           41,
           41
          ],
          [
           61,
           61
          ],
          [
           6,
           6
          ],
          [
           5,
           5
          ],
          [
           9,
           9
          ],
          [
           14,
           14
          ],
          [
           3,
           3
          ],
          [
           6,
           6
          ],
          [
           9,
           9
          ],
          [
           14,
           14
          ],
          [
           10,
           10
          ],
          [
           15,
           15
          ],
          [
           20,
           20
          ],
          [
           26,
           26
          ],
          [
           12,
           12
          ],
          [
           20,
           20
          ],
          [
           13,
           13
          ],
          [
           8,
           8
          ],
          [
           15,
           15
          ],
          [
           12,
           12
          ],
          [
           19,
           19
          ],
          [
           21,
           21
          ],
          [
           13,
           13
          ],
          [
           16,
           16
          ],
          [
           15,
           15
          ],
          [
           24,
           24
          ],
          [
           13,
           13
          ],
          [
           12,
           12
          ],
          [
           20,
           20
          ],
          [
           24,
           24
          ],
          [
           12,
           12
          ],
          [
           15,
           15
          ],
          [
           21,
           21
          ],
          [
           17,
           17
          ],
          [
           14,
           14
          ],
          [
           22,
           22
          ],
          [
           24,
           24
          ],
          [
           36,
           36
          ],
          [
           13,
           13
          ],
          [
           21,
           21
          ],
          [
           13,
           13
          ],
          [
           30,
           30
          ],
          [
           36,
           36
          ],
          [
           25,
           25
          ],
          [
           29,
           29
          ],
          [
           43,
           43
          ],
          [
           23,
           23
          ],
          [
           27,
           27
          ],
          [
           28,
           28
          ],
          [
           33,
           33
          ],
          [
           8,
           8
          ],
          [
           2,
           2
          ],
          [
           4,
           4
          ],
          [
           11,
           11
          ],
          [
           3,
           3
          ],
          [
           3,
           3
          ],
          [
           11,
           11
          ],
          [
           7,
           7
          ],
          [
           16,
           16
          ],
          [
           11,
           11
          ],
          [
           12,
           12
          ],
          [
           21,
           21
          ],
          [
           13,
           13
          ],
          [
           10,
           10
          ],
          [
           17,
           17
          ],
          [
           14,
           14
          ],
          [
           6,
           6
          ],
          [
           14,
           14
          ],
          [
           16,
           16
          ],
          [
           18,
           18
          ],
          [
           8,
           8
          ],
          [
           10,
           10
          ],
          [
           16,
           16
          ],
          [
           26,
           26
          ],
          [
           13,
           13
          ],
          [
           9,
           9
          ],
          [
           21,
           21
          ],
          [
           16,
           16
          ],
          [
           9,
           9
          ],
          [
           16,
           16
          ],
          [
           7,
           7
          ],
          [
           24,
           24
          ],
          [
           24,
           24
          ],
          [
           34,
           34
          ],
          [
           30,
           30
          ],
          [
           36,
           36
          ],
          [
           19,
           19
          ],
          [
           14,
           14
          ],
          [
           15,
           15
          ],
          [
           23,
           23
          ],
          [
           27,
           27
          ],
          [
           27,
           27
          ],
          [
           30,
           30
          ],
          [
           42,
           42
          ],
          [
           29,
           29
          ],
          [
           17,
           17
          ],
          [
           30,
           30
          ],
          [
           43,
           43
          ],
          [
           1,
           1
          ],
          [
           4,
           4
          ],
          [
           1,
           1
          ],
          [
           1,
           1
          ],
          [
           1,
           1
          ],
          [
           1,
           1
          ],
          [
           1,
           1
          ],
          [
           3,
           3
          ],
          [
           4,
           4
          ],
          [
           2,
           2
          ],
          [
           2,
           2
          ],
          [
           8,
           8
          ],
          [
           4,
           4
          ],
          [
           3,
           3
          ],
          [
           4,
           4
          ],
          [
           3,
           3
          ],
          [
           6,
           6
          ],
          [
           3,
           3
          ],
          [
           3,
           3
          ],
          [
           5,
           5
          ],
          [
           3,
           3
          ],
          [
           1,
           1
          ],
          [
           7,
           7
          ],
          [
           3,
           3
          ],
          [
           6,
           6
          ],
          [
           4,
           4
          ],
          [
           7,
           7
          ],
          [
           8,
           8
          ],
          [
           3,
           3
          ],
          [
           7,
           7
          ],
          [
           7,
           7
          ],
          [
           7,
           7
          ],
          [
           4,
           4
          ],
          [
           3,
           3
          ],
          [
           5,
           5
          ],
          [
           2,
           2
          ],
          [
           8,
           8
          ],
          [
           4,
           4
          ],
          [
           7,
           7
          ],
          [
           6,
           6
          ],
          [
           4,
           4
          ],
          [
           2,
           2
          ],
          [
           8,
           8
          ],
          [
           8,
           8
          ],
          [
           1,
           1
          ],
          [
           3,
           3
          ],
          [
           4,
           4
          ],
          [
           5,
           5
          ],
          [
           1,
           1
          ],
          [
           2,
           2
          ],
          [
           2,
           2
          ],
          [
           3,
           3
          ],
          [
           7,
           7
          ],
          [
           2,
           2
          ],
          [
           8,
           8
          ],
          [
           5,
           5
          ],
          [
           7,
           7
          ],
          [
           6,
           6
          ],
          [
           3,
           3
          ],
          [
           4,
           4
          ],
          [
           4,
           4
          ],
          [
           1,
           1
          ],
          [
           6,
           6
          ],
          [
           6,
           6
          ],
          [
           8,
           8
          ],
          [
           1,
           1
          ],
          [
           8,
           8
          ],
          [
           8,
           8
          ],
          [
           6,
           6
          ],
          [
           4,
           4
          ],
          [
           2,
           2
          ],
          [
           7,
           7
          ],
          [
           5,
           5
          ],
          [
           7,
           7
          ],
          [
           10,
           10
          ],
          [
           6,
           6
          ],
          [
           8,
           8
          ],
          [
           7,
           7
          ],
          [
           9,
           9
          ],
          [
           9,
           9
          ],
          [
           7,
           7
          ],
          [
           5,
           5
          ],
          [
           5,
           5
          ],
          [
           22,
           22
          ],
          [
           7,
           7
          ],
          [
           10,
           10
          ],
          [
           9,
           9
          ],
          [
           17,
           17
          ],
          [
           9,
           9
          ],
          [
           7,
           7
          ],
          [
           19,
           19
          ],
          [
           12,
           12
          ],
          [
           7.105263157894737,
           7.105263157894737
          ],
          [
           4.333333333333333,
           4.333333333333333
          ],
          [
           7.363636363636363,
           7.363636363636363
          ],
          [
           6.636363636363637,
           6.636363636363637
          ],
          [
           3,
           3
          ],
          [
           3.5454545454545454,
           3.5454545454545454
          ],
          [
           7.947368421052632,
           7.947368421052632
          ],
          [
           8.12,
           8.12
          ],
          [
           9.4375,
           9.4375
          ],
          [
           8.76923076923077,
           8.76923076923077
          ],
          [
           11.95,
           11.95
          ],
          [
           12.789473684210526,
           12.789473684210526
          ],
          [
           8.461538461538462,
           8.461538461538462
          ],
          [
           10.818181818181818,
           10.818181818181818
          ],
          [
           11.971428571428572,
           11.971428571428572
          ],
          [
           19.863636363636363,
           19.863636363636363
          ],
          [
           7.583333333333333,
           7.583333333333333
          ],
          [
           13.133333333333333,
           13.133333333333333
          ],
          [
           18.5609756097561,
           18.5609756097561
          ],
          [
           15.867924528301886,
           15.867924528301886
          ],
          [
           8.172413793103448,
           8.172413793103448
          ],
          [
           13.08,
           13.08
          ],
          [
           9.685714285714285,
           9.685714285714285
          ],
          [
           13.408163265306122,
           13.408163265306122
          ],
          [
           10.696969696969697,
           10.696969696969697
          ],
          [
           11.717948717948717,
           11.717948717948717
          ],
          [
           13.864864864864865,
           13.864864864864865
          ],
          [
           18.2,
           18.2
          ],
          [
           8.217391304347826,
           8.217391304347826
          ],
          [
           9.5625,
           9.5625
          ],
          [
           8.071428571428571,
           8.071428571428571
          ],
          [
           13.31578947368421,
           13.31578947368421
          ],
          [
           19.607142857142858,
           19.607142857142858
          ],
          [
           16.636363636363637,
           16.636363636363637
          ],
          [
           25.962962962962962,
           25.962962962962962
          ],
          [
           28.170731707317074,
           28.170731707317074
          ],
          [
           10.5625,
           10.5625
          ],
          [
           9.971428571428572,
           9.971428571428572
          ],
          [
           16.652173913043477,
           16.652173913043477
          ],
          [
           20.943661971830984,
           20.943661971830984
          ],
          [
           18.833333333333332,
           18.833333333333332
          ],
          [
           23.92105263157895,
           23.92105263157895
          ],
          [
           27.691358024691358,
           27.691358024691358
          ],
          [
           34.898989898989896,
           34.898989898989896
          ],
          [
           26.671232876712327,
           26.671232876712327
          ],
          [
           20.873015873015873,
           20.873015873015873
          ],
          [
           25.609756097560975,
           25.609756097560975
          ],
          [
           35.9622641509434,
           35.9622641509434
          ],
          [
           8.551020408163266,
           8.551020408163266
          ],
          [
           6.375,
           6.375
          ],
          [
           8.822222222222223,
           8.822222222222223
          ],
          [
           16.93548387096774,
           16.93548387096774
          ],
          [
           7.516129032258065,
           7.516129032258065
          ],
          [
           7,
           7
          ],
          [
           7.583333333333333,
           7.583333333333333
          ],
          [
           9.586206896551724,
           9.586206896551724
          ],
          [
           17.831683168316832,
           17.831683168316832
          ],
          [
           12.2,
           12.2
          ],
          [
           15.761904761904763,
           15.761904761904763
          ],
          [
           23.875,
           23.875
          ],
          [
           13.125,
           13.125
          ],
          [
           14.955056179775282,
           14.955056179775282
          ],
          [
           18.765765765765767,
           18.765765765765767
          ],
          [
           21.580152671755727,
           21.580152671755727
          ],
          [
           12.342857142857143,
           12.342857142857143
          ],
          [
           13.527472527472527,
           13.527472527472527
          ],
          [
           26.07246376811594,
           26.07246376811594
          ],
          [
           22.862068965517242,
           22.862068965517242
          ],
          [
           14.382716049382717,
           14.382716049382717
          ],
          [
           17.51948051948052,
           17.51948051948052
          ],
          [
           23.272,
           23.272
          ],
          [
           26.146853146853147,
           26.146853146853147
          ],
          [
           15.024390243902438,
           15.024390243902438
          ],
          [
           15.368421052631579,
           15.368421052631579
          ],
          [
           19.47244094488189,
           19.47244094488189
          ],
          [
           22.43548387096774,
           22.43548387096774
          ],
          [
           17.123711340206185,
           17.123711340206185
          ],
          [
           16.4375,
           16.4375
          ],
          [
           19.509090909090908,
           19.509090909090908
          ],
          [
           22.314285714285713,
           22.314285714285713
          ],
          [
           26.337349397590362,
           26.337349397590362
          ],
          [
           30.945054945054945,
           30.945054945054945
          ],
          [
           38.14798206278027,
           38.14798206278027
          ],
          [
           48.93594306049822,
           48.93594306049822
          ],
          [
           15.556701030927835,
           15.556701030927835
          ],
          [
           14.75,
           14.75
          ],
          [
           20.299145299145298,
           20.299145299145298
          ],
          [
           29.57831325301205,
           29.57831325301205
          ],
          [
           28.387096774193548,
           28.387096774193548
          ],
          [
           30.619565217391305,
           30.619565217391305
          ],
          [
           38.10377358490566,
           38.10377358490566
          ],
          [
           45.48689138576779,
           45.48689138576779
          ],
          [
           24.44736842105263,
           24.44736842105263
          ],
          [
           30.74585635359116,
           30.74585635359116
          ],
          [
           33.74111675126903,
           33.74111675126903
          ],
          [
           49.76258992805755,
           49.76258992805755
          ],
          [
           5,
           5
          ],
          [
           3.8,
           3.8
          ],
          [
           10.272727272727273,
           10.272727272727273
          ],
          [
           10.928571428571429,
           10.928571428571429
          ],
          [
           4.25,
           4.25
          ],
          [
           7.142857142857143,
           7.142857142857143
          ],
          [
           7.375,
           7.375
          ],
          [
           11.095238095238095,
           11.095238095238095
          ],
          [
           7.857142857142857,
           7.857142857142857
          ],
          [
           12.185185185185185,
           12.185185185185185
          ],
          [
           15.81081081081081,
           15.81081081081081
          ],
          [
           21.036363636363635,
           21.036363636363635
          ],
          [
           11.083333333333334,
           11.083333333333334
          ],
          [
           15.054054054054054,
           15.054054054054054
          ],
          [
           10,
           10
          ],
          [
           11.72,
           11.72
          ],
          [
           11.666666666666666,
           11.666666666666666
          ],
          [
           9,
           9
          ],
          [
           15.380952380952381,
           15.380952380952381
          ],
          [
           19.142857142857142,
           19.142857142857142
          ],
          [
           9.666666666666666,
           9.666666666666666
          ],
          [
           13.222222222222221,
           13.222222222222221
          ],
          [
           14.055555555555555,
           14.055555555555555
          ],
          [
           19.558139534883722,
           19.558139534883722
          ],
          [
           12.555555555555555,
           12.555555555555555
          ],
          [
           9.952380952380953,
           9.952380952380953
          ],
          [
           14.4375,
           14.4375
          ],
          [
           20.183673469387756,
           20.183673469387756
          ],
          [
           11.23076923076923,
           11.23076923076923
          ],
          [
           11.866666666666667,
           11.866666666666667
          ],
          [
           17.324324324324323,
           17.324324324324323
          ],
          [
           15.277777777777779,
           15.277777777777779
          ],
          [
           14.777777777777779,
           14.777777777777779
          ],
          [
           20.375,
           20.375
          ],
          [
           19.4,
           19.4
          ],
          [
           40.28888888888889,
           40.28888888888889
          ],
          [
           13.2,
           13.2
          ],
          [
           17.195121951219512,
           17.195121951219512
          ],
          [
           11.068965517241379,
           11.068965517241379
          ],
          [
           24.57894736842105,
           24.57894736842105
          ],
          [
           29.1,
           29.1
          ],
          [
           22.934426229508198,
           22.934426229508198
          ],
          [
           30.78082191780822,
           30.78082191780822
          ],
          [
           37.08888888888889,
           37.08888888888889
          ],
          [
           20.836734693877553,
           20.836734693877553
          ],
          [
           25.83582089552239,
           25.83582089552239
          ],
          [
           25.779661016949152,
           25.779661016949152
          ],
          [
           31.186666666666667,
           31.186666666666667
          ],
          [
           7.779220779220779,
           7.779220779220779
          ],
          [
           5.385964912280702,
           5.385964912280702
          ],
          [
           8.820224719101123,
           8.820224719101123
          ],
          [
           14.174825174825175,
           14.174825174825175
          ],
          [
           6.260869565217392,
           6.260869565217392
          ],
          [
           6.4375,
           6.4375
          ],
          [
           7.626506024096385,
           7.626506024096385
          ],
          [
           9.538461538461538,
           9.538461538461538
          ],
          [
           14.727272727272727,
           14.727272727272727
          ],
          [
           11.5,
           11.5
          ],
          [
           14.826086956521738,
           14.826086956521738
          ],
          [
           21.438818565400844,
           21.438818565400844
          ],
          [
           11.815384615384616,
           11.815384615384616
          ],
          [
           14.119496855345911,
           14.119496855345911
          ],
          [
           16.202380952380953,
           16.202380952380953
          ],
          [
           19.97,
           19.97
          ],
          [
           11.24793388429752,
           11.24793388429752
          ],
          [
           12.748251748251748,
           12.748251748251748
          ],
          [
           22.647058823529413,
           22.647058823529413
          ],
          [
           20.666666666666668,
           20.666666666666668
          ],
          [
           12.251908396946565,
           12.251908396946565
          ],
          [
           15.75968992248062,
           15.75968992248062
          ],
          [
           19.153061224489797,
           19.153061224489797
          ],
          [
           22.285106382978725,
           22.285106382978725
          ],
          [
           13.549295774647888,
           13.549295774647888
          ],
          [
           13.485294117647058,
           13.485294117647058
          ],
          [
           17.591836734693878,
           17.591836734693878
          ],
          [
           20.99103139013453,
           20.99103139013453
          ],
          [
           14.67123287671233,
           14.67123287671233
          ],
          [
           14.177215189873417,
           14.177215189873417
          ],
          [
           17.217142857142857,
           17.217142857142857
          ],
          [
           19.53271028037383,
           19.53271028037383
          ],
          [
           22.97752808988764,
           22.97752808988764
          ],
          [
           26.403508771929825,
           26.403508771929825
          ],
          [
           32.902578796561606,
           32.902578796561606
          ],
          [
           43.45916114790287,
           43.45916114790287
          ],
          [
           14.10691823899371,
           14.10691823899371
          ],
          [
           14.341463414634147,
           14.341463414634147
          ],
          [
           18.03125,
           18.03125
          ],
          [
           26.523809523809526,
           26.523809523809526
          ],
          [
           26.65359477124183,
           26.65359477124183
          ],
          [
           27.573208722741434,
           27.573208722741434
          ],
          [
           34.33879781420765,
           34.33879781420765
          ],
          [
           41.530701754385966,
           41.530701754385966
          ],
          [
           24.394160583941606,
           24.394160583941606
          ],
          [
           27.688102893890676,
           27.688102893890676
          ],
          [
           30.37869822485207,
           30.37869822485207
          ],
          [
           43.54030501089325,
           43.54030501089325
          ],
          [
           17.89093701996928,
           17.89093701996928
          ],
          [
           19.32116788321168,
           19.32116788321168
          ],
          [
           23.49171270718232,
           23.49171270718232
          ],
          [
           29.944751381215468,
           29.944751381215468
          ],
          [
           23.646326530612246,
           23.646326530612246
          ]
         ],
         "domain": {
          "x": [
           0,
           1
          ],
          "y": [
           0,
           1
          ]
         },
         "hovertemplate": "labels=%{label}<br>Sales_sum=%{value}<br>parent=%{parent}<br>id=%{id}<br>Sales=%{color}<extra></extra>",
         "ids": [
          "all/2015/1/Technology/Accessories",
          "all/2016/1/Technology/Accessories",
          "all/2017/1/Technology/Accessories",
          "all/2018/1/Technology/Accessories",
          "all/2015/2/Technology/Accessories",
          "all/2016/2/Technology/Accessories",
          "all/2017/2/Technology/Accessories",
          "all/2018/2/Technology/Accessories",
          "all/2015/3/Technology/Accessories",
          "all/2016/3/Technology/Accessories",
          "all/2017/3/Technology/Accessories",
          "all/2018/3/Technology/Accessories",
          "all/2015/4/Technology/Accessories",
          "all/2016/4/Technology/Accessories",
          "all/2017/4/Technology/Accessories",
          "all/2018/4/Technology/Accessories",
          "all/2015/5/Technology/Accessories",
          "all/2016/5/Technology/Accessories",
          "all/2017/5/Technology/Accessories",
          "all/2018/5/Technology/Accessories",
          "all/2015/6/Technology/Accessories",
          "all/2016/6/Technology/Accessories",
          "all/2017/6/Technology/Accessories",
          "all/2018/6/Technology/Accessories",
          "all/2015/7/Technology/Accessories",
          "all/2016/7/Technology/Accessories",
          "all/2017/7/Technology/Accessories",
          "all/2018/7/Technology/Accessories",
          "all/2015/8/Technology/Accessories",
          "all/2016/8/Technology/Accessories",
          "all/2017/8/Technology/Accessories",
          "all/2018/8/Technology/Accessories",
          "all/2015/9/Technology/Accessories",
          "all/2016/9/Technology/Accessories",
          "all/2017/9/Technology/Accessories",
          "all/2018/9/Technology/Accessories",
          "all/2015/10/Technology/Accessories",
          "all/2016/10/Technology/Accessories",
          "all/2017/10/Technology/Accessories",
          "all/2018/10/Technology/Accessories",
          "all/2015/11/Technology/Accessories",
          "all/2016/11/Technology/Accessories",
          "all/2017/11/Technology/Accessories",
          "all/2018/11/Technology/Accessories",
          "all/2015/12/Technology/Accessories",
          "all/2016/12/Technology/Accessories",
          "all/2017/12/Technology/Accessories",
          "all/2018/12/Technology/Accessories",
          "all/2015/1/Office Supplies/Appliances",
          "all/2016/1/Office Supplies/Appliances",
          "all/2017/1/Office Supplies/Appliances",
          "all/2018/1/Office Supplies/Appliances",
          "all/2015/2/Office Supplies/Appliances",
          "all/2016/2/Office Supplies/Appliances",
          "all/2017/2/Office Supplies/Appliances",
          "all/2018/2/Office Supplies/Appliances",
          "all/2015/3/Office Supplies/Appliances",
          "all/2016/3/Office Supplies/Appliances",
          "all/2017/3/Office Supplies/Appliances",
          "all/2018/3/Office Supplies/Appliances",
          "all/2015/4/Office Supplies/Appliances",
          "all/2016/4/Office Supplies/Appliances",
          "all/2017/4/Office Supplies/Appliances",
          "all/2018/4/Office Supplies/Appliances",
          "all/2015/5/Office Supplies/Appliances",
          "all/2016/5/Office Supplies/Appliances",
          "all/2017/5/Office Supplies/Appliances",
          "all/2018/5/Office Supplies/Appliances",
          "all/2015/6/Office Supplies/Appliances",
          "all/2016/6/Office Supplies/Appliances",
          "all/2017/6/Office Supplies/Appliances",
          "all/2018/6/Office Supplies/Appliances",
          "all/2015/7/Office Supplies/Appliances",
          "all/2016/7/Office Supplies/Appliances",
          "all/2017/7/Office Supplies/Appliances",
          "all/2018/7/Office Supplies/Appliances",
          "all/2015/8/Office Supplies/Appliances",
          "all/2016/8/Office Supplies/Appliances",
          "all/2017/8/Office Supplies/Appliances",
          "all/2018/8/Office Supplies/Appliances",
          "all/2015/9/Office Supplies/Appliances",
          "all/2016/9/Office Supplies/Appliances",
          "all/2017/9/Office Supplies/Appliances",
          "all/2018/9/Office Supplies/Appliances",
          "all/2015/10/Office Supplies/Appliances",
          "all/2016/10/Office Supplies/Appliances",
          "all/2017/10/Office Supplies/Appliances",
          "all/2018/10/Office Supplies/Appliances",
          "all/2015/11/Office Supplies/Appliances",
          "all/2016/11/Office Supplies/Appliances",
          "all/2017/11/Office Supplies/Appliances",
          "all/2018/11/Office Supplies/Appliances",
          "all/2015/12/Office Supplies/Appliances",
          "all/2016/12/Office Supplies/Appliances",
          "all/2017/12/Office Supplies/Appliances",
          "all/2018/12/Office Supplies/Appliances",
          "all/2015/1/Office Supplies/Art",
          "all/2016/1/Office Supplies/Art",
          "all/2017/1/Office Supplies/Art",
          "all/2018/1/Office Supplies/Art",
          "all/2015/2/Office Supplies/Art",
          "all/2016/2/Office Supplies/Art",
          "all/2017/2/Office Supplies/Art",
          "all/2018/2/Office Supplies/Art",
          "all/2015/3/Office Supplies/Art",
          "all/2016/3/Office Supplies/Art",
          "all/2017/3/Office Supplies/Art",
          "all/2018/3/Office Supplies/Art",
          "all/2015/4/Office Supplies/Art",
          "all/2016/4/Office Supplies/Art",
          "all/2017/4/Office Supplies/Art",
          "all/2018/4/Office Supplies/Art",
          "all/2015/5/Office Supplies/Art",
          "all/2016/5/Office Supplies/Art",
          "all/2017/5/Office Supplies/Art",
          "all/2018/5/Office Supplies/Art",
          "all/2015/6/Office Supplies/Art",
          "all/2016/6/Office Supplies/Art",
          "all/2017/6/Office Supplies/Art",
          "all/2018/6/Office Supplies/Art",
          "all/2015/7/Office Supplies/Art",
          "all/2016/7/Office Supplies/Art",
          "all/2017/7/Office Supplies/Art",
          "all/2018/7/Office Supplies/Art",
          "all/2015/8/Office Supplies/Art",
          "all/2016/8/Office Supplies/Art",
          "all/2017/8/Office Supplies/Art",
          "all/2018/8/Office Supplies/Art",
          "all/2015/9/Office Supplies/Art",
          "all/2016/9/Office Supplies/Art",
          "all/2017/9/Office Supplies/Art",
          "all/2018/9/Office Supplies/Art",
          "all/2015/10/Office Supplies/Art",
          "all/2016/10/Office Supplies/Art",
          "all/2017/10/Office Supplies/Art",
          "all/2018/10/Office Supplies/Art",
          "all/2015/11/Office Supplies/Art",
          "all/2016/11/Office Supplies/Art",
          "all/2017/11/Office Supplies/Art",
          "all/2018/11/Office Supplies/Art",
          "all/2015/12/Office Supplies/Art",
          "all/2016/12/Office Supplies/Art",
          "all/2017/12/Office Supplies/Art",
          "all/2018/12/Office Supplies/Art",
          "all/2015/1/Office Supplies/Binders",
          "all/2016/1/Office Supplies/Binders",
          "all/2017/1/Office Supplies/Binders",
          "all/2018/1/Office Supplies/Binders",
          "all/2015/2/Office Supplies/Binders",
          "all/2016/2/Office Supplies/Binders",
          "all/2017/2/Office Supplies/Binders",
          "all/2018/2/Office Supplies/Binders",
          "all/2015/3/Office Supplies/Binders",
          "all/2016/3/Office Supplies/Binders",
          "all/2017/3/Office Supplies/Binders",
          "all/2018/3/Office Supplies/Binders",
          "all/2015/4/Office Supplies/Binders",
          "all/2016/4/Office Supplies/Binders",
          "all/2017/4/Office Supplies/Binders",
          "all/2018/4/Office Supplies/Binders",
          "all/2015/5/Office Supplies/Binders",
          "all/2016/5/Office Supplies/Binders",
          "all/2017/5/Office Supplies/Binders",
          "all/2018/5/Office Supplies/Binders",
          "all/2015/6/Office Supplies/Binders",
          "all/2016/6/Office Supplies/Binders",
          "all/2017/6/Office Supplies/Binders",
          "all/2018/6/Office Supplies/Binders",
          "all/2015/7/Office Supplies/Binders",
          "all/2016/7/Office Supplies/Binders",
          "all/2017/7/Office Supplies/Binders",
          "all/2018/7/Office Supplies/Binders",
          "all/2015/8/Office Supplies/Binders",
          "all/2016/8/Office Supplies/Binders",
          "all/2017/8/Office Supplies/Binders",
          "all/2018/8/Office Supplies/Binders",
          "all/2015/9/Office Supplies/Binders",
          "all/2016/9/Office Supplies/Binders",
          "all/2017/9/Office Supplies/Binders",
          "all/2018/9/Office Supplies/Binders",
          "all/2015/10/Office Supplies/Binders",
          "all/2016/10/Office Supplies/Binders",
          "all/2017/10/Office Supplies/Binders",
          "all/2018/10/Office Supplies/Binders",
          "all/2015/11/Office Supplies/Binders",
          "all/2016/11/Office Supplies/Binders",
          "all/2017/11/Office Supplies/Binders",
          "all/2018/11/Office Supplies/Binders",
          "all/2015/12/Office Supplies/Binders",
          "all/2016/12/Office Supplies/Binders",
          "all/2017/12/Office Supplies/Binders",
          "all/2018/12/Office Supplies/Binders",
          "all/2015/1/Furniture/Bookcases",
          "all/2016/1/Furniture/Bookcases",
          "all/2017/1/Furniture/Bookcases",
          "all/2018/1/Furniture/Bookcases",
          "all/2016/2/Furniture/Bookcases",
          "all/2017/2/Furniture/Bookcases",
          "all/2018/2/Furniture/Bookcases",
          "all/2015/3/Furniture/Bookcases",
          "all/2016/3/Furniture/Bookcases",
          "all/2017/3/Furniture/Bookcases",
          "all/2018/3/Furniture/Bookcases",
          "all/2015/4/Furniture/Bookcases",
          "all/2016/4/Furniture/Bookcases",
          "all/2017/4/Furniture/Bookcases",
          "all/2018/4/Furniture/Bookcases",
          "all/2015/5/Furniture/Bookcases",
          "all/2016/5/Furniture/Bookcases",
          "all/2018/5/Furniture/Bookcases",
          "all/2015/6/Furniture/Bookcases",
          "all/2016/6/Furniture/Bookcases",
          "all/2017/6/Furniture/Bookcases",
          "all/2018/6/Furniture/Bookcases",
          "all/2015/7/Furniture/Bookcases",
          "all/2016/7/Furniture/Bookcases",
          "all/2017/7/Furniture/Bookcases",
          "all/2018/7/Furniture/Bookcases",
          "all/2015/8/Furniture/Bookcases",
          "all/2016/8/Furniture/Bookcases",
          "all/2017/8/Furniture/Bookcases",
          "all/2018/8/Furniture/Bookcases",
          "all/2015/9/Furniture/Bookcases",
          "all/2016/9/Furniture/Bookcases",
          "all/2017/9/Furniture/Bookcases",
          "all/2018/9/Furniture/Bookcases",
          "all/2015/10/Furniture/Bookcases",
          "all/2016/10/Furniture/Bookcases",
          "all/2017/10/Furniture/Bookcases",
          "all/2018/10/Furniture/Bookcases",
          "all/2015/11/Furniture/Bookcases",
          "all/2016/11/Furniture/Bookcases",
          "all/2017/11/Furniture/Bookcases",
          "all/2018/11/Furniture/Bookcases",
          "all/2015/12/Furniture/Bookcases",
          "all/2016/12/Furniture/Bookcases",
          "all/2017/12/Furniture/Bookcases",
          "all/2018/12/Furniture/Bookcases",
          "all/2015/1/Furniture/Chairs",
          "all/2016/1/Furniture/Chairs",
          "all/2017/1/Furniture/Chairs",
          "all/2018/1/Furniture/Chairs",
          "all/2015/2/Furniture/Chairs",
          "all/2016/2/Furniture/Chairs",
          "all/2017/2/Furniture/Chairs",
          "all/2018/2/Furniture/Chairs",
          "all/2015/3/Furniture/Chairs",
          "all/2016/3/Furniture/Chairs",
          "all/2017/3/Furniture/Chairs",
          "all/2018/3/Furniture/Chairs",
          "all/2015/4/Furniture/Chairs",
          "all/2016/4/Furniture/Chairs",
          "all/2017/4/Furniture/Chairs",
          "all/2018/4/Furniture/Chairs",
          "all/2015/5/Furniture/Chairs",
          "all/2016/5/Furniture/Chairs",
          "all/2017/5/Furniture/Chairs",
          "all/2018/5/Furniture/Chairs",
          "all/2015/6/Furniture/Chairs",
          "all/2016/6/Furniture/Chairs",
          "all/2017/6/Furniture/Chairs",
          "all/2018/6/Furniture/Chairs",
          "all/2015/7/Furniture/Chairs",
          "all/2016/7/Furniture/Chairs",
          "all/2017/7/Furniture/Chairs",
          "all/2018/7/Furniture/Chairs",
          "all/2015/8/Furniture/Chairs",
          "all/2016/8/Furniture/Chairs",
          "all/2017/8/Furniture/Chairs",
          "all/2018/8/Furniture/Chairs",
          "all/2015/9/Furniture/Chairs",
          "all/2016/9/Furniture/Chairs",
          "all/2017/9/Furniture/Chairs",
          "all/2018/9/Furniture/Chairs",
          "all/2015/10/Furniture/Chairs",
          "all/2016/10/Furniture/Chairs",
          "all/2017/10/Furniture/Chairs",
          "all/2018/10/Furniture/Chairs",
          "all/2015/11/Furniture/Chairs",
          "all/2016/11/Furniture/Chairs",
          "all/2017/11/Furniture/Chairs",
          "all/2018/11/Furniture/Chairs",
          "all/2015/12/Furniture/Chairs",
          "all/2016/12/Furniture/Chairs",
          "all/2017/12/Furniture/Chairs",
          "all/2018/12/Furniture/Chairs",
          "all/2017/1/Technology/Copiers",
          "all/2018/1/Technology/Copiers",
          "all/2016/3/Technology/Copiers",
          "all/2018/3/Technology/Copiers",
          "all/2016/4/Technology/Copiers",
          "all/2017/4/Technology/Copiers",
          "all/2015/5/Technology/Copiers",
          "all/2016/5/Technology/Copiers",
          "all/2017/5/Technology/Copiers",
          "all/2018/5/Technology/Copiers",
          "all/2016/6/Technology/Copiers",
          "all/2015/7/Technology/Copiers",
          "all/2017/7/Technology/Copiers",
          "all/2018/7/Technology/Copiers",
          "all/2015/8/Technology/Copiers",
          "all/2016/8/Technology/Copiers",
          "all/2018/8/Technology/Copiers",
          "all/2015/9/Technology/Copiers",
          "all/2016/9/Technology/Copiers",
          "all/2017/9/Technology/Copiers",
          "all/2018/9/Technology/Copiers",
          "all/2015/10/Technology/Copiers",
          "all/2016/10/Technology/Copiers",
          "all/2017/10/Technology/Copiers",
          "all/2018/10/Technology/Copiers",
          "all/2016/11/Technology/Copiers",
          "all/2017/11/Technology/Copiers",
          "all/2018/11/Technology/Copiers",
          "all/2015/12/Technology/Copiers",
          "all/2016/12/Technology/Copiers",
          "all/2017/12/Technology/Copiers",
          "all/2018/12/Technology/Copiers",
          "all/2015/1/Office Supplies/Envelopes",
          "all/2016/1/Office Supplies/Envelopes",
          "all/2017/1/Office Supplies/Envelopes",
          "all/2018/1/Office Supplies/Envelopes",
          "all/2016/2/Office Supplies/Envelopes",
          "all/2017/2/Office Supplies/Envelopes",
          "all/2018/2/Office Supplies/Envelopes",
          "all/2015/3/Office Supplies/Envelopes",
          "all/2016/3/Office Supplies/Envelopes",
          "all/2017/3/Office Supplies/Envelopes",
          "all/2018/3/Office Supplies/Envelopes",
          "all/2015/4/Office Supplies/Envelopes",
          "all/2016/4/Office Supplies/Envelopes",
          "all/2017/4/Office Supplies/Envelopes",
          "all/2018/4/Office Supplies/Envelopes",
          "all/2015/5/Office Supplies/Envelopes",
          "all/2016/5/Office Supplies/Envelopes",
          "all/2017/5/Office Supplies/Envelopes",
          "all/2018/5/Office Supplies/Envelopes",
          "all/2015/6/Office Supplies/Envelopes",
          "all/2016/6/Office Supplies/Envelopes",
          "all/2017/6/Office Supplies/Envelopes",
          "all/2018/6/Office Supplies/Envelopes",
          "all/2015/7/Office Supplies/Envelopes",
          "all/2016/7/Office Supplies/Envelopes",
          "all/2017/7/Office Supplies/Envelopes",
          "all/2018/7/Office Supplies/Envelopes",
          "all/2015/8/Office Supplies/Envelopes",
          "all/2017/8/Office Supplies/Envelopes",
          "all/2018/8/Office Supplies/Envelopes",
          "all/2015/9/Office Supplies/Envelopes",
          "all/2016/9/Office Supplies/Envelopes",
          "all/2017/9/Office Supplies/Envelopes",
          "all/2018/9/Office Supplies/Envelopes",
          "all/2015/10/Office Supplies/Envelopes",
          "all/2016/10/Office Supplies/Envelopes",
          "all/2017/10/Office Supplies/Envelopes",
          "all/2018/10/Office Supplies/Envelopes",
          "all/2015/11/Office Supplies/Envelopes",
          "all/2016/11/Office Supplies/Envelopes",
          "all/2017/11/Office Supplies/Envelopes",
          "all/2018/11/Office Supplies/Envelopes",
          "all/2015/12/Office Supplies/Envelopes",
          "all/2016/12/Office Supplies/Envelopes",
          "all/2017/12/Office Supplies/Envelopes",
          "all/2018/12/Office Supplies/Envelopes",
          "all/2015/1/Office Supplies/Fasteners",
          "all/2017/1/Office Supplies/Fasteners",
          "all/2018/1/Office Supplies/Fasteners",
          "all/2015/2/Office Supplies/Fasteners",
          "all/2016/2/Office Supplies/Fasteners",
          "all/2017/2/Office Supplies/Fasteners",
          "all/2018/2/Office Supplies/Fasteners",
          "all/2015/3/Office Supplies/Fasteners",
          "all/2016/3/Office Supplies/Fasteners",
          "all/2017/3/Office Supplies/Fasteners",
          "all/2018/3/Office Supplies/Fasteners",
          "all/2015/4/Office Supplies/Fasteners",
          "all/2016/4/Office Supplies/Fasteners",
          "all/2017/4/Office Supplies/Fasteners",
          "all/2018/4/Office Supplies/Fasteners",
          "all/2015/5/Office Supplies/Fasteners",
          "all/2016/5/Office Supplies/Fasteners",
          "all/2017/5/Office Supplies/Fasteners",
          "all/2018/5/Office Supplies/Fasteners",
          "all/2015/6/Office Supplies/Fasteners",
          "all/2016/6/Office Supplies/Fasteners",
          "all/2017/6/Office Supplies/Fasteners",
          "all/2018/6/Office Supplies/Fasteners",
          "all/2015/7/Office Supplies/Fasteners",
          "all/2016/7/Office Supplies/Fasteners",
          "all/2017/7/Office Supplies/Fasteners",
          "all/2018/7/Office Supplies/Fasteners",
          "all/2015/8/Office Supplies/Fasteners",
          "all/2016/8/Office Supplies/Fasteners",
          "all/2017/8/Office Supplies/Fasteners",
          "all/2018/8/Office Supplies/Fasteners",
          "all/2015/9/Office Supplies/Fasteners",
          "all/2016/9/Office Supplies/Fasteners",
          "all/2017/9/Office Supplies/Fasteners",
          "all/2018/9/Office Supplies/Fasteners",
          "all/2015/10/Office Supplies/Fasteners",
          "all/2016/10/Office Supplies/Fasteners",
          "all/2017/10/Office Supplies/Fasteners",
          "all/2018/10/Office Supplies/Fasteners",
          "all/2015/11/Office Supplies/Fasteners",
          "all/2016/11/Office Supplies/Fasteners",
          "all/2017/11/Office Supplies/Fasteners",
          "all/2018/11/Office Supplies/Fasteners",
          "all/2015/12/Office Supplies/Fasteners",
          "all/2016/12/Office Supplies/Fasteners",
          "all/2017/12/Office Supplies/Fasteners",
          "all/2018/12/Office Supplies/Fasteners",
          "all/2015/1/Furniture/Furnishings",
          "all/2016/1/Furniture/Furnishings",
          "all/2017/1/Furniture/Furnishings",
          "all/2018/1/Furniture/Furnishings",
          "all/2015/2/Furniture/Furnishings",
          "all/2016/2/Furniture/Furnishings",
          "all/2017/2/Furniture/Furnishings",
          "all/2018/2/Furniture/Furnishings",
          "all/2015/3/Furniture/Furnishings",
          "all/2016/3/Furniture/Furnishings",
          "all/2017/3/Furniture/Furnishings",
          "all/2018/3/Furniture/Furnishings",
          "all/2015/4/Furniture/Furnishings",
          "all/2016/4/Furniture/Furnishings",
          "all/2017/4/Furniture/Furnishings",
          "all/2018/4/Furniture/Furnishings",
          "all/2015/5/Furniture/Furnishings",
          "all/2016/5/Furniture/Furnishings",
          "all/2017/5/Furniture/Furnishings",
          "all/2018/5/Furniture/Furnishings",
          "all/2015/6/Furniture/Furnishings",
          "all/2016/6/Furniture/Furnishings",
          "all/2017/6/Furniture/Furnishings",
          "all/2018/6/Furniture/Furnishings",
          "all/2015/7/Furniture/Furnishings",
          "all/2016/7/Furniture/Furnishings",
          "all/2017/7/Furniture/Furnishings",
          "all/2018/7/Furniture/Furnishings",
          "all/2015/8/Furniture/Furnishings",
          "all/2016/8/Furniture/Furnishings",
          "all/2017/8/Furniture/Furnishings",
          "all/2018/8/Furniture/Furnishings",
          "all/2015/9/Furniture/Furnishings",
          "all/2016/9/Furniture/Furnishings",
          "all/2017/9/Furniture/Furnishings",
          "all/2018/9/Furniture/Furnishings",
          "all/2015/10/Furniture/Furnishings",
          "all/2016/10/Furniture/Furnishings",
          "all/2017/10/Furniture/Furnishings",
          "all/2018/10/Furniture/Furnishings",
          "all/2015/11/Furniture/Furnishings",
          "all/2016/11/Furniture/Furnishings",
          "all/2017/11/Furniture/Furnishings",
          "all/2018/11/Furniture/Furnishings",
          "all/2015/12/Furniture/Furnishings",
          "all/2016/12/Furniture/Furnishings",
          "all/2017/12/Furniture/Furnishings",
          "all/2018/12/Furniture/Furnishings",
          "all/2015/1/Office Supplies/Labels",
          "all/2016/1/Office Supplies/Labels",
          "all/2017/1/Office Supplies/Labels",
          "all/2018/1/Office Supplies/Labels",
          "all/2015/2/Office Supplies/Labels",
          "all/2016/2/Office Supplies/Labels",
          "all/2017/2/Office Supplies/Labels",
          "all/2018/2/Office Supplies/Labels",
          "all/2015/3/Office Supplies/Labels",
          "all/2016/3/Office Supplies/Labels",
          "all/2017/3/Office Supplies/Labels",
          "all/2018/3/Office Supplies/Labels",
          "all/2015/4/Office Supplies/Labels",
          "all/2016/4/Office Supplies/Labels",
          "all/2017/4/Office Supplies/Labels",
          "all/2018/4/Office Supplies/Labels",
          "all/2015/5/Office Supplies/Labels",
          "all/2016/5/Office Supplies/Labels",
          "all/2017/5/Office Supplies/Labels",
          "all/2018/5/Office Supplies/Labels",
          "all/2015/6/Office Supplies/Labels",
          "all/2016/6/Office Supplies/Labels",
          "all/2017/6/Office Supplies/Labels",
          "all/2018/6/Office Supplies/Labels",
          "all/2015/7/Office Supplies/Labels",
          "all/2016/7/Office Supplies/Labels",
          "all/2017/7/Office Supplies/Labels",
          "all/2018/7/Office Supplies/Labels",
          "all/2015/8/Office Supplies/Labels",
          "all/2016/8/Office Supplies/Labels",
          "all/2017/8/Office Supplies/Labels",
          "all/2018/8/Office Supplies/Labels",
          "all/2015/9/Office Supplies/Labels",
          "all/2016/9/Office Supplies/Labels",
          "all/2017/9/Office Supplies/Labels",
          "all/2018/9/Office Supplies/Labels",
          "all/2015/10/Office Supplies/Labels",
          "all/2016/10/Office Supplies/Labels",
          "all/2017/10/Office Supplies/Labels",
          "all/2018/10/Office Supplies/Labels",
          "all/2015/11/Office Supplies/Labels",
          "all/2016/11/Office Supplies/Labels",
          "all/2017/11/Office Supplies/Labels",
          "all/2018/11/Office Supplies/Labels",
          "all/2015/12/Office Supplies/Labels",
          "all/2016/12/Office Supplies/Labels",
          "all/2017/12/Office Supplies/Labels",
          "all/2018/12/Office Supplies/Labels",
          "all/2016/1/Technology/Machines",
          "all/2018/1/Technology/Machines",
          "all/2017/2/Technology/Machines",
          "all/2018/2/Technology/Machines",
          "all/2015/3/Technology/Machines",
          "all/2017/3/Technology/Machines",
          "all/2018/3/Technology/Machines",
          "all/2015/4/Technology/Machines",
          "all/2016/4/Technology/Machines",
          "all/2017/4/Technology/Machines",
          "all/2018/4/Technology/Machines",
          "all/2016/5/Technology/Machines",
          "all/2017/5/Technology/Machines",
          "all/2018/5/Technology/Machines",
          "all/2015/6/Technology/Machines",
          "all/2017/6/Technology/Machines",
          "all/2018/6/Technology/Machines",
          "all/2016/7/Technology/Machines",
          "all/2017/7/Technology/Machines",
          "all/2018/7/Technology/Machines",
          "all/2016/8/Technology/Machines",
          "all/2017/8/Technology/Machines",
          "all/2018/8/Technology/Machines",
          "all/2015/9/Technology/Machines",
          "all/2016/9/Technology/Machines",
          "all/2017/9/Technology/Machines",
          "all/2018/9/Technology/Machines",
          "all/2015/10/Technology/Machines",
          "all/2016/10/Technology/Machines",
          "all/2017/10/Technology/Machines",
          "all/2018/10/Technology/Machines",
          "all/2015/11/Technology/Machines",
          "all/2016/11/Technology/Machines",
          "all/2017/11/Technology/Machines",
          "all/2018/11/Technology/Machines",
          "all/2015/12/Technology/Machines",
          "all/2016/12/Technology/Machines",
          "all/2017/12/Technology/Machines",
          "all/2018/12/Technology/Machines",
          "all/2015/1/Office Supplies/Paper",
          "all/2016/1/Office Supplies/Paper",
          "all/2017/1/Office Supplies/Paper",
          "all/2018/1/Office Supplies/Paper",
          "all/2015/2/Office Supplies/Paper",
          "all/2016/2/Office Supplies/Paper",
          "all/2017/2/Office Supplies/Paper",
          "all/2018/2/Office Supplies/Paper",
          "all/2015/3/Office Supplies/Paper",
          "all/2016/3/Office Supplies/Paper",
          "all/2017/3/Office Supplies/Paper",
          "all/2018/3/Office Supplies/Paper",
          "all/2015/4/Office Supplies/Paper",
          "all/2016/4/Office Supplies/Paper",
          "all/2017/4/Office Supplies/Paper",
          "all/2018/4/Office Supplies/Paper",
          "all/2015/5/Office Supplies/Paper",
          "all/2016/5/Office Supplies/Paper",
          "all/2017/5/Office Supplies/Paper",
          "all/2018/5/Office Supplies/Paper",
          "all/2015/6/Office Supplies/Paper",
          "all/2016/6/Office Supplies/Paper",
          "all/2017/6/Office Supplies/Paper",
          "all/2018/6/Office Supplies/Paper",
          "all/2015/7/Office Supplies/Paper",
          "all/2016/7/Office Supplies/Paper",
          "all/2017/7/Office Supplies/Paper",
          "all/2018/7/Office Supplies/Paper",
          "all/2015/8/Office Supplies/Paper",
          "all/2016/8/Office Supplies/Paper",
          "all/2017/8/Office Supplies/Paper",
          "all/2018/8/Office Supplies/Paper",
          "all/2015/9/Office Supplies/Paper",
          "all/2016/9/Office Supplies/Paper",
          "all/2017/9/Office Supplies/Paper",
          "all/2018/9/Office Supplies/Paper",
          "all/2015/10/Office Supplies/Paper",
          "all/2016/10/Office Supplies/Paper",
          "all/2017/10/Office Supplies/Paper",
          "all/2018/10/Office Supplies/Paper",
          "all/2015/11/Office Supplies/Paper",
          "all/2016/11/Office Supplies/Paper",
          "all/2017/11/Office Supplies/Paper",
          "all/2018/11/Office Supplies/Paper",
          "all/2015/12/Office Supplies/Paper",
          "all/2016/12/Office Supplies/Paper",
          "all/2017/12/Office Supplies/Paper",
          "all/2018/12/Office Supplies/Paper",
          "all/2015/1/Technology/Phones",
          "all/2016/1/Technology/Phones",
          "all/2017/1/Technology/Phones",
          "all/2018/1/Technology/Phones",
          "all/2015/2/Technology/Phones",
          "all/2016/2/Technology/Phones",
          "all/2017/2/Technology/Phones",
          "all/2018/2/Technology/Phones",
          "all/2015/3/Technology/Phones",
          "all/2016/3/Technology/Phones",
          "all/2017/3/Technology/Phones",
          "all/2018/3/Technology/Phones",
          "all/2015/4/Technology/Phones",
          "all/2016/4/Technology/Phones",
          "all/2017/4/Technology/Phones",
          "all/2018/4/Technology/Phones",
          "all/2015/5/Technology/Phones",
          "all/2016/5/Technology/Phones",
          "all/2017/5/Technology/Phones",
          "all/2018/5/Technology/Phones",
          "all/2015/6/Technology/Phones",
          "all/2016/6/Technology/Phones",
          "all/2017/6/Technology/Phones",
          "all/2018/6/Technology/Phones",
          "all/2015/7/Technology/Phones",
          "all/2016/7/Technology/Phones",
          "all/2017/7/Technology/Phones",
          "all/2018/7/Technology/Phones",
          "all/2015/8/Technology/Phones",
          "all/2016/8/Technology/Phones",
          "all/2017/8/Technology/Phones",
          "all/2018/8/Technology/Phones",
          "all/2015/9/Technology/Phones",
          "all/2016/9/Technology/Phones",
          "all/2017/9/Technology/Phones",
          "all/2018/9/Technology/Phones",
          "all/2015/10/Technology/Phones",
          "all/2016/10/Technology/Phones",
          "all/2017/10/Technology/Phones",
          "all/2018/10/Technology/Phones",
          "all/2015/11/Technology/Phones",
          "all/2016/11/Technology/Phones",
          "all/2017/11/Technology/Phones",
          "all/2018/11/Technology/Phones",
          "all/2015/12/Technology/Phones",
          "all/2016/12/Technology/Phones",
          "all/2017/12/Technology/Phones",
          "all/2018/12/Technology/Phones",
          "all/2015/1/Office Supplies/Storage",
          "all/2016/1/Office Supplies/Storage",
          "all/2017/1/Office Supplies/Storage",
          "all/2018/1/Office Supplies/Storage",
          "all/2015/2/Office Supplies/Storage",
          "all/2016/2/Office Supplies/Storage",
          "all/2017/2/Office Supplies/Storage",
          "all/2018/2/Office Supplies/Storage",
          "all/2015/3/Office Supplies/Storage",
          "all/2016/3/Office Supplies/Storage",
          "all/2017/3/Office Supplies/Storage",
          "all/2018/3/Office Supplies/Storage",
          "all/2015/4/Office Supplies/Storage",
          "all/2016/4/Office Supplies/Storage",
          "all/2017/4/Office Supplies/Storage",
          "all/2018/4/Office Supplies/Storage",
          "all/2015/5/Office Supplies/Storage",
          "all/2016/5/Office Supplies/Storage",
          "all/2017/5/Office Supplies/Storage",
          "all/2018/5/Office Supplies/Storage",
          "all/2015/6/Office Supplies/Storage",
          "all/2016/6/Office Supplies/Storage",
          "all/2017/6/Office Supplies/Storage",
          "all/2018/6/Office Supplies/Storage",
          "all/2015/7/Office Supplies/Storage",
          "all/2016/7/Office Supplies/Storage",
          "all/2017/7/Office Supplies/Storage",
          "all/2018/7/Office Supplies/Storage",
          "all/2015/8/Office Supplies/Storage",
          "all/2016/8/Office Supplies/Storage",
          "all/2017/8/Office Supplies/Storage",
          "all/2018/8/Office Supplies/Storage",
          "all/2015/9/Office Supplies/Storage",
          "all/2016/9/Office Supplies/Storage",
          "all/2017/9/Office Supplies/Storage",
          "all/2018/9/Office Supplies/Storage",
          "all/2015/10/Office Supplies/Storage",
          "all/2016/10/Office Supplies/Storage",
          "all/2017/10/Office Supplies/Storage",
          "all/2018/10/Office Supplies/Storage",
          "all/2015/11/Office Supplies/Storage",
          "all/2016/11/Office Supplies/Storage",
          "all/2017/11/Office Supplies/Storage",
          "all/2018/11/Office Supplies/Storage",
          "all/2015/12/Office Supplies/Storage",
          "all/2016/12/Office Supplies/Storage",
          "all/2017/12/Office Supplies/Storage",
          "all/2018/12/Office Supplies/Storage",
          "all/2016/1/Office Supplies/Supplies",
          "all/2018/1/Office Supplies/Supplies",
          "all/2015/2/Office Supplies/Supplies",
          "all/2017/2/Office Supplies/Supplies",
          "all/2018/2/Office Supplies/Supplies",
          "all/2015/3/Office Supplies/Supplies",
          "all/2016/3/Office Supplies/Supplies",
          "all/2017/3/Office Supplies/Supplies",
          "all/2018/3/Office Supplies/Supplies",
          "all/2015/4/Office Supplies/Supplies",
          "all/2016/4/Office Supplies/Supplies",
          "all/2017/4/Office Supplies/Supplies",
          "all/2018/4/Office Supplies/Supplies",
          "all/2015/5/Office Supplies/Supplies",
          "all/2016/5/Office Supplies/Supplies",
          "all/2017/5/Office Supplies/Supplies",
          "all/2018/5/Office Supplies/Supplies",
          "all/2015/6/Office Supplies/Supplies",
          "all/2017/6/Office Supplies/Supplies",
          "all/2018/6/Office Supplies/Supplies",
          "all/2015/7/Office Supplies/Supplies",
          "all/2016/7/Office Supplies/Supplies",
          "all/2017/7/Office Supplies/Supplies",
          "all/2018/7/Office Supplies/Supplies",
          "all/2015/8/Office Supplies/Supplies",
          "all/2016/8/Office Supplies/Supplies",
          "all/2017/8/Office Supplies/Supplies",
          "all/2018/8/Office Supplies/Supplies",
          "all/2015/9/Office Supplies/Supplies",
          "all/2016/9/Office Supplies/Supplies",
          "all/2017/9/Office Supplies/Supplies",
          "all/2018/9/Office Supplies/Supplies",
          "all/2015/10/Office Supplies/Supplies",
          "all/2016/10/Office Supplies/Supplies",
          "all/2017/10/Office Supplies/Supplies",
          "all/2018/10/Office Supplies/Supplies",
          "all/2015/11/Office Supplies/Supplies",
          "all/2016/11/Office Supplies/Supplies",
          "all/2017/11/Office Supplies/Supplies",
          "all/2018/11/Office Supplies/Supplies",
          "all/2015/12/Office Supplies/Supplies",
          "all/2016/12/Office Supplies/Supplies",
          "all/2017/12/Office Supplies/Supplies",
          "all/2018/12/Office Supplies/Supplies",
          "all/2015/1/Furniture/Tables",
          "all/2016/1/Furniture/Tables",
          "all/2017/1/Furniture/Tables",
          "all/2018/1/Furniture/Tables",
          "all/2015/2/Furniture/Tables",
          "all/2016/2/Furniture/Tables",
          "all/2017/2/Furniture/Tables",
          "all/2018/2/Furniture/Tables",
          "all/2015/3/Furniture/Tables",
          "all/2016/3/Furniture/Tables",
          "all/2017/3/Furniture/Tables",
          "all/2018/3/Furniture/Tables",
          "all/2015/4/Furniture/Tables",
          "all/2016/4/Furniture/Tables",
          "all/2017/4/Furniture/Tables",
          "all/2018/4/Furniture/Tables",
          "all/2015/5/Furniture/Tables",
          "all/2016/5/Furniture/Tables",
          "all/2017/5/Furniture/Tables",
          "all/2018/5/Furniture/Tables",
          "all/2015/6/Furniture/Tables",
          "all/2016/6/Furniture/Tables",
          "all/2017/6/Furniture/Tables",
          "all/2018/6/Furniture/Tables",
          "all/2015/7/Furniture/Tables",
          "all/2016/7/Furniture/Tables",
          "all/2017/7/Furniture/Tables",
          "all/2018/7/Furniture/Tables",
          "all/2015/8/Furniture/Tables",
          "all/2016/8/Furniture/Tables",
          "all/2017/8/Furniture/Tables",
          "all/2018/8/Furniture/Tables",
          "all/2015/9/Furniture/Tables",
          "all/2016/9/Furniture/Tables",
          "all/2017/9/Furniture/Tables",
          "all/2018/9/Furniture/Tables",
          "all/2015/10/Furniture/Tables",
          "all/2016/10/Furniture/Tables",
          "all/2017/10/Furniture/Tables",
          "all/2018/10/Furniture/Tables",
          "all/2015/11/Furniture/Tables",
          "all/2016/11/Furniture/Tables",
          "all/2017/11/Furniture/Tables",
          "all/2018/11/Furniture/Tables",
          "all/2015/12/Furniture/Tables",
          "all/2016/12/Furniture/Tables",
          "all/2017/12/Furniture/Tables",
          "all/2018/12/Furniture/Tables",
          "all/2015/1/Furniture",
          "all/2016/1/Furniture",
          "all/2017/1/Furniture",
          "all/2018/1/Furniture",
          "all/2015/2/Furniture",
          "all/2016/2/Furniture",
          "all/2017/2/Furniture",
          "all/2018/2/Furniture",
          "all/2015/3/Furniture",
          "all/2016/3/Furniture",
          "all/2017/3/Furniture",
          "all/2018/3/Furniture",
          "all/2015/4/Furniture",
          "all/2016/4/Furniture",
          "all/2017/4/Furniture",
          "all/2018/4/Furniture",
          "all/2015/5/Furniture",
          "all/2016/5/Furniture",
          "all/2017/5/Furniture",
          "all/2018/5/Furniture",
          "all/2015/6/Furniture",
          "all/2016/6/Furniture",
          "all/2017/6/Furniture",
          "all/2018/6/Furniture",
          "all/2015/7/Furniture",
          "all/2016/7/Furniture",
          "all/2017/7/Furniture",
          "all/2018/7/Furniture",
          "all/2015/8/Furniture",
          "all/2016/8/Furniture",
          "all/2017/8/Furniture",
          "all/2018/8/Furniture",
          "all/2015/9/Furniture",
          "all/2016/9/Furniture",
          "all/2017/9/Furniture",
          "all/2018/9/Furniture",
          "all/2015/10/Furniture",
          "all/2016/10/Furniture",
          "all/2017/10/Furniture",
          "all/2018/10/Furniture",
          "all/2015/11/Furniture",
          "all/2016/11/Furniture",
          "all/2017/11/Furniture",
          "all/2018/11/Furniture",
          "all/2015/12/Furniture",
          "all/2016/12/Furniture",
          "all/2017/12/Furniture",
          "all/2018/12/Furniture",
          "all/2015/1/Office Supplies",
          "all/2016/1/Office Supplies",
          "all/2017/1/Office Supplies",
          "all/2018/1/Office Supplies",
          "all/2015/2/Office Supplies",
          "all/2016/2/Office Supplies",
          "all/2017/2/Office Supplies",
          "all/2018/2/Office Supplies",
          "all/2015/3/Office Supplies",
          "all/2016/3/Office Supplies",
          "all/2017/3/Office Supplies",
          "all/2018/3/Office Supplies",
          "all/2015/4/Office Supplies",
          "all/2016/4/Office Supplies",
          "all/2017/4/Office Supplies",
          "all/2018/4/Office Supplies",
          "all/2015/5/Office Supplies",
          "all/2016/5/Office Supplies",
          "all/2017/5/Office Supplies",
          "all/2018/5/Office Supplies",
          "all/2015/6/Office Supplies",
          "all/2016/6/Office Supplies",
          "all/2017/6/Office Supplies",
          "all/2018/6/Office Supplies",
          "all/2015/7/Office Supplies",
          "all/2016/7/Office Supplies",
          "all/2017/7/Office Supplies",
          "all/2018/7/Office Supplies",
          "all/2015/8/Office Supplies",
          "all/2016/8/Office Supplies",
          "all/2017/8/Office Supplies",
          "all/2018/8/Office Supplies",
          "all/2015/9/Office Supplies",
          "all/2016/9/Office Supplies",
          "all/2017/9/Office Supplies",
          "all/2018/9/Office Supplies",
          "all/2015/10/Office Supplies",
          "all/2016/10/Office Supplies",
          "all/2017/10/Office Supplies",
          "all/2018/10/Office Supplies",
          "all/2015/11/Office Supplies",
          "all/2016/11/Office Supplies",
          "all/2017/11/Office Supplies",
          "all/2018/11/Office Supplies",
          "all/2015/12/Office Supplies",
          "all/2016/12/Office Supplies",
          "all/2017/12/Office Supplies",
          "all/2018/12/Office Supplies",
          "all/2015/1/Technology",
          "all/2016/1/Technology",
          "all/2017/1/Technology",
          "all/2018/1/Technology",
          "all/2015/2/Technology",
          "all/2016/2/Technology",
          "all/2017/2/Technology",
          "all/2018/2/Technology",
          "all/2015/3/Technology",
          "all/2016/3/Technology",
          "all/2017/3/Technology",
          "all/2018/3/Technology",
          "all/2015/4/Technology",
          "all/2016/4/Technology",
          "all/2017/4/Technology",
          "all/2018/4/Technology",
          "all/2015/5/Technology",
          "all/2016/5/Technology",
          "all/2017/5/Technology",
          "all/2018/5/Technology",
          "all/2015/6/Technology",
          "all/2016/6/Technology",
          "all/2017/6/Technology",
          "all/2018/6/Technology",
          "all/2015/7/Technology",
          "all/2016/7/Technology",
          "all/2017/7/Technology",
          "all/2018/7/Technology",
          "all/2015/8/Technology",
          "all/2016/8/Technology",
          "all/2017/8/Technology",
          "all/2018/8/Technology",
          "all/2015/9/Technology",
          "all/2016/9/Technology",
          "all/2017/9/Technology",
          "all/2018/9/Technology",
          "all/2015/10/Technology",
          "all/2016/10/Technology",
          "all/2017/10/Technology",
          "all/2018/10/Technology",
          "all/2015/11/Technology",
          "all/2016/11/Technology",
          "all/2017/11/Technology",
          "all/2018/11/Technology",
          "all/2015/12/Technology",
          "all/2016/12/Technology",
          "all/2017/12/Technology",
          "all/2018/12/Technology",
          "all/2015/1",
          "all/2016/1",
          "all/2017/1",
          "all/2018/1",
          "all/2015/2",
          "all/2016/2",
          "all/2017/2",
          "all/2018/2",
          "all/2015/3",
          "all/2016/3",
          "all/2017/3",
          "all/2018/3",
          "all/2015/4",
          "all/2016/4",
          "all/2017/4",
          "all/2018/4",
          "all/2015/5",
          "all/2016/5",
          "all/2017/5",
          "all/2018/5",
          "all/2015/6",
          "all/2016/6",
          "all/2017/6",
          "all/2018/6",
          "all/2015/7",
          "all/2016/7",
          "all/2017/7",
          "all/2018/7",
          "all/2015/8",
          "all/2016/8",
          "all/2017/8",
          "all/2018/8",
          "all/2015/9",
          "all/2016/9",
          "all/2017/9",
          "all/2018/9",
          "all/2015/10",
          "all/2016/10",
          "all/2017/10",
          "all/2018/10",
          "all/2015/11",
          "all/2016/11",
          "all/2017/11",
          "all/2018/11",
          "all/2015/12",
          "all/2016/12",
          "all/2017/12",
          "all/2018/12",
          "all/2015",
          "all/2016",
          "all/2017",
          "all/2018",
          "all"
         ],
         "labels": [
          "Accessories",
          "Accessories",
          "Accessories",
          "Accessories",
          "Accessories",
          "Accessories",
          "Accessories",
          "Accessories",
          "Accessories",
          "Accessories",
          "Accessories",
          "Accessories",
          "Accessories",
          "Accessories",
          "Accessories",
          "Accessories",
          "Accessories",
          "Accessories",
          "Accessories",
          "Accessories",
          "Accessories",
          "Accessories",
          "Accessories",
          "Accessories",
          "Accessories",
          "Accessories",
          "Accessories",
          "Accessories",
          "Accessories",
          "Accessories",
          "Accessories",
          "Accessories",
          "Accessories",
          "Accessories",
          "Accessories",
          "Accessories",
          "Accessories",
          "Accessories",
          "Accessories",
          "Accessories",
          "Accessories",
          "Accessories",
          "Accessories",
          "Accessories",
          "Accessories",
          "Accessories",
          "Accessories",
          "Accessories",
          "Appliances",
          "Appliances",
          "Appliances",
          "Appliances",
          "Appliances",
          "Appliances",
          "Appliances",
          "Appliances",
          "Appliances",
          "Appliances",
          "Appliances",
          "Appliances",
          "Appliances",
          "Appliances",
          "Appliances",
          "Appliances",
          "Appliances",
          "Appliances",
          "Appliances",
          "Appliances",
          "Appliances",
          "Appliances",
          "Appliances",
          "Appliances",
          "Appliances",
          "Appliances",
          "Appliances",
          "Appliances",
          "Appliances",
          "Appliances",
          "Appliances",
          "Appliances",
          "Appliances",
          "Appliances",
          "Appliances",
          "Appliances",
          "Appliances",
          "Appliances",
          "Appliances",
          "Appliances",
          "Appliances",
          "Appliances",
          "Appliances",
          "Appliances",
          "Appliances",
          "Appliances",
          "Appliances",
          "Appliances",
          "Art",
          "Art",
          "Art",
          "Art",
          "Art",
          "Art",
          "Art",
          "Art",
          "Art",
          "Art",
          "Art",
          "Art",
          "Art",
          "Art",
          "Art",
          "Art",
          "Art",
          "Art",
          "Art",
          "Art",
          "Art",
          "Art",
          "Art",
          "Art",
          "Art",
          "Art",
          "Art",
          "Art",
          "Art",
          "Art",
          "Art",
          "Art",
          "Art",
          "Art",
          "Art",
          "Art",
          "Art",
          "Art",
          "Art",
          "Art",
          "Art",
          "Art",
          "Art",
          "Art",
          "Art",
          "Art",
          "Art",
          "Art",
          "Binders",
          "Binders",
          "Binders",
          "Binders",
          "Binders",
          "Binders",
          "Binders",
          "Binders",
          "Binders",
          "Binders",
          "Binders",
          "Binders",
          "Binders",
          "Binders",
          "Binders",
          "Binders",
          "Binders",
          "Binders",
          "Binders",
          "Binders",
          "Binders",
          "Binders",
          "Binders",
          "Binders",
          "Binders",
          "Binders",
          "Binders",
          "Binders",
          "Binders",
          "Binders",
          "Binders",
          "Binders",
          "Binders",
          "Binders",
          "Binders",
          "Binders",
          "Binders",
          "Binders",
          "Binders",
          "Binders",
          "Binders",
          "Binders",
          "Binders",
          "Binders",
          "Binders",
          "Binders",
          "Binders",
          "Binders",
          "Bookcases",
          "Bookcases",
          "Bookcases",
          "Bookcases",
          "Bookcases",
          "Bookcases",
          "Bookcases",
          "Bookcases",
          "Bookcases",
          "Bookcases",
          "Bookcases",
          "Bookcases",
          "Bookcases",
          "Bookcases",
          "Bookcases",
          "Bookcases",
          "Bookcases",
          "Bookcases",
          "Bookcases",
          "Bookcases",
          "Bookcases",
          "Bookcases",
          "Bookcases",
          "Bookcases",
          "Bookcases",
          "Bookcases",
          "Bookcases",
          "Bookcases",
          "Bookcases",
          "Bookcases",
          "Bookcases",
          "Bookcases",
          "Bookcases",
          "Bookcases",
          "Bookcases",
          "Bookcases",
          "Bookcases",
          "Bookcases",
          "Bookcases",
          "Bookcases",
          "Bookcases",
          "Bookcases",
          "Bookcases",
          "Bookcases",
          "Bookcases",
          "Bookcases",
          "Chairs",
          "Chairs",
          "Chairs",
          "Chairs",
          "Chairs",
          "Chairs",
          "Chairs",
          "Chairs",
          "Chairs",
          "Chairs",
          "Chairs",
          "Chairs",
          "Chairs",
          "Chairs",
          "Chairs",
          "Chairs",
          "Chairs",
          "Chairs",
          "Chairs",
          "Chairs",
          "Chairs",
          "Chairs",
          "Chairs",
          "Chairs",
          "Chairs",
          "Chairs",
          "Chairs",
          "Chairs",
          "Chairs",
          "Chairs",
          "Chairs",
          "Chairs",
          "Chairs",
          "Chairs",
          "Chairs",
          "Chairs",
          "Chairs",
          "Chairs",
          "Chairs",
          "Chairs",
          "Chairs",
          "Chairs",
          "Chairs",
          "Chairs",
          "Chairs",
          "Chairs",
          "Chairs",
          "Chairs",
          "Copiers",
          "Copiers",
          "Copiers",
          "Copiers",
          "Copiers",
          "Copiers",
          "Copiers",
          "Copiers",
          "Copiers",
          "Copiers",
          "Copiers",
          "Copiers",
          "Copiers",
          "Copiers",
          "Copiers",
          "Copiers",
          "Copiers",
          "Copiers",
          "Copiers",
          "Copiers",
          "Copiers",
          "Copiers",
          "Copiers",
          "Copiers",
          "Copiers",
          "Copiers",
          "Copiers",
          "Copiers",
          "Copiers",
          "Copiers",
          "Copiers",
          "Copiers",
          "Envelopes",
          "Envelopes",
          "Envelopes",
          "Envelopes",
          "Envelopes",
          "Envelopes",
          "Envelopes",
          "Envelopes",
          "Envelopes",
          "Envelopes",
          "Envelopes",
          "Envelopes",
          "Envelopes",
          "Envelopes",
          "Envelopes",
          "Envelopes",
          "Envelopes",
          "Envelopes",
          "Envelopes",
          "Envelopes",
          "Envelopes",
          "Envelopes",
          "Envelopes",
          "Envelopes",
          "Envelopes",
          "Envelopes",
          "Envelopes",
          "Envelopes",
          "Envelopes",
          "Envelopes",
          "Envelopes",
          "Envelopes",
          "Envelopes",
          "Envelopes",
          "Envelopes",
          "Envelopes",
          "Envelopes",
          "Envelopes",
          "Envelopes",
          "Envelopes",
          "Envelopes",
          "Envelopes",
          "Envelopes",
          "Envelopes",
          "Envelopes",
          "Envelopes",
          "Fasteners",
          "Fasteners",
          "Fasteners",
          "Fasteners",
          "Fasteners",
          "Fasteners",
          "Fasteners",
          "Fasteners",
          "Fasteners",
          "Fasteners",
          "Fasteners",
          "Fasteners",
          "Fasteners",
          "Fasteners",
          "Fasteners",
          "Fasteners",
          "Fasteners",
          "Fasteners",
          "Fasteners",
          "Fasteners",
          "Fasteners",
          "Fasteners",
          "Fasteners",
          "Fasteners",
          "Fasteners",
          "Fasteners",
          "Fasteners",
          "Fasteners",
          "Fasteners",
          "Fasteners",
          "Fasteners",
          "Fasteners",
          "Fasteners",
          "Fasteners",
          "Fasteners",
          "Fasteners",
          "Fasteners",
          "Fasteners",
          "Fasteners",
          "Fasteners",
          "Fasteners",
          "Fasteners",
          "Fasteners",
          "Fasteners",
          "Fasteners",
          "Fasteners",
          "Fasteners",
          "Furnishings",
          "Furnishings",
          "Furnishings",
          "Furnishings",
          "Furnishings",
          "Furnishings",
          "Furnishings",
          "Furnishings",
          "Furnishings",
          "Furnishings",
          "Furnishings",
          "Furnishings",
          "Furnishings",
          "Furnishings",
          "Furnishings",
          "Furnishings",
          "Furnishings",
          "Furnishings",
          "Furnishings",
          "Furnishings",
          "Furnishings",
          "Furnishings",
          "Furnishings",
          "Furnishings",
          "Furnishings",
          "Furnishings",
          "Furnishings",
          "Furnishings",
          "Furnishings",
          "Furnishings",
          "Furnishings",
          "Furnishings",
          "Furnishings",
          "Furnishings",
          "Furnishings",
          "Furnishings",
          "Furnishings",
          "Furnishings",
          "Furnishings",
          "Furnishings",
          "Furnishings",
          "Furnishings",
          "Furnishings",
          "Furnishings",
          "Furnishings",
          "Furnishings",
          "Furnishings",
          "Furnishings",
          "Labels",
          "Labels",
          "Labels",
          "Labels",
          "Labels",
          "Labels",
          "Labels",
          "Labels",
          "Labels",
          "Labels",
          "Labels",
          "Labels",
          "Labels",
          "Labels",
          "Labels",
          "Labels",
          "Labels",
          "Labels",
          "Labels",
          "Labels",
          "Labels",
          "Labels",
          "Labels",
          "Labels",
          "Labels",
          "Labels",
          "Labels",
          "Labels",
          "Labels",
          "Labels",
          "Labels",
          "Labels",
          "Labels",
          "Labels",
          "Labels",
          "Labels",
          "Labels",
          "Labels",
          "Labels",
          "Labels",
          "Labels",
          "Labels",
          "Labels",
          "Labels",
          "Labels",
          "Labels",
          "Labels",
          "Labels",
          "Machines",
          "Machines",
          "Machines",
          "Machines",
          "Machines",
          "Machines",
          "Machines",
          "Machines",
          "Machines",
          "Machines",
          "Machines",
          "Machines",
          "Machines",
          "Machines",
          "Machines",
          "Machines",
          "Machines",
          "Machines",
          "Machines",
          "Machines",
          "Machines",
          "Machines",
          "Machines",
          "Machines",
          "Machines",
          "Machines",
          "Machines",
          "Machines",
          "Machines",
          "Machines",
          "Machines",
          "Machines",
          "Machines",
          "Machines",
          "Machines",
          "Machines",
          "Machines",
          "Machines",
          "Machines",
          "Paper",
          "Paper",
          "Paper",
          "Paper",
          "Paper",
          "Paper",
          "Paper",
          "Paper",
          "Paper",
          "Paper",
          "Paper",
          "Paper",
          "Paper",
          "Paper",
          "Paper",
          "Paper",
          "Paper",
          "Paper",
          "Paper",
          "Paper",
          "Paper",
          "Paper",
          "Paper",
          "Paper",
          "Paper",
          "Paper",
          "Paper",
          "Paper",
          "Paper",
          "Paper",
          "Paper",
          "Paper",
          "Paper",
          "Paper",
          "Paper",
          "Paper",
          "Paper",
          "Paper",
          "Paper",
          "Paper",
          "Paper",
          "Paper",
          "Paper",
          "Paper",
          "Paper",
          "Paper",
          "Paper",
          "Paper",
          "Phones",
          "Phones",
          "Phones",
          "Phones",
          "Phones",
          "Phones",
          "Phones",
          "Phones",
          "Phones",
          "Phones",
          "Phones",
          "Phones",
          "Phones",
          "Phones",
          "Phones",
          "Phones",
          "Phones",
          "Phones",
          "Phones",
          "Phones",
          "Phones",
          "Phones",
          "Phones",
          "Phones",
          "Phones",
          "Phones",
          "Phones",
          "Phones",
          "Phones",
          "Phones",
          "Phones",
          "Phones",
          "Phones",
          "Phones",
          "Phones",
          "Phones",
          "Phones",
          "Phones",
          "Phones",
          "Phones",
          "Phones",
          "Phones",
          "Phones",
          "Phones",
          "Phones",
          "Phones",
          "Phones",
          "Phones",
          "Storage",
          "Storage",
          "Storage",
          "Storage",
          "Storage",
          "Storage",
          "Storage",
          "Storage",
          "Storage",
          "Storage",
          "Storage",
          "Storage",
          "Storage",
          "Storage",
          "Storage",
          "Storage",
          "Storage",
          "Storage",
          "Storage",
          "Storage",
          "Storage",
          "Storage",
          "Storage",
          "Storage",
          "Storage",
          "Storage",
          "Storage",
          "Storage",
          "Storage",
          "Storage",
          "Storage",
          "Storage",
          "Storage",
          "Storage",
          "Storage",
          "Storage",
          "Storage",
          "Storage",
          "Storage",
          "Storage",
          "Storage",
          "Storage",
          "Storage",
          "Storage",
          "Storage",
          "Storage",
          "Storage",
          "Storage",
          "Supplies",
          "Supplies",
          "Supplies",
          "Supplies",
          "Supplies",
          "Supplies",
          "Supplies",
          "Supplies",
          "Supplies",
          "Supplies",
          "Supplies",
          "Supplies",
          "Supplies",
          "Supplies",
          "Supplies",
          "Supplies",
          "Supplies",
          "Supplies",
          "Supplies",
          "Supplies",
          "Supplies",
          "Supplies",
          "Supplies",
          "Supplies",
          "Supplies",
          "Supplies",
          "Supplies",
          "Supplies",
          "Supplies",
          "Supplies",
          "Supplies",
          "Supplies",
          "Supplies",
          "Supplies",
          "Supplies",
          "Supplies",
          "Supplies",
          "Supplies",
          "Supplies",
          "Supplies",
          "Supplies",
          "Supplies",
          "Supplies",
          "Supplies",
          "Tables",
          "Tables",
          "Tables",
          "Tables",
          "Tables",
          "Tables",
          "Tables",
          "Tables",
          "Tables",
          "Tables",
          "Tables",
          "Tables",
          "Tables",
          "Tables",
          "Tables",
          "Tables",
          "Tables",
          "Tables",
          "Tables",
          "Tables",
          "Tables",
          "Tables",
          "Tables",
          "Tables",
          "Tables",
          "Tables",
          "Tables",
          "Tables",
          "Tables",
          "Tables",
          "Tables",
          "Tables",
          "Tables",
          "Tables",
          "Tables",
          "Tables",
          "Tables",
          "Tables",
          "Tables",
          "Tables",
          "Tables",
          "Tables",
          "Tables",
          "Tables",
          "Tables",
          "Tables",
          "Tables",
          "Tables",
          "Furniture",
          "Furniture",
          "Furniture",
          "Furniture",
          "Furniture",
          "Furniture",
          "Furniture",
          "Furniture",
          "Furniture",
          "Furniture",
          "Furniture",
          "Furniture",
          "Furniture",
          "Furniture",
          "Furniture",
          "Furniture",
          "Furniture",
          "Furniture",
          "Furniture",
          "Furniture",
          "Furniture",
          "Furniture",
          "Furniture",
          "Furniture",
          "Furniture",
          "Furniture",
          "Furniture",
          "Furniture",
          "Furniture",
          "Furniture",
          "Furniture",
          "Furniture",
          "Furniture",
          "Furniture",
          "Furniture",
          "Furniture",
          "Furniture",
          "Furniture",
          "Furniture",
          "Furniture",
          "Furniture",
          "Furniture",
          "Furniture",
          "Furniture",
          "Furniture",
          "Furniture",
          "Furniture",
          "Furniture",
          "Office Supplies",
          "Office Supplies",
          "Office Supplies",
          "Office Supplies",
          "Office Supplies",
          "Office Supplies",
          "Office Supplies",
          "Office Supplies",
          "Office Supplies",
          "Office Supplies",
          "Office Supplies",
          "Office Supplies",
          "Office Supplies",
          "Office Supplies",
          "Office Supplies",
          "Office Supplies",
          "Office Supplies",
          "Office Supplies",
          "Office Supplies",
          "Office Supplies",
          "Office Supplies",
          "Office Supplies",
          "Office Supplies",
          "Office Supplies",
          "Office Supplies",
          "Office Supplies",
          "Office Supplies",
          "Office Supplies",
          "Office Supplies",
          "Office Supplies",
          "Office Supplies",
          "Office Supplies",
          "Office Supplies",
          "Office Supplies",
          "Office Supplies",
          "Office Supplies",
          "Office Supplies",
          "Office Supplies",
          "Office Supplies",
          "Office Supplies",
          "Office Supplies",
          "Office Supplies",
          "Office Supplies",
          "Office Supplies",
          "Office Supplies",
          "Office Supplies",
          "Office Supplies",
          "Office Supplies",
          "Technology",
          "Technology",
          "Technology",
          "Technology",
          "Technology",
          "Technology",
          "Technology",
          "Technology",
          "Technology",
          "Technology",
          "Technology",
          "Technology",
          "Technology",
          "Technology",
          "Technology",
          "Technology",
          "Technology",
          "Technology",
          "Technology",
          "Technology",
          "Technology",
          "Technology",
          "Technology",
          "Technology",
          "Technology",
          "Technology",
          "Technology",
          "Technology",
          "Technology",
          "Technology",
          "Technology",
          "Technology",
          "Technology",
          "Technology",
          "Technology",
          "Technology",
          "Technology",
          "Technology",
          "Technology",
          "Technology",
          "Technology",
          "Technology",
          "Technology",
          "Technology",
          "Technology",
          "Technology",
          "Technology",
          "Technology",
          "1",
          "1",
          "1",
          "1",
          "2",
          "2",
          "2",
          "2",
          "3",
          "3",
          "3",
          "3",
          "4",
          "4",
          "4",
          "4",
          "5",
          "5",
          "5",
          "5",
          "6",
          "6",
          "6",
          "6",
          "7",
          "7",
          "7",
          "7",
          "8",
          "8",
          "8",
          "8",
          "9",
          "9",
          "9",
          "9",
          "10",
          "10",
          "10",
          "10",
          "11",
          "11",
          "11",
          "11",
          "12",
          "12",
          "12",
          "12",
          "2015",
          "2016",
          "2017",
          "2018",
          "all"
         ],
         "marker": {
          "coloraxis": "coloraxis",
          "colors": [
           3,
           3,
           12,
           10,
           5,
           8,
           6,
           6,
           7,
           10,
           13,
           21,
           11,
           12,
           7,
           15,
           9,
           7,
           16,
           19,
           5,
           10,
           16,
           16,
           13,
           8,
           7,
           20,
           12,
           11,
           14,
           16,
           18,
           22,
           17,
           48,
           15,
           16,
           12,
           22,
           21,
           27,
           37,
           38,
           22,
           31,
           27,
           35,
           2,
           2,
           1,
           6,
           2,
           2,
           3,
           9,
           5,
           6,
           7,
           13,
           3,
           16,
           5,
           8,
           8,
           8,
           11,
           14,
           7,
           1,
           12,
           11,
           4,
           3,
           10,
           9,
           9,
           7,
           10,
           14,
           19,
           11,
           12,
           21,
           4,
           7,
           6,
           11,
           13,
           16,
           15,
           22,
           16,
           14,
           21,
           23,
           9,
           7,
           8,
           16,
           2,
           7,
           3,
           7,
           22,
           9,
           8,
           17,
           15,
           17,
           18,
           22,
           9,
           12,
           17,
           22,
           19,
           9,
           11,
           20,
           12,
           8,
           15,
           22,
           10,
           14,
           9,
           15,
           20,
           21,
           29,
           42,
           9,
           10,
           16,
           20,
           20,
           22,
           23,
           40,
           15,
           29,
           22,
           36,
           12,
           6,
           13,
           30,
           13,
           10,
           9,
           11,
           22,
           13,
           24,
           38,
           17,
           22,
           29,
           35,
           19,
           19,
           35,
           35,
           22,
           27,
           27,
           32,
           24,
           26,
           30,
           30,
           23,
           24,
           31,
           35,
           37,
           52,
           60,
           63,
           25,
           23,
           31,
           42,
           39,
           50,
           65,
           63,
           30,
           37,
           54,
           78,
           5,
           2,
           4,
           2,
           1,
           1,
           5,
           3,
           4,
           5,
           4,
           1,
           2,
           4,
           7,
           2,
           2,
           9,
           3,
           1,
           5,
           10,
           2,
           7,
           4,
           4,
           2,
           6,
           3,
           3,
           5,
           9,
           11,
           7,
           1,
           6,
           4,
           7,
           9,
           11,
           8,
           6,
           4,
           8,
           5,
           12,
           3,
           4,
           3,
           6,
           2,
           5,
           5,
           5,
           12,
           8,
           10,
           11,
           7,
           11,
           13,
           5,
           9,
           10,
           10,
           18,
           8,
           6,
           9,
           13,
           13,
           14,
           13,
           13,
           4,
           5,
           6,
           10,
           15,
           16,
           26,
           32,
           12,
           12,
           14,
           15,
           18,
           21,
           27,
           27,
           25,
           19,
           25,
           32,
           1,
           1,
           2,
           6,
           3,
           1,
           3,
           1,
           2,
           1,
           1,
           1,
           3,
           3,
           2,
           1,
           2,
           1,
           3,
           2,
           1,
           1,
           2,
           2,
           1,
           3,
           1,
           3,
           2,
           4,
           2,
           4,
           4,
           1,
           4,
           5,
           2,
           3,
           1,
           3,
           5,
           6,
           7,
           2,
           2,
           6,
           5,
           2,
           4,
           5,
           5,
           4,
           3,
           1,
           2,
           2,
           4,
           4,
           1,
           4,
           4,
           6,
           7,
           12,
           10,
           14,
           7,
           9,
           4,
           7,
           13,
           12,
           6,
           11,
           5,
           11,
           6,
           7,
           1,
           1,
           4,
           1,
           1,
           5,
           5,
           3,
           4,
           2,
           3,
           5,
           4,
           4,
           4,
           2,
           3,
           3,
           5,
           3,
           2,
           3,
           3,
           3,
           4,
           6,
           3,
           5,
           2,
           5,
           3,
           8,
           6,
           7,
           8,
           6,
           1,
           6,
           5,
           6,
           10,
           11,
           9,
           6,
           7,
           5,
           11,
           10,
           6,
           11,
           9,
           4,
           3,
           11,
           12,
           10,
           12,
           17,
           18,
           11,
           14,
           15,
           28,
           9,
           17,
           25,
           20,
           10,
           17,
           13,
           18,
           12,
           14,
           18,
           26,
           12,
           14,
           9,
           19,
           28,
           23,
           35,
           34,
           12,
           12,
           23,
           27,
           26,
           34,
           37,
           49,
           35,
           29,
           33,
           50,
           3,
           3,
           3,
           3,
           3,
           5,
           3,
           2,
           7,
           5,
           1,
           11,
           6,
           3,
           2,
           15,
           4,
           8,
           8,
           10,
           2,
           5,
           14,
           6,
           4,
           4,
           9,
           9,
           3,
           9,
           9,
           8,
           10,
           9,
           18,
           14,
           6,
           3,
           6,
           13,
           16,
           6,
           12,
           11,
           11,
           14,
           10,
           11,
           2,
           3,
           1,
           1,
           4,
           4,
           2,
           1,
           2,
           1,
           2,
           2,
           5,
           1,
           3,
           5,
           3,
           1,
           2,
           2,
           3,
           2,
           1,
           12,
           1,
           2,
           5,
           1,
           2,
           2,
           4,
           3,
           6,
           6,
           6,
           2,
           5,
           2,
           3,
           10,
           10,
           11,
           14,
           6,
           9,
           10,
           15,
           22,
           21,
           21,
           30,
           17,
           13,
           22,
           24,
           17,
           19,
           40,
           30,
           13,
           20,
           38,
           38,
           17,
           17,
           25,
           31,
           28,
           20,
           28,
           27,
           38,
           30,
           50,
           76,
           17,
           18,
           28,
           43,
           44,
           37,
           43,
           63,
           36,
           50,
           41,
           61,
           6,
           5,
           9,
           14,
           3,
           6,
           9,
           14,
           10,
           15,
           20,
           26,
           12,
           20,
           13,
           8,
           15,
           12,
           19,
           21,
           13,
           16,
           15,
           24,
           13,
           12,
           20,
           24,
           12,
           15,
           21,
           17,
           14,
           22,
           24,
           36,
           13,
           21,
           13,
           30,
           36,
           25,
           29,
           43,
           23,
           27,
           28,
           33,
           8,
           2,
           4,
           11,
           3,
           3,
           11,
           7,
           16,
           11,
           12,
           21,
           13,
           10,
           17,
           14,
           6,
           14,
           16,
           18,
           8,
           10,
           16,
           26,
           13,
           9,
           21,
           16,
           9,
           16,
           7,
           24,
           24,
           34,
           30,
           36,
           19,
           14,
           15,
           23,
           27,
           27,
           30,
           42,
           29,
           17,
           30,
           43,
           1,
           4,
           1,
           1,
           1,
           1,
           1,
           3,
           4,
           2,
           2,
           8,
           4,
           3,
           4,
           3,
           6,
           3,
           3,
           5,
           3,
           1,
           7,
           3,
           6,
           4,
           7,
           8,
           3,
           7,
           7,
           7,
           4,
           3,
           5,
           2,
           8,
           4,
           7,
           6,
           4,
           2,
           8,
           8,
           1,
           3,
           4,
           5,
           1,
           2,
           2,
           3,
           7,
           2,
           8,
           5,
           7,
           6,
           3,
           4,
           4,
           1,
           6,
           6,
           8,
           1,
           8,
           8,
           6,
           4,
           2,
           7,
           5,
           7,
           10,
           6,
           8,
           7,
           9,
           9,
           7,
           5,
           5,
           22,
           7,
           10,
           9,
           17,
           9,
           7,
           19,
           12,
           7.105263157894737,
           4.333333333333333,
           7.363636363636363,
           6.636363636363637,
           3,
           3.5454545454545454,
           7.947368421052632,
           8.12,
           9.4375,
           8.76923076923077,
           11.95,
           12.789473684210526,
           8.461538461538462,
           10.818181818181818,
           11.971428571428572,
           19.863636363636363,
           7.583333333333333,
           13.133333333333333,
           18.5609756097561,
           15.867924528301886,
           8.172413793103448,
           13.08,
           9.685714285714285,
           13.408163265306122,
           10.696969696969697,
           11.717948717948717,
           13.864864864864865,
           18.2,
           8.217391304347826,
           9.5625,
           8.071428571428571,
           13.31578947368421,
           19.607142857142858,
           16.636363636363637,
           25.962962962962962,
           28.170731707317074,
           10.5625,
           9.971428571428572,
           16.652173913043477,
           20.943661971830984,
           18.833333333333332,
           23.92105263157895,
           27.691358024691358,
           34.898989898989896,
           26.671232876712327,
           20.873015873015873,
           25.609756097560975,
           35.9622641509434,
           8.551020408163266,
           6.375,
           8.822222222222223,
           16.93548387096774,
           7.516129032258065,
           7,
           7.583333333333333,
           9.586206896551724,
           17.831683168316832,
           12.2,
           15.761904761904763,
           23.875,
           13.125,
           14.955056179775282,
           18.765765765765767,
           21.580152671755727,
           12.342857142857143,
           13.527472527472527,
           26.07246376811594,
           22.862068965517242,
           14.382716049382717,
           17.51948051948052,
           23.272,
           26.146853146853147,
           15.024390243902438,
           15.368421052631579,
           19.47244094488189,
           22.43548387096774,
           17.123711340206185,
           16.4375,
           19.509090909090908,
           22.314285714285713,
           26.337349397590362,
           30.945054945054945,
           38.14798206278027,
           48.93594306049822,
           15.556701030927835,
           14.75,
           20.299145299145298,
           29.57831325301205,
           28.387096774193548,
           30.619565217391305,
           38.10377358490566,
           45.48689138576779,
           24.44736842105263,
           30.74585635359116,
           33.74111675126903,
           49.76258992805755,
           5,
           3.8,
           10.272727272727273,
           10.928571428571429,
           4.25,
           7.142857142857143,
           7.375,
           11.095238095238095,
           7.857142857142857,
           12.185185185185185,
           15.81081081081081,
           21.036363636363635,
           11.083333333333334,
           15.054054054054054,
           10,
           11.72,
           11.666666666666666,
           9,
           15.380952380952381,
           19.142857142857142,
           9.666666666666666,
           13.222222222222221,
           14.055555555555555,
           19.558139534883722,
           12.555555555555555,
           9.952380952380953,
           14.4375,
           20.183673469387756,
           11.23076923076923,
           11.866666666666667,
           17.324324324324323,
           15.277777777777779,
           14.777777777777779,
           20.375,
           19.4,
           40.28888888888889,
           13.2,
           17.195121951219512,
           11.068965517241379,
           24.57894736842105,
           29.1,
           22.934426229508198,
           30.78082191780822,
           37.08888888888889,
           20.836734693877553,
           25.83582089552239,
           25.779661016949152,
           31.186666666666667,
           7.779220779220779,
           5.385964912280702,
           8.820224719101123,
           14.174825174825175,
           6.260869565217392,
           6.4375,
           7.626506024096385,
           9.538461538461538,
           14.727272727272727,
           11.5,
           14.826086956521738,
           21.438818565400844,
           11.815384615384616,
           14.119496855345911,
           16.202380952380953,
           19.97,
           11.24793388429752,
           12.748251748251748,
           22.647058823529413,
           20.666666666666668,
           12.251908396946565,
           15.75968992248062,
           19.153061224489797,
           22.285106382978725,
           13.549295774647888,
           13.485294117647058,
           17.591836734693878,
           20.99103139013453,
           14.67123287671233,
           14.177215189873417,
           17.217142857142857,
           19.53271028037383,
           22.97752808988764,
           26.403508771929825,
           32.902578796561606,
           43.45916114790287,
           14.10691823899371,
           14.341463414634147,
           18.03125,
           26.523809523809526,
           26.65359477124183,
           27.573208722741434,
           34.33879781420765,
           41.530701754385966,
           24.394160583941606,
           27.688102893890676,
           30.37869822485207,
           43.54030501089325,
           17.89093701996928,
           19.32116788321168,
           23.49171270718232,
           29.944751381215468,
           23.646326530612246
          ]
         },
         "name": "",
         "parents": [
          "all/2015/1/Technology",
          "all/2016/1/Technology",
          "all/2017/1/Technology",
          "all/2018/1/Technology",
          "all/2015/2/Technology",
          "all/2016/2/Technology",
          "all/2017/2/Technology",
          "all/2018/2/Technology",
          "all/2015/3/Technology",
          "all/2016/3/Technology",
          "all/2017/3/Technology",
          "all/2018/3/Technology",
          "all/2015/4/Technology",
          "all/2016/4/Technology",
          "all/2017/4/Technology",
          "all/2018/4/Technology",
          "all/2015/5/Technology",
          "all/2016/5/Technology",
          "all/2017/5/Technology",
          "all/2018/5/Technology",
          "all/2015/6/Technology",
          "all/2016/6/Technology",
          "all/2017/6/Technology",
          "all/2018/6/Technology",
          "all/2015/7/Technology",
          "all/2016/7/Technology",
          "all/2017/7/Technology",
          "all/2018/7/Technology",
          "all/2015/8/Technology",
          "all/2016/8/Technology",
          "all/2017/8/Technology",
          "all/2018/8/Technology",
          "all/2015/9/Technology",
          "all/2016/9/Technology",
          "all/2017/9/Technology",
          "all/2018/9/Technology",
          "all/2015/10/Technology",
          "all/2016/10/Technology",
          "all/2017/10/Technology",
          "all/2018/10/Technology",
          "all/2015/11/Technology",
          "all/2016/11/Technology",
          "all/2017/11/Technology",
          "all/2018/11/Technology",
          "all/2015/12/Technology",
          "all/2016/12/Technology",
          "all/2017/12/Technology",
          "all/2018/12/Technology",
          "all/2015/1/Office Supplies",
          "all/2016/1/Office Supplies",
          "all/2017/1/Office Supplies",
          "all/2018/1/Office Supplies",
          "all/2015/2/Office Supplies",
          "all/2016/2/Office Supplies",
          "all/2017/2/Office Supplies",
          "all/2018/2/Office Supplies",
          "all/2015/3/Office Supplies",
          "all/2016/3/Office Supplies",
          "all/2017/3/Office Supplies",
          "all/2018/3/Office Supplies",
          "all/2015/4/Office Supplies",
          "all/2016/4/Office Supplies",
          "all/2017/4/Office Supplies",
          "all/2018/4/Office Supplies",
          "all/2015/5/Office Supplies",
          "all/2016/5/Office Supplies",
          "all/2017/5/Office Supplies",
          "all/2018/5/Office Supplies",
          "all/2015/6/Office Supplies",
          "all/2016/6/Office Supplies",
          "all/2017/6/Office Supplies",
          "all/2018/6/Office Supplies",
          "all/2015/7/Office Supplies",
          "all/2016/7/Office Supplies",
          "all/2017/7/Office Supplies",
          "all/2018/7/Office Supplies",
          "all/2015/8/Office Supplies",
          "all/2016/8/Office Supplies",
          "all/2017/8/Office Supplies",
          "all/2018/8/Office Supplies",
          "all/2015/9/Office Supplies",
          "all/2016/9/Office Supplies",
          "all/2017/9/Office Supplies",
          "all/2018/9/Office Supplies",
          "all/2015/10/Office Supplies",
          "all/2016/10/Office Supplies",
          "all/2017/10/Office Supplies",
          "all/2018/10/Office Supplies",
          "all/2015/11/Office Supplies",
          "all/2016/11/Office Supplies",
          "all/2017/11/Office Supplies",
          "all/2018/11/Office Supplies",
          "all/2015/12/Office Supplies",
          "all/2016/12/Office Supplies",
          "all/2017/12/Office Supplies",
          "all/2018/12/Office Supplies",
          "all/2015/1/Office Supplies",
          "all/2016/1/Office Supplies",
          "all/2017/1/Office Supplies",
          "all/2018/1/Office Supplies",
          "all/2015/2/Office Supplies",
          "all/2016/2/Office Supplies",
          "all/2017/2/Office Supplies",
          "all/2018/2/Office Supplies",
          "all/2015/3/Office Supplies",
          "all/2016/3/Office Supplies",
          "all/2017/3/Office Supplies",
          "all/2018/3/Office Supplies",
          "all/2015/4/Office Supplies",
          "all/2016/4/Office Supplies",
          "all/2017/4/Office Supplies",
          "all/2018/4/Office Supplies",
          "all/2015/5/Office Supplies",
          "all/2016/5/Office Supplies",
          "all/2017/5/Office Supplies",
          "all/2018/5/Office Supplies",
          "all/2015/6/Office Supplies",
          "all/2016/6/Office Supplies",
          "all/2017/6/Office Supplies",
          "all/2018/6/Office Supplies",
          "all/2015/7/Office Supplies",
          "all/2016/7/Office Supplies",
          "all/2017/7/Office Supplies",
          "all/2018/7/Office Supplies",
          "all/2015/8/Office Supplies",
          "all/2016/8/Office Supplies",
          "all/2017/8/Office Supplies",
          "all/2018/8/Office Supplies",
          "all/2015/9/Office Supplies",
          "all/2016/9/Office Supplies",
          "all/2017/9/Office Supplies",
          "all/2018/9/Office Supplies",
          "all/2015/10/Office Supplies",
          "all/2016/10/Office Supplies",
          "all/2017/10/Office Supplies",
          "all/2018/10/Office Supplies",
          "all/2015/11/Office Supplies",
          "all/2016/11/Office Supplies",
          "all/2017/11/Office Supplies",
          "all/2018/11/Office Supplies",
          "all/2015/12/Office Supplies",
          "all/2016/12/Office Supplies",
          "all/2017/12/Office Supplies",
          "all/2018/12/Office Supplies",
          "all/2015/1/Office Supplies",
          "all/2016/1/Office Supplies",
          "all/2017/1/Office Supplies",
          "all/2018/1/Office Supplies",
          "all/2015/2/Office Supplies",
          "all/2016/2/Office Supplies",
          "all/2017/2/Office Supplies",
          "all/2018/2/Office Supplies",
          "all/2015/3/Office Supplies",
          "all/2016/3/Office Supplies",
          "all/2017/3/Office Supplies",
          "all/2018/3/Office Supplies",
          "all/2015/4/Office Supplies",
          "all/2016/4/Office Supplies",
          "all/2017/4/Office Supplies",
          "all/2018/4/Office Supplies",
          "all/2015/5/Office Supplies",
          "all/2016/5/Office Supplies",
          "all/2017/5/Office Supplies",
          "all/2018/5/Office Supplies",
          "all/2015/6/Office Supplies",
          "all/2016/6/Office Supplies",
          "all/2017/6/Office Supplies",
          "all/2018/6/Office Supplies",
          "all/2015/7/Office Supplies",
          "all/2016/7/Office Supplies",
          "all/2017/7/Office Supplies",
          "all/2018/7/Office Supplies",
          "all/2015/8/Office Supplies",
          "all/2016/8/Office Supplies",
          "all/2017/8/Office Supplies",
          "all/2018/8/Office Supplies",
          "all/2015/9/Office Supplies",
          "all/2016/9/Office Supplies",
          "all/2017/9/Office Supplies",
          "all/2018/9/Office Supplies",
          "all/2015/10/Office Supplies",
          "all/2016/10/Office Supplies",
          "all/2017/10/Office Supplies",
          "all/2018/10/Office Supplies",
          "all/2015/11/Office Supplies",
          "all/2016/11/Office Supplies",
          "all/2017/11/Office Supplies",
          "all/2018/11/Office Supplies",
          "all/2015/12/Office Supplies",
          "all/2016/12/Office Supplies",
          "all/2017/12/Office Supplies",
          "all/2018/12/Office Supplies",
          "all/2015/1/Furniture",
          "all/2016/1/Furniture",
          "all/2017/1/Furniture",
          "all/2018/1/Furniture",
          "all/2016/2/Furniture",
          "all/2017/2/Furniture",
          "all/2018/2/Furniture",
          "all/2015/3/Furniture",
          "all/2016/3/Furniture",
          "all/2017/3/Furniture",
          "all/2018/3/Furniture",
          "all/2015/4/Furniture",
          "all/2016/4/Furniture",
          "all/2017/4/Furniture",
          "all/2018/4/Furniture",
          "all/2015/5/Furniture",
          "all/2016/5/Furniture",
          "all/2018/5/Furniture",
          "all/2015/6/Furniture",
          "all/2016/6/Furniture",
          "all/2017/6/Furniture",
          "all/2018/6/Furniture",
          "all/2015/7/Furniture",
          "all/2016/7/Furniture",
          "all/2017/7/Furniture",
          "all/2018/7/Furniture",
          "all/2015/8/Furniture",
          "all/2016/8/Furniture",
          "all/2017/8/Furniture",
          "all/2018/8/Furniture",
          "all/2015/9/Furniture",
          "all/2016/9/Furniture",
          "all/2017/9/Furniture",
          "all/2018/9/Furniture",
          "all/2015/10/Furniture",
          "all/2016/10/Furniture",
          "all/2017/10/Furniture",
          "all/2018/10/Furniture",
          "all/2015/11/Furniture",
          "all/2016/11/Furniture",
          "all/2017/11/Furniture",
          "all/2018/11/Furniture",
          "all/2015/12/Furniture",
          "all/2016/12/Furniture",
          "all/2017/12/Furniture",
          "all/2018/12/Furniture",
          "all/2015/1/Furniture",
          "all/2016/1/Furniture",
          "all/2017/1/Furniture",
          "all/2018/1/Furniture",
          "all/2015/2/Furniture",
          "all/2016/2/Furniture",
          "all/2017/2/Furniture",
          "all/2018/2/Furniture",
          "all/2015/3/Furniture",
          "all/2016/3/Furniture",
          "all/2017/3/Furniture",
          "all/2018/3/Furniture",
          "all/2015/4/Furniture",
          "all/2016/4/Furniture",
          "all/2017/4/Furniture",
          "all/2018/4/Furniture",
          "all/2015/5/Furniture",
          "all/2016/5/Furniture",
          "all/2017/5/Furniture",
          "all/2018/5/Furniture",
          "all/2015/6/Furniture",
          "all/2016/6/Furniture",
          "all/2017/6/Furniture",
          "all/2018/6/Furniture",
          "all/2015/7/Furniture",
          "all/2016/7/Furniture",
          "all/2017/7/Furniture",
          "all/2018/7/Furniture",
          "all/2015/8/Furniture",
          "all/2016/8/Furniture",
          "all/2017/8/Furniture",
          "all/2018/8/Furniture",
          "all/2015/9/Furniture",
          "all/2016/9/Furniture",
          "all/2017/9/Furniture",
          "all/2018/9/Furniture",
          "all/2015/10/Furniture",
          "all/2016/10/Furniture",
          "all/2017/10/Furniture",
          "all/2018/10/Furniture",
          "all/2015/11/Furniture",
          "all/2016/11/Furniture",
          "all/2017/11/Furniture",
          "all/2018/11/Furniture",
          "all/2015/12/Furniture",
          "all/2016/12/Furniture",
          "all/2017/12/Furniture",
          "all/2018/12/Furniture",
          "all/2017/1/Technology",
          "all/2018/1/Technology",
          "all/2016/3/Technology",
          "all/2018/3/Technology",
          "all/2016/4/Technology",
          "all/2017/4/Technology",
          "all/2015/5/Technology",
          "all/2016/5/Technology",
          "all/2017/5/Technology",
          "all/2018/5/Technology",
          "all/2016/6/Technology",
          "all/2015/7/Technology",
          "all/2017/7/Technology",
          "all/2018/7/Technology",
          "all/2015/8/Technology",
          "all/2016/8/Technology",
          "all/2018/8/Technology",
          "all/2015/9/Technology",
          "all/2016/9/Technology",
          "all/2017/9/Technology",
          "all/2018/9/Technology",
          "all/2015/10/Technology",
          "all/2016/10/Technology",
          "all/2017/10/Technology",
          "all/2018/10/Technology",
          "all/2016/11/Technology",
          "all/2017/11/Technology",
          "all/2018/11/Technology",
          "all/2015/12/Technology",
          "all/2016/12/Technology",
          "all/2017/12/Technology",
          "all/2018/12/Technology",
          "all/2015/1/Office Supplies",
          "all/2016/1/Office Supplies",
          "all/2017/1/Office Supplies",
          "all/2018/1/Office Supplies",
          "all/2016/2/Office Supplies",
          "all/2017/2/Office Supplies",
          "all/2018/2/Office Supplies",
          "all/2015/3/Office Supplies",
          "all/2016/3/Office Supplies",
          "all/2017/3/Office Supplies",
          "all/2018/3/Office Supplies",
          "all/2015/4/Office Supplies",
          "all/2016/4/Office Supplies",
          "all/2017/4/Office Supplies",
          "all/2018/4/Office Supplies",
          "all/2015/5/Office Supplies",
          "all/2016/5/Office Supplies",
          "all/2017/5/Office Supplies",
          "all/2018/5/Office Supplies",
          "all/2015/6/Office Supplies",
          "all/2016/6/Office Supplies",
          "all/2017/6/Office Supplies",
          "all/2018/6/Office Supplies",
          "all/2015/7/Office Supplies",
          "all/2016/7/Office Supplies",
          "all/2017/7/Office Supplies",
          "all/2018/7/Office Supplies",
          "all/2015/8/Office Supplies",
          "all/2017/8/Office Supplies",
          "all/2018/8/Office Supplies",
          "all/2015/9/Office Supplies",
          "all/2016/9/Office Supplies",
          "all/2017/9/Office Supplies",
          "all/2018/9/Office Supplies",
          "all/2015/10/Office Supplies",
          "all/2016/10/Office Supplies",
          "all/2017/10/Office Supplies",
          "all/2018/10/Office Supplies",
          "all/2015/11/Office Supplies",
          "all/2016/11/Office Supplies",
          "all/2017/11/Office Supplies",
          "all/2018/11/Office Supplies",
          "all/2015/12/Office Supplies",
          "all/2016/12/Office Supplies",
          "all/2017/12/Office Supplies",
          "all/2018/12/Office Supplies",
          "all/2015/1/Office Supplies",
          "all/2017/1/Office Supplies",
          "all/2018/1/Office Supplies",
          "all/2015/2/Office Supplies",
          "all/2016/2/Office Supplies",
          "all/2017/2/Office Supplies",
          "all/2018/2/Office Supplies",
          "all/2015/3/Office Supplies",
          "all/2016/3/Office Supplies",
          "all/2017/3/Office Supplies",
          "all/2018/3/Office Supplies",
          "all/2015/4/Office Supplies",
          "all/2016/4/Office Supplies",
          "all/2017/4/Office Supplies",
          "all/2018/4/Office Supplies",
          "all/2015/5/Office Supplies",
          "all/2016/5/Office Supplies",
          "all/2017/5/Office Supplies",
          "all/2018/5/Office Supplies",
          "all/2015/6/Office Supplies",
          "all/2016/6/Office Supplies",
          "all/2017/6/Office Supplies",
          "all/2018/6/Office Supplies",
          "all/2015/7/Office Supplies",
          "all/2016/7/Office Supplies",
          "all/2017/7/Office Supplies",
          "all/2018/7/Office Supplies",
          "all/2015/8/Office Supplies",
          "all/2016/8/Office Supplies",
          "all/2017/8/Office Supplies",
          "all/2018/8/Office Supplies",
          "all/2015/9/Office Supplies",
          "all/2016/9/Office Supplies",
          "all/2017/9/Office Supplies",
          "all/2018/9/Office Supplies",
          "all/2015/10/Office Supplies",
          "all/2016/10/Office Supplies",
          "all/2017/10/Office Supplies",
          "all/2018/10/Office Supplies",
          "all/2015/11/Office Supplies",
          "all/2016/11/Office Supplies",
          "all/2017/11/Office Supplies",
          "all/2018/11/Office Supplies",
          "all/2015/12/Office Supplies",
          "all/2016/12/Office Supplies",
          "all/2017/12/Office Supplies",
          "all/2018/12/Office Supplies",
          "all/2015/1/Furniture",
          "all/2016/1/Furniture",
          "all/2017/1/Furniture",
          "all/2018/1/Furniture",
          "all/2015/2/Furniture",
          "all/2016/2/Furniture",
          "all/2017/2/Furniture",
          "all/2018/2/Furniture",
          "all/2015/3/Furniture",
          "all/2016/3/Furniture",
          "all/2017/3/Furniture",
          "all/2018/3/Furniture",
          "all/2015/4/Furniture",
          "all/2016/4/Furniture",
          "all/2017/4/Furniture",
          "all/2018/4/Furniture",
          "all/2015/5/Furniture",
          "all/2016/5/Furniture",
          "all/2017/5/Furniture",
          "all/2018/5/Furniture",
          "all/2015/6/Furniture",
          "all/2016/6/Furniture",
          "all/2017/6/Furniture",
          "all/2018/6/Furniture",
          "all/2015/7/Furniture",
          "all/2016/7/Furniture",
          "all/2017/7/Furniture",
          "all/2018/7/Furniture",
          "all/2015/8/Furniture",
          "all/2016/8/Furniture",
          "all/2017/8/Furniture",
          "all/2018/8/Furniture",
          "all/2015/9/Furniture",
          "all/2016/9/Furniture",
          "all/2017/9/Furniture",
          "all/2018/9/Furniture",
          "all/2015/10/Furniture",
          "all/2016/10/Furniture",
          "all/2017/10/Furniture",
          "all/2018/10/Furniture",
          "all/2015/11/Furniture",
          "all/2016/11/Furniture",
          "all/2017/11/Furniture",
          "all/2018/11/Furniture",
          "all/2015/12/Furniture",
          "all/2016/12/Furniture",
          "all/2017/12/Furniture",
          "all/2018/12/Furniture",
          "all/2015/1/Office Supplies",
          "all/2016/1/Office Supplies",
          "all/2017/1/Office Supplies",
          "all/2018/1/Office Supplies",
          "all/2015/2/Office Supplies",
          "all/2016/2/Office Supplies",
          "all/2017/2/Office Supplies",
          "all/2018/2/Office Supplies",
          "all/2015/3/Office Supplies",
          "all/2016/3/Office Supplies",
          "all/2017/3/Office Supplies",
          "all/2018/3/Office Supplies",
          "all/2015/4/Office Supplies",
          "all/2016/4/Office Supplies",
          "all/2017/4/Office Supplies",
          "all/2018/4/Office Supplies",
          "all/2015/5/Office Supplies",
          "all/2016/5/Office Supplies",
          "all/2017/5/Office Supplies",
          "all/2018/5/Office Supplies",
          "all/2015/6/Office Supplies",
          "all/2016/6/Office Supplies",
          "all/2017/6/Office Supplies",
          "all/2018/6/Office Supplies",
          "all/2015/7/Office Supplies",
          "all/2016/7/Office Supplies",
          "all/2017/7/Office Supplies",
          "all/2018/7/Office Supplies",
          "all/2015/8/Office Supplies",
          "all/2016/8/Office Supplies",
          "all/2017/8/Office Supplies",
          "all/2018/8/Office Supplies",
          "all/2015/9/Office Supplies",
          "all/2016/9/Office Supplies",
          "all/2017/9/Office Supplies",
          "all/2018/9/Office Supplies",
          "all/2015/10/Office Supplies",
          "all/2016/10/Office Supplies",
          "all/2017/10/Office Supplies",
          "all/2018/10/Office Supplies",
          "all/2015/11/Office Supplies",
          "all/2016/11/Office Supplies",
          "all/2017/11/Office Supplies",
          "all/2018/11/Office Supplies",
          "all/2015/12/Office Supplies",
          "all/2016/12/Office Supplies",
          "all/2017/12/Office Supplies",
          "all/2018/12/Office Supplies",
          "all/2016/1/Technology",
          "all/2018/1/Technology",
          "all/2017/2/Technology",
          "all/2018/2/Technology",
          "all/2015/3/Technology",
          "all/2017/3/Technology",
          "all/2018/3/Technology",
          "all/2015/4/Technology",
          "all/2016/4/Technology",
          "all/2017/4/Technology",
          "all/2018/4/Technology",
          "all/2016/5/Technology",
          "all/2017/5/Technology",
          "all/2018/5/Technology",
          "all/2015/6/Technology",
          "all/2017/6/Technology",
          "all/2018/6/Technology",
          "all/2016/7/Technology",
          "all/2017/7/Technology",
          "all/2018/7/Technology",
          "all/2016/8/Technology",
          "all/2017/8/Technology",
          "all/2018/8/Technology",
          "all/2015/9/Technology",
          "all/2016/9/Technology",
          "all/2017/9/Technology",
          "all/2018/9/Technology",
          "all/2015/10/Technology",
          "all/2016/10/Technology",
          "all/2017/10/Technology",
          "all/2018/10/Technology",
          "all/2015/11/Technology",
          "all/2016/11/Technology",
          "all/2017/11/Technology",
          "all/2018/11/Technology",
          "all/2015/12/Technology",
          "all/2016/12/Technology",
          "all/2017/12/Technology",
          "all/2018/12/Technology",
          "all/2015/1/Office Supplies",
          "all/2016/1/Office Supplies",
          "all/2017/1/Office Supplies",
          "all/2018/1/Office Supplies",
          "all/2015/2/Office Supplies",
          "all/2016/2/Office Supplies",
          "all/2017/2/Office Supplies",
          "all/2018/2/Office Supplies",
          "all/2015/3/Office Supplies",
          "all/2016/3/Office Supplies",
          "all/2017/3/Office Supplies",
          "all/2018/3/Office Supplies",
          "all/2015/4/Office Supplies",
          "all/2016/4/Office Supplies",
          "all/2017/4/Office Supplies",
          "all/2018/4/Office Supplies",
          "all/2015/5/Office Supplies",
          "all/2016/5/Office Supplies",
          "all/2017/5/Office Supplies",
          "all/2018/5/Office Supplies",
          "all/2015/6/Office Supplies",
          "all/2016/6/Office Supplies",
          "all/2017/6/Office Supplies",
          "all/2018/6/Office Supplies",
          "all/2015/7/Office Supplies",
          "all/2016/7/Office Supplies",
          "all/2017/7/Office Supplies",
          "all/2018/7/Office Supplies",
          "all/2015/8/Office Supplies",
          "all/2016/8/Office Supplies",
          "all/2017/8/Office Supplies",
          "all/2018/8/Office Supplies",
          "all/2015/9/Office Supplies",
          "all/2016/9/Office Supplies",
          "all/2017/9/Office Supplies",
          "all/2018/9/Office Supplies",
          "all/2015/10/Office Supplies",
          "all/2016/10/Office Supplies",
          "all/2017/10/Office Supplies",
          "all/2018/10/Office Supplies",
          "all/2015/11/Office Supplies",
          "all/2016/11/Office Supplies",
          "all/2017/11/Office Supplies",
          "all/2018/11/Office Supplies",
          "all/2015/12/Office Supplies",
          "all/2016/12/Office Supplies",
          "all/2017/12/Office Supplies",
          "all/2018/12/Office Supplies",
          "all/2015/1/Technology",
          "all/2016/1/Technology",
          "all/2017/1/Technology",
          "all/2018/1/Technology",
          "all/2015/2/Technology",
          "all/2016/2/Technology",
          "all/2017/2/Technology",
          "all/2018/2/Technology",
          "all/2015/3/Technology",
          "all/2016/3/Technology",
          "all/2017/3/Technology",
          "all/2018/3/Technology",
          "all/2015/4/Technology",
          "all/2016/4/Technology",
          "all/2017/4/Technology",
          "all/2018/4/Technology",
          "all/2015/5/Technology",
          "all/2016/5/Technology",
          "all/2017/5/Technology",
          "all/2018/5/Technology",
          "all/2015/6/Technology",
          "all/2016/6/Technology",
          "all/2017/6/Technology",
          "all/2018/6/Technology",
          "all/2015/7/Technology",
          "all/2016/7/Technology",
          "all/2017/7/Technology",
          "all/2018/7/Technology",
          "all/2015/8/Technology",
          "all/2016/8/Technology",
          "all/2017/8/Technology",
          "all/2018/8/Technology",
          "all/2015/9/Technology",
          "all/2016/9/Technology",
          "all/2017/9/Technology",
          "all/2018/9/Technology",
          "all/2015/10/Technology",
          "all/2016/10/Technology",
          "all/2017/10/Technology",
          "all/2018/10/Technology",
          "all/2015/11/Technology",
          "all/2016/11/Technology",
          "all/2017/11/Technology",
          "all/2018/11/Technology",
          "all/2015/12/Technology",
          "all/2016/12/Technology",
          "all/2017/12/Technology",
          "all/2018/12/Technology",
          "all/2015/1/Office Supplies",
          "all/2016/1/Office Supplies",
          "all/2017/1/Office Supplies",
          "all/2018/1/Office Supplies",
          "all/2015/2/Office Supplies",
          "all/2016/2/Office Supplies",
          "all/2017/2/Office Supplies",
          "all/2018/2/Office Supplies",
          "all/2015/3/Office Supplies",
          "all/2016/3/Office Supplies",
          "all/2017/3/Office Supplies",
          "all/2018/3/Office Supplies",
          "all/2015/4/Office Supplies",
          "all/2016/4/Office Supplies",
          "all/2017/4/Office Supplies",
          "all/2018/4/Office Supplies",
          "all/2015/5/Office Supplies",
          "all/2016/5/Office Supplies",
          "all/2017/5/Office Supplies",
          "all/2018/5/Office Supplies",
          "all/2015/6/Office Supplies",
          "all/2016/6/Office Supplies",
          "all/2017/6/Office Supplies",
          "all/2018/6/Office Supplies",
          "all/2015/7/Office Supplies",
          "all/2016/7/Office Supplies",
          "all/2017/7/Office Supplies",
          "all/2018/7/Office Supplies",
          "all/2015/8/Office Supplies",
          "all/2016/8/Office Supplies",
          "all/2017/8/Office Supplies",
          "all/2018/8/Office Supplies",
          "all/2015/9/Office Supplies",
          "all/2016/9/Office Supplies",
          "all/2017/9/Office Supplies",
          "all/2018/9/Office Supplies",
          "all/2015/10/Office Supplies",
          "all/2016/10/Office Supplies",
          "all/2017/10/Office Supplies",
          "all/2018/10/Office Supplies",
          "all/2015/11/Office Supplies",
          "all/2016/11/Office Supplies",
          "all/2017/11/Office Supplies",
          "all/2018/11/Office Supplies",
          "all/2015/12/Office Supplies",
          "all/2016/12/Office Supplies",
          "all/2017/12/Office Supplies",
          "all/2018/12/Office Supplies",
          "all/2016/1/Office Supplies",
          "all/2018/1/Office Supplies",
          "all/2015/2/Office Supplies",
          "all/2017/2/Office Supplies",
          "all/2018/2/Office Supplies",
          "all/2015/3/Office Supplies",
          "all/2016/3/Office Supplies",
          "all/2017/3/Office Supplies",
          "all/2018/3/Office Supplies",
          "all/2015/4/Office Supplies",
          "all/2016/4/Office Supplies",
          "all/2017/4/Office Supplies",
          "all/2018/4/Office Supplies",
          "all/2015/5/Office Supplies",
          "all/2016/5/Office Supplies",
          "all/2017/5/Office Supplies",
          "all/2018/5/Office Supplies",
          "all/2015/6/Office Supplies",
          "all/2017/6/Office Supplies",
          "all/2018/6/Office Supplies",
          "all/2015/7/Office Supplies",
          "all/2016/7/Office Supplies",
          "all/2017/7/Office Supplies",
          "all/2018/7/Office Supplies",
          "all/2015/8/Office Supplies",
          "all/2016/8/Office Supplies",
          "all/2017/8/Office Supplies",
          "all/2018/8/Office Supplies",
          "all/2015/9/Office Supplies",
          "all/2016/9/Office Supplies",
          "all/2017/9/Office Supplies",
          "all/2018/9/Office Supplies",
          "all/2015/10/Office Supplies",
          "all/2016/10/Office Supplies",
          "all/2017/10/Office Supplies",
          "all/2018/10/Office Supplies",
          "all/2015/11/Office Supplies",
          "all/2016/11/Office Supplies",
          "all/2017/11/Office Supplies",
          "all/2018/11/Office Supplies",
          "all/2015/12/Office Supplies",
          "all/2016/12/Office Supplies",
          "all/2017/12/Office Supplies",
          "all/2018/12/Office Supplies",
          "all/2015/1/Furniture",
          "all/2016/1/Furniture",
          "all/2017/1/Furniture",
          "all/2018/1/Furniture",
          "all/2015/2/Furniture",
          "all/2016/2/Furniture",
          "all/2017/2/Furniture",
          "all/2018/2/Furniture",
          "all/2015/3/Furniture",
          "all/2016/3/Furniture",
          "all/2017/3/Furniture",
          "all/2018/3/Furniture",
          "all/2015/4/Furniture",
          "all/2016/4/Furniture",
          "all/2017/4/Furniture",
          "all/2018/4/Furniture",
          "all/2015/5/Furniture",
          "all/2016/5/Furniture",
          "all/2017/5/Furniture",
          "all/2018/5/Furniture",
          "all/2015/6/Furniture",
          "all/2016/6/Furniture",
          "all/2017/6/Furniture",
          "all/2018/6/Furniture",
          "all/2015/7/Furniture",
          "all/2016/7/Furniture",
          "all/2017/7/Furniture",
          "all/2018/7/Furniture",
          "all/2015/8/Furniture",
          "all/2016/8/Furniture",
          "all/2017/8/Furniture",
          "all/2018/8/Furniture",
          "all/2015/9/Furniture",
          "all/2016/9/Furniture",
          "all/2017/9/Furniture",
          "all/2018/9/Furniture",
          "all/2015/10/Furniture",
          "all/2016/10/Furniture",
          "all/2017/10/Furniture",
          "all/2018/10/Furniture",
          "all/2015/11/Furniture",
          "all/2016/11/Furniture",
          "all/2017/11/Furniture",
          "all/2018/11/Furniture",
          "all/2015/12/Furniture",
          "all/2016/12/Furniture",
          "all/2017/12/Furniture",
          "all/2018/12/Furniture",
          "all/2015/1",
          "all/2016/1",
          "all/2017/1",
          "all/2018/1",
          "all/2015/2",
          "all/2016/2",
          "all/2017/2",
          "all/2018/2",
          "all/2015/3",
          "all/2016/3",
          "all/2017/3",
          "all/2018/3",
          "all/2015/4",
          "all/2016/4",
          "all/2017/4",
          "all/2018/4",
          "all/2015/5",
          "all/2016/5",
          "all/2017/5",
          "all/2018/5",
          "all/2015/6",
          "all/2016/6",
          "all/2017/6",
          "all/2018/6",
          "all/2015/7",
          "all/2016/7",
          "all/2017/7",
          "all/2018/7",
          "all/2015/8",
          "all/2016/8",
          "all/2017/8",
          "all/2018/8",
          "all/2015/9",
          "all/2016/9",
          "all/2017/9",
          "all/2018/9",
          "all/2015/10",
          "all/2016/10",
          "all/2017/10",
          "all/2018/10",
          "all/2015/11",
          "all/2016/11",
          "all/2017/11",
          "all/2018/11",
          "all/2015/12",
          "all/2016/12",
          "all/2017/12",
          "all/2018/12",
          "all/2015/1",
          "all/2016/1",
          "all/2017/1",
          "all/2018/1",
          "all/2015/2",
          "all/2016/2",
          "all/2017/2",
          "all/2018/2",
          "all/2015/3",
          "all/2016/3",
          "all/2017/3",
          "all/2018/3",
          "all/2015/4",
          "all/2016/4",
          "all/2017/4",
          "all/2018/4",
          "all/2015/5",
          "all/2016/5",
          "all/2017/5",
          "all/2018/5",
          "all/2015/6",
          "all/2016/6",
          "all/2017/6",
          "all/2018/6",
          "all/2015/7",
          "all/2016/7",
          "all/2017/7",
          "all/2018/7",
          "all/2015/8",
          "all/2016/8",
          "all/2017/8",
          "all/2018/8",
          "all/2015/9",
          "all/2016/9",
          "all/2017/9",
          "all/2018/9",
          "all/2015/10",
          "all/2016/10",
          "all/2017/10",
          "all/2018/10",
          "all/2015/11",
          "all/2016/11",
          "all/2017/11",
          "all/2018/11",
          "all/2015/12",
          "all/2016/12",
          "all/2017/12",
          "all/2018/12",
          "all/2015/1",
          "all/2016/1",
          "all/2017/1",
          "all/2018/1",
          "all/2015/2",
          "all/2016/2",
          "all/2017/2",
          "all/2018/2",
          "all/2015/3",
          "all/2016/3",
          "all/2017/3",
          "all/2018/3",
          "all/2015/4",
          "all/2016/4",
          "all/2017/4",
          "all/2018/4",
          "all/2015/5",
          "all/2016/5",
          "all/2017/5",
          "all/2018/5",
          "all/2015/6",
          "all/2016/6",
          "all/2017/6",
          "all/2018/6",
          "all/2015/7",
          "all/2016/7",
          "all/2017/7",
          "all/2018/7",
          "all/2015/8",
          "all/2016/8",
          "all/2017/8",
          "all/2018/8",
          "all/2015/9",
          "all/2016/9",
          "all/2017/9",
          "all/2018/9",
          "all/2015/10",
          "all/2016/10",
          "all/2017/10",
          "all/2018/10",
          "all/2015/11",
          "all/2016/11",
          "all/2017/11",
          "all/2018/11",
          "all/2015/12",
          "all/2016/12",
          "all/2017/12",
          "all/2018/12",
          "all/2015",
          "all/2016",
          "all/2017",
          "all/2018",
          "all/2015",
          "all/2016",
          "all/2017",
          "all/2018",
          "all/2015",
          "all/2016",
          "all/2017",
          "all/2018",
          "all/2015",
          "all/2016",
          "all/2017",
          "all/2018",
          "all/2015",
          "all/2016",
          "all/2017",
          "all/2018",
          "all/2015",
          "all/2016",
          "all/2017",
          "all/2018",
          "all/2015",
          "all/2016",
          "all/2017",
          "all/2018",
          "all/2015",
          "all/2016",
          "all/2017",
          "all/2018",
          "all/2015",
          "all/2016",
          "all/2017",
          "all/2018",
          "all/2015",
          "all/2016",
          "all/2017",
          "all/2018",
          "all/2015",
          "all/2016",
          "all/2017",
          "all/2018",
          "all/2015",
          "all/2016",
          "all/2017",
          "all/2018",
          "all",
          "all",
          "all",
          "all",
          ""
         ],
         "textinfo": "label+text+value",
         "type": "treemap",
         "values": [
          3,
          3,
          12,
          10,
          5,
          8,
          6,
          6,
          7,
          10,
          13,
          21,
          11,
          12,
          7,
          15,
          9,
          7,
          16,
          19,
          5,
          10,
          16,
          16,
          13,
          8,
          7,
          20,
          12,
          11,
          14,
          16,
          18,
          22,
          17,
          48,
          15,
          16,
          12,
          22,
          21,
          27,
          37,
          38,
          22,
          31,
          27,
          35,
          2,
          2,
          1,
          6,
          2,
          2,
          3,
          9,
          5,
          6,
          7,
          13,
          3,
          16,
          5,
          8,
          8,
          8,
          11,
          14,
          7,
          1,
          12,
          11,
          4,
          3,
          10,
          9,
          9,
          7,
          10,
          14,
          19,
          11,
          12,
          21,
          4,
          7,
          6,
          11,
          13,
          16,
          15,
          22,
          16,
          14,
          21,
          23,
          9,
          7,
          8,
          16,
          2,
          7,
          3,
          7,
          22,
          9,
          8,
          17,
          15,
          17,
          18,
          22,
          9,
          12,
          17,
          22,
          19,
          9,
          11,
          20,
          12,
          8,
          15,
          22,
          10,
          14,
          9,
          15,
          20,
          21,
          29,
          42,
          9,
          10,
          16,
          20,
          20,
          22,
          23,
          40,
          15,
          29,
          22,
          36,
          12,
          6,
          13,
          30,
          13,
          10,
          9,
          11,
          22,
          13,
          24,
          38,
          17,
          22,
          29,
          35,
          19,
          19,
          35,
          35,
          22,
          27,
          27,
          32,
          24,
          26,
          30,
          30,
          23,
          24,
          31,
          35,
          37,
          52,
          60,
          63,
          25,
          23,
          31,
          42,
          39,
          50,
          65,
          63,
          30,
          37,
          54,
          78,
          5,
          2,
          4,
          2,
          1,
          1,
          5,
          3,
          4,
          5,
          4,
          1,
          2,
          4,
          7,
          2,
          2,
          9,
          3,
          1,
          5,
          10,
          2,
          7,
          4,
          4,
          2,
          6,
          3,
          3,
          5,
          9,
          11,
          7,
          1,
          6,
          4,
          7,
          9,
          11,
          8,
          6,
          4,
          8,
          5,
          12,
          3,
          4,
          3,
          6,
          2,
          5,
          5,
          5,
          12,
          8,
          10,
          11,
          7,
          11,
          13,
          5,
          9,
          10,
          10,
          18,
          8,
          6,
          9,
          13,
          13,
          14,
          13,
          13,
          4,
          5,
          6,
          10,
          15,
          16,
          26,
          32,
          12,
          12,
          14,
          15,
          18,
          21,
          27,
          27,
          25,
          19,
          25,
          32,
          1,
          1,
          2,
          6,
          3,
          1,
          3,
          1,
          2,
          1,
          1,
          1,
          3,
          3,
          2,
          1,
          2,
          1,
          3,
          2,
          1,
          1,
          2,
          2,
          1,
          3,
          1,
          3,
          2,
          4,
          2,
          4,
          4,
          1,
          4,
          5,
          2,
          3,
          1,
          3,
          5,
          6,
          7,
          2,
          2,
          6,
          5,
          2,
          4,
          5,
          5,
          4,
          3,
          1,
          2,
          2,
          4,
          4,
          1,
          4,
          4,
          6,
          7,
          12,
          10,
          14,
          7,
          9,
          4,
          7,
          13,
          12,
          6,
          11,
          5,
          11,
          6,
          7,
          1,
          1,
          4,
          1,
          1,
          5,
          5,
          3,
          4,
          2,
          3,
          5,
          4,
          4,
          4,
          2,
          3,
          3,
          5,
          3,
          2,
          3,
          3,
          3,
          4,
          6,
          3,
          5,
          2,
          5,
          3,
          8,
          6,
          7,
          8,
          6,
          1,
          6,
          5,
          6,
          10,
          11,
          9,
          6,
          7,
          5,
          11,
          10,
          6,
          11,
          9,
          4,
          3,
          11,
          12,
          10,
          12,
          17,
          18,
          11,
          14,
          15,
          28,
          9,
          17,
          25,
          20,
          10,
          17,
          13,
          18,
          12,
          14,
          18,
          26,
          12,
          14,
          9,
          19,
          28,
          23,
          35,
          34,
          12,
          12,
          23,
          27,
          26,
          34,
          37,
          49,
          35,
          29,
          33,
          50,
          3,
          3,
          3,
          3,
          3,
          5,
          3,
          2,
          7,
          5,
          1,
          11,
          6,
          3,
          2,
          15,
          4,
          8,
          8,
          10,
          2,
          5,
          14,
          6,
          4,
          4,
          9,
          9,
          3,
          9,
          9,
          8,
          10,
          9,
          18,
          14,
          6,
          3,
          6,
          13,
          16,
          6,
          12,
          11,
          11,
          14,
          10,
          11,
          2,
          3,
          1,
          1,
          4,
          4,
          2,
          1,
          2,
          1,
          2,
          2,
          5,
          1,
          3,
          5,
          3,
          1,
          2,
          2,
          3,
          2,
          1,
          12,
          1,
          2,
          5,
          1,
          2,
          2,
          4,
          3,
          6,
          6,
          6,
          2,
          5,
          2,
          3,
          10,
          10,
          11,
          14,
          6,
          9,
          10,
          15,
          22,
          21,
          21,
          30,
          17,
          13,
          22,
          24,
          17,
          19,
          40,
          30,
          13,
          20,
          38,
          38,
          17,
          17,
          25,
          31,
          28,
          20,
          28,
          27,
          38,
          30,
          50,
          76,
          17,
          18,
          28,
          43,
          44,
          37,
          43,
          63,
          36,
          50,
          41,
          61,
          6,
          5,
          9,
          14,
          3,
          6,
          9,
          14,
          10,
          15,
          20,
          26,
          12,
          20,
          13,
          8,
          15,
          12,
          19,
          21,
          13,
          16,
          15,
          24,
          13,
          12,
          20,
          24,
          12,
          15,
          21,
          17,
          14,
          22,
          24,
          36,
          13,
          21,
          13,
          30,
          36,
          25,
          29,
          43,
          23,
          27,
          28,
          33,
          8,
          2,
          4,
          11,
          3,
          3,
          11,
          7,
          16,
          11,
          12,
          21,
          13,
          10,
          17,
          14,
          6,
          14,
          16,
          18,
          8,
          10,
          16,
          26,
          13,
          9,
          21,
          16,
          9,
          16,
          7,
          24,
          24,
          34,
          30,
          36,
          19,
          14,
          15,
          23,
          27,
          27,
          30,
          42,
          29,
          17,
          30,
          43,
          1,
          4,
          1,
          1,
          1,
          1,
          1,
          3,
          4,
          2,
          2,
          8,
          4,
          3,
          4,
          3,
          6,
          3,
          3,
          5,
          3,
          1,
          7,
          3,
          6,
          4,
          7,
          8,
          3,
          7,
          7,
          7,
          4,
          3,
          5,
          2,
          8,
          4,
          7,
          6,
          4,
          2,
          8,
          8,
          1,
          3,
          4,
          5,
          1,
          2,
          2,
          3,
          7,
          2,
          8,
          5,
          7,
          6,
          3,
          4,
          4,
          1,
          6,
          6,
          8,
          1,
          8,
          8,
          6,
          4,
          2,
          7,
          5,
          7,
          10,
          6,
          8,
          7,
          9,
          9,
          7,
          5,
          5,
          22,
          7,
          10,
          9,
          17,
          9,
          7,
          19,
          12,
          19,
          15,
          22,
          22,
          7,
          11,
          19,
          25,
          32,
          26,
          40,
          38,
          26,
          33,
          35,
          44,
          24,
          30,
          41,
          53,
          29,
          25,
          35,
          49,
          33,
          39,
          37,
          50,
          23,
          32,
          28,
          38,
          56,
          55,
          81,
          82,
          32,
          35,
          46,
          71,
          60,
          76,
          81,
          99,
          73,
          63,
          82,
          106,
          49,
          32,
          45,
          93,
          31,
          39,
          48,
          58,
          101,
          75,
          84,
          144,
          80,
          89,
          111,
          131,
          70,
          91,
          138,
          145,
          81,
          77,
          125,
          143,
          82,
          76,
          127,
          124,
          97,
          96,
          110,
          140,
          166,
          182,
          223,
          281,
          97,
          88,
          117,
          166,
          186,
          184,
          212,
          267,
          152,
          181,
          197,
          278,
          9,
          10,
          22,
          28,
          8,
          14,
          16,
          21,
          21,
          27,
          37,
          55,
          24,
          37,
          22,
          25,
          27,
          22,
          42,
          42,
          21,
          27,
          36,
          43,
          27,
          21,
          32,
          49,
          26,
          30,
          37,
          36,
          45,
          48,
          45,
          90,
          30,
          41,
          29,
          57,
          60,
          61,
          73,
          90,
          49,
          67,
          59,
          75,
          77,
          57,
          89,
          143,
          46,
          64,
          83,
          104,
          154,
          128,
          161,
          237,
          130,
          159,
          168,
          200,
          121,
          143,
          221,
          240,
          131,
          129,
          196,
          235,
          142,
          136,
          196,
          223,
          146,
          158,
          175,
          214,
          267,
          285,
          349,
          453,
          159,
          164,
          192,
          294,
          306,
          321,
          366,
          456,
          274,
          311,
          338,
          459,
          1953,
          2055,
          2534,
          3258,
          9800
         ]
        }
       ],
       "layout": {
        "coloraxis": {
         "colorbar": {
          "title": {
           "text": "Sales"
          }
         },
         "colorscale": [
          [
           0,
           "#440154"
          ],
          [
           0.1111111111111111,
           "#482878"
          ],
          [
           0.2222222222222222,
           "#3e4989"
          ],
          [
           0.3333333333333333,
           "#31688e"
          ],
          [
           0.4444444444444444,
           "#26828e"
          ],
          [
           0.5555555555555556,
           "#1f9e89"
          ],
          [
           0.6666666666666666,
           "#35b779"
          ],
          [
           0.7777777777777778,
           "#6ece58"
          ],
          [
           0.8888888888888888,
           "#b5de2b"
          ],
          [
           1,
           "#fde725"
          ]
         ]
        },
        "legend": {
         "tracegroupgap": 0
        },
        "margin": {
         "b": 0,
         "l": 0,
         "r": 0,
         "t": 0
        },
        "template": {
         "data": {
          "bar": [
           {
            "error_x": {
             "color": "#2a3f5f"
            },
            "error_y": {
             "color": "#2a3f5f"
            },
            "marker": {
             "line": {
              "color": "#E5ECF6",
              "width": 0.5
             },
             "pattern": {
              "fillmode": "overlay",
              "size": 10,
              "solidity": 0.2
             }
            },
            "type": "bar"
           }
          ],
          "barpolar": [
           {
            "marker": {
             "line": {
              "color": "#E5ECF6",
              "width": 0.5
             },
             "pattern": {
              "fillmode": "overlay",
              "size": 10,
              "solidity": 0.2
             }
            },
            "type": "barpolar"
           }
          ],
          "carpet": [
           {
            "aaxis": {
             "endlinecolor": "#2a3f5f",
             "gridcolor": "white",
             "linecolor": "white",
             "minorgridcolor": "white",
             "startlinecolor": "#2a3f5f"
            },
            "baxis": {
             "endlinecolor": "#2a3f5f",
             "gridcolor": "white",
             "linecolor": "white",
             "minorgridcolor": "white",
             "startlinecolor": "#2a3f5f"
            },
            "type": "carpet"
           }
          ],
          "choropleth": [
           {
            "colorbar": {
             "outlinewidth": 0,
             "ticks": ""
            },
            "type": "choropleth"
           }
          ],
          "contour": [
           {
            "colorbar": {
             "outlinewidth": 0,
             "ticks": ""
            },
            "colorscale": [
             [
              0,
              "#0d0887"
             ],
             [
              0.1111111111111111,
              "#46039f"
             ],
             [
              0.2222222222222222,
              "#7201a8"
             ],
             [
              0.3333333333333333,
              "#9c179e"
             ],
             [
              0.4444444444444444,
              "#bd3786"
             ],
             [
              0.5555555555555556,
              "#d8576b"
             ],
             [
              0.6666666666666666,
              "#ed7953"
             ],
             [
              0.7777777777777778,
              "#fb9f3a"
             ],
             [
              0.8888888888888888,
              "#fdca26"
             ],
             [
              1,
              "#f0f921"
             ]
            ],
            "type": "contour"
           }
          ],
          "contourcarpet": [
           {
            "colorbar": {
             "outlinewidth": 0,
             "ticks": ""
            },
            "type": "contourcarpet"
           }
          ],
          "heatmap": [
           {
            "colorbar": {
             "outlinewidth": 0,
             "ticks": ""
            },
            "colorscale": [
             [
              0,
              "#0d0887"
             ],
             [
              0.1111111111111111,
              "#46039f"
             ],
             [
              0.2222222222222222,
              "#7201a8"
             ],
             [
              0.3333333333333333,
              "#9c179e"
             ],
             [
              0.4444444444444444,
              "#bd3786"
             ],
             [
              0.5555555555555556,
              "#d8576b"
             ],
             [
              0.6666666666666666,
              "#ed7953"
             ],
             [
              0.7777777777777778,
              "#fb9f3a"
             ],
             [
              0.8888888888888888,
              "#fdca26"
             ],
             [
              1,
              "#f0f921"
             ]
            ],
            "type": "heatmap"
           }
          ],
          "heatmapgl": [
           {
            "colorbar": {
             "outlinewidth": 0,
             "ticks": ""
            },
            "colorscale": [
             [
              0,
              "#0d0887"
             ],
             [
              0.1111111111111111,
              "#46039f"
             ],
             [
              0.2222222222222222,
              "#7201a8"
             ],
             [
              0.3333333333333333,
              "#9c179e"
             ],
             [
              0.4444444444444444,
              "#bd3786"
             ],
             [
              0.5555555555555556,
              "#d8576b"
             ],
             [
              0.6666666666666666,
              "#ed7953"
             ],
             [
              0.7777777777777778,
              "#fb9f3a"
             ],
             [
              0.8888888888888888,
              "#fdca26"
             ],
             [
              1,
              "#f0f921"
             ]
            ],
            "type": "heatmapgl"
           }
          ],
          "histogram": [
           {
            "marker": {
             "pattern": {
              "fillmode": "overlay",
              "size": 10,
              "solidity": 0.2
             }
            },
            "type": "histogram"
           }
          ],
          "histogram2d": [
           {
            "colorbar": {
             "outlinewidth": 0,
             "ticks": ""
            },
            "colorscale": [
             [
              0,
              "#0d0887"
             ],
             [
              0.1111111111111111,
              "#46039f"
             ],
             [
              0.2222222222222222,
              "#7201a8"
             ],
             [
              0.3333333333333333,
              "#9c179e"
             ],
             [
              0.4444444444444444,
              "#bd3786"
             ],
             [
              0.5555555555555556,
              "#d8576b"
             ],
             [
              0.6666666666666666,
              "#ed7953"
             ],
             [
              0.7777777777777778,
              "#fb9f3a"
             ],
             [
              0.8888888888888888,
              "#fdca26"
             ],
             [
              1,
              "#f0f921"
             ]
            ],
            "type": "histogram2d"
           }
          ],
          "histogram2dcontour": [
           {
            "colorbar": {
             "outlinewidth": 0,
             "ticks": ""
            },
            "colorscale": [
             [
              0,
              "#0d0887"
             ],
             [
              0.1111111111111111,
              "#46039f"
             ],
             [
              0.2222222222222222,
              "#7201a8"
             ],
             [
              0.3333333333333333,
              "#9c179e"
             ],
             [
              0.4444444444444444,
              "#bd3786"
             ],
             [
              0.5555555555555556,
              "#d8576b"
             ],
             [
              0.6666666666666666,
              "#ed7953"
             ],
             [
              0.7777777777777778,
              "#fb9f3a"
             ],
             [
              0.8888888888888888,
              "#fdca26"
             ],
             [
              1,
              "#f0f921"
             ]
            ],
            "type": "histogram2dcontour"
           }
          ],
          "mesh3d": [
           {
            "colorbar": {
             "outlinewidth": 0,
             "ticks": ""
            },
            "type": "mesh3d"
           }
          ],
          "parcoords": [
           {
            "line": {
             "colorbar": {
              "outlinewidth": 0,
              "ticks": ""
             }
            },
            "type": "parcoords"
           }
          ],
          "pie": [
           {
            "automargin": true,
            "type": "pie"
           }
          ],
          "scatter": [
           {
            "fillpattern": {
             "fillmode": "overlay",
             "size": 10,
             "solidity": 0.2
            },
            "type": "scatter"
           }
          ],
          "scatter3d": [
           {
            "line": {
             "colorbar": {
              "outlinewidth": 0,
              "ticks": ""
             }
            },
            "marker": {
             "colorbar": {
              "outlinewidth": 0,
              "ticks": ""
             }
            },
            "type": "scatter3d"
           }
          ],
          "scattercarpet": [
           {
            "marker": {
             "colorbar": {
              "outlinewidth": 0,
              "ticks": ""
             }
            },
            "type": "scattercarpet"
           }
          ],
          "scattergeo": [
           {
            "marker": {
             "colorbar": {
              "outlinewidth": 0,
              "ticks": ""
             }
            },
            "type": "scattergeo"
           }
          ],
          "scattergl": [
           {
            "marker": {
             "colorbar": {
              "outlinewidth": 0,
              "ticks": ""
             }
            },
            "type": "scattergl"
           }
          ],
          "scattermapbox": [
           {
            "marker": {
             "colorbar": {
              "outlinewidth": 0,
              "ticks": ""
             }
            },
            "type": "scattermapbox"
           }
          ],
          "scatterpolar": [
           {
            "marker": {
             "colorbar": {
              "outlinewidth": 0,
              "ticks": ""
             }
            },
            "type": "scatterpolar"
           }
          ],
          "scatterpolargl": [
           {
            "marker": {
             "colorbar": {
              "outlinewidth": 0,
              "ticks": ""
             }
            },
            "type": "scatterpolargl"
           }
          ],
          "scatterternary": [
           {
            "marker": {
             "colorbar": {
              "outlinewidth": 0,
              "ticks": ""
             }
            },
            "type": "scatterternary"
           }
          ],
          "surface": [
           {
            "colorbar": {
             "outlinewidth": 0,
             "ticks": ""
            },
            "colorscale": [
             [
              0,
              "#0d0887"
             ],
             [
              0.1111111111111111,
              "#46039f"
             ],
             [
              0.2222222222222222,
              "#7201a8"
             ],
             [
              0.3333333333333333,
              "#9c179e"
             ],
             [
              0.4444444444444444,
              "#bd3786"
             ],
             [
              0.5555555555555556,
              "#d8576b"
             ],
             [
              0.6666666666666666,
              "#ed7953"
             ],
             [
              0.7777777777777778,
              "#fb9f3a"
             ],
             [
              0.8888888888888888,
              "#fdca26"
             ],
             [
              1,
              "#f0f921"
             ]
            ],
            "type": "surface"
           }
          ],
          "table": [
           {
            "cells": {
             "fill": {
              "color": "#EBF0F8"
             },
             "line": {
              "color": "white"
             }
            },
            "header": {
             "fill": {
              "color": "#C8D4E3"
             },
             "line": {
              "color": "white"
             }
            },
            "type": "table"
           }
          ]
         },
         "layout": {
          "annotationdefaults": {
           "arrowcolor": "#2a3f5f",
           "arrowhead": 0,
           "arrowwidth": 1
          },
          "autotypenumbers": "strict",
          "coloraxis": {
           "colorbar": {
            "outlinewidth": 0,
            "ticks": ""
           }
          },
          "colorscale": {
           "diverging": [
            [
             0,
             "#8e0152"
            ],
            [
             0.1,
             "#c51b7d"
            ],
            [
             0.2,
             "#de77ae"
            ],
            [
             0.3,
             "#f1b6da"
            ],
            [
             0.4,
             "#fde0ef"
            ],
            [
             0.5,
             "#f7f7f7"
            ],
            [
             0.6,
             "#e6f5d0"
            ],
            [
             0.7,
             "#b8e186"
            ],
            [
             0.8,
             "#7fbc41"
            ],
            [
             0.9,
             "#4d9221"
            ],
            [
             1,
             "#276419"
            ]
           ],
           "sequential": [
            [
             0,
             "#0d0887"
            ],
            [
             0.1111111111111111,
             "#46039f"
            ],
            [
             0.2222222222222222,
             "#7201a8"
            ],
            [
             0.3333333333333333,
             "#9c179e"
            ],
            [
             0.4444444444444444,
             "#bd3786"
            ],
            [
             0.5555555555555556,
             "#d8576b"
            ],
            [
             0.6666666666666666,
             "#ed7953"
            ],
            [
             0.7777777777777778,
             "#fb9f3a"
            ],
            [
             0.8888888888888888,
             "#fdca26"
            ],
            [
             1,
             "#f0f921"
            ]
           ],
           "sequentialminus": [
            [
             0,
             "#0d0887"
            ],
            [
             0.1111111111111111,
             "#46039f"
            ],
            [
             0.2222222222222222,
             "#7201a8"
            ],
            [
             0.3333333333333333,
             "#9c179e"
            ],
            [
             0.4444444444444444,
             "#bd3786"
            ],
            [
             0.5555555555555556,
             "#d8576b"
            ],
            [
             0.6666666666666666,
             "#ed7953"
            ],
            [
             0.7777777777777778,
             "#fb9f3a"
            ],
            [
             0.8888888888888888,
             "#fdca26"
            ],
            [
             1,
             "#f0f921"
            ]
           ]
          },
          "colorway": [
           "#636efa",
           "#EF553B",
           "#00cc96",
           "#ab63fa",
           "#FFA15A",
           "#19d3f3",
           "#FF6692",
           "#B6E880",
           "#FF97FF",
           "#FECB52"
          ],
          "font": {
           "color": "#2a3f5f"
          },
          "geo": {
           "bgcolor": "white",
           "lakecolor": "white",
           "landcolor": "#E5ECF6",
           "showlakes": true,
           "showland": true,
           "subunitcolor": "white"
          },
          "hoverlabel": {
           "align": "left"
          },
          "hovermode": "closest",
          "mapbox": {
           "style": "light"
          },
          "paper_bgcolor": "white",
          "plot_bgcolor": "#E5ECF6",
          "polar": {
           "angularaxis": {
            "gridcolor": "white",
            "linecolor": "white",
            "ticks": ""
           },
           "bgcolor": "#E5ECF6",
           "radialaxis": {
            "gridcolor": "white",
            "linecolor": "white",
            "ticks": ""
           }
          },
          "scene": {
           "xaxis": {
            "backgroundcolor": "#E5ECF6",
            "gridcolor": "white",
            "gridwidth": 2,
            "linecolor": "white",
            "showbackground": true,
            "ticks": "",
            "zerolinecolor": "white"
           },
           "yaxis": {
            "backgroundcolor": "#E5ECF6",
            "gridcolor": "white",
            "gridwidth": 2,
            "linecolor": "white",
            "showbackground": true,
            "ticks": "",
            "zerolinecolor": "white"
           },
           "zaxis": {
            "backgroundcolor": "#E5ECF6",
            "gridcolor": "white",
            "gridwidth": 2,
            "linecolor": "white",
            "showbackground": true,
            "ticks": "",
            "zerolinecolor": "white"
           }
          },
          "shapedefaults": {
           "line": {
            "color": "#2a3f5f"
           }
          },
          "ternary": {
           "aaxis": {
            "gridcolor": "white",
            "linecolor": "white",
            "ticks": ""
           },
           "baxis": {
            "gridcolor": "white",
            "linecolor": "white",
            "ticks": ""
           },
           "bgcolor": "#E5ECF6",
           "caxis": {
            "gridcolor": "white",
            "linecolor": "white",
            "ticks": ""
           }
          },
          "title": {
           "x": 0.05
          },
          "xaxis": {
           "automargin": true,
           "gridcolor": "white",
           "linecolor": "white",
           "ticks": "",
           "title": {
            "standoff": 15
           },
           "zerolinecolor": "white",
           "zerolinewidth": 2
          },
          "yaxis": {
           "automargin": true,
           "gridcolor": "white",
           "linecolor": "white",
           "ticks": "",
           "title": {
            "standoff": 15
           },
           "zerolinecolor": "white",
           "zerolinewidth": 2
          }
         }
        }
       }
      }
     },
     "metadata": {},
     "output_type": "display_data"
    }
   ],
   "source": [
    "\n",
    "# Count the total sales by year and month and group by year, month, category, sub-category and count the sales total transactions it made in that month\n",
    "df_summary = df.groupby(['Year', 'Month', 'Category', 'Sub-Category'])['Sales'].count().reset_index()\n",
    "\n",
    "# Sort the data by year, month, and sales\n",
    "df_summary = df_summary.sort_values(by=['Year','Sales'], ascending=False)\n",
    "\n",
    "# create a scater plot that show the year-month, category,and total transactions\n",
    "fig = px.treemap(df_summary, path=[px.Constant(\"all\"),'Year', 'Month', 'Category', 'Sub-Category'], values='Sales',\n",
    "                    color='Sales', hover_data=['Sales'],\n",
    "                    color_continuous_scale='viridis')\n",
    "# adjust the layout\n",
    "fig.update_layout(margin = dict(t=0, l=0, r=0, b=0))\n",
    "fig.update_traces(textinfo='label+text+value')\n",
    "fig.show()\n",
    "\n"
   ]
  },
  {
   "cell_type": "markdown",
   "metadata": {},
   "source": [
    "# 4. Model Building"
   ]
  }
 ],
 "metadata": {
  "kernelspec": {
   "display_name": "base",
   "language": "python",
   "name": "python3"
  },
  "language_info": {
   "codemirror_mode": {
    "name": "ipython",
    "version": 3
   },
   "file_extension": ".py",
   "mimetype": "text/x-python",
   "name": "python",
   "nbconvert_exporter": "python",
   "pygments_lexer": "ipython3",
   "version": "3.11.5"
  }
 },
 "nbformat": 4,
 "nbformat_minor": 2
}
